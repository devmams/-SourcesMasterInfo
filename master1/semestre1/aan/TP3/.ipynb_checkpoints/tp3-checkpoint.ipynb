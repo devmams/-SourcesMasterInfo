{
 "cells": [
  {
   "cell_type": "markdown",
   "metadata": {},
   "source": [
    "# <span style=\"color:green; font-family:Georgia; font-size:0.9m;\"> NOM ET PRENOM : DIALLO MAMADOU"
   ]
  },
  {
   "cell_type": "markdown",
   "metadata": {},
   "source": [
    "# <span style=\"text-align=center; color:DarkMagenta; font-family:Georgia; font-size:1.2em;\"> **   _ M1- TP3 Apprentissage Automatique et Numérique_** </span>\n"
   ]
  },
  {
   "cell_type": "markdown",
   "metadata": {},
   "source": [
    "# <span style=\"color:green; font-family:Georgia; font-size:1.5m;\"> 1- Préparation des données"
   ]
  },
  {
   "cell_type": "code",
   "execution_count": 1,
   "metadata": {
    "collapsed": false
   },
   "outputs": [],
   "source": [
    "import numpy as np\n",
    "import matplotlib.pyplot as plt"
   ]
  },
  {
   "cell_type": "markdown",
   "metadata": {},
   "source": [
    "# <span style=\"color:green; font-family:Georgia; font-size:0.8em;\"> 1. Division de l’échantillon d’apprentissage"
   ]
  },
  {
   "cell_type": "code",
   "execution_count": 2,
   "metadata": {
    "collapsed": true
   },
   "outputs": [],
   "source": [
    "fichier = open(\"house-votes-84.txt\", \"r\")\n",
    "lignes = fichier.readlines()\n",
    "\n",
    "# republican = 1 ,democrat = -1 ,y = 1, n = -1 et ? = 0\n",
    "def choixVote(ch):\n",
    "    if ch == 'republican':\n",
    "        return 1\n",
    "    elif ch == 'democrat':\n",
    "        return -1\n",
    "    elif ch == 'y':\n",
    "        return 1\n",
    "    elif ch == 'n':\n",
    "        return -1\n",
    "    else:\n",
    "        return 0"
   ]
  },
  {
   "cell_type": "code",
   "execution_count": 3,
   "metadata": {
    "collapsed": false,
    "scrolled": true
   },
   "outputs": [
    {
     "name": "stdout",
     "output_type": "stream",
     "text": [
      "[[ 1 -1  0 ...  1 -1 -1]\n",
      " [-1  1 -1 ... -1 -1  1]\n",
      " [ 1 -1  1 ...  1 -1 -1]\n",
      " ...\n",
      " [-1  1 -1 ...  1  1  0]\n",
      " [ 1 -1  1 ...  1  0 -1]\n",
      " [-1  1 -1 ... -1  1  0]]\n"
     ]
    }
   ],
   "source": [
    "Vote = []\n",
    "\n",
    "i = 0\n",
    "for ligne in lignes:\n",
    "    ligne = ligne.replace('\\n','')\n",
    "    t = ligne.split(',')\n",
    "    for i in range(0,len(t)):\n",
    "        Vote.append(choixVote(t[i]))\n",
    "\n",
    "Vote = np.reshape(Vote,(-1,17))\n",
    "np.random.seed(987654321)\n",
    "np.random.shuffle(Vote)\n",
    "print(Vote)"
   ]
  },
  {
   "cell_type": "code",
   "execution_count": 4,
   "metadata": {
    "collapsed": false
   },
   "outputs": [],
   "source": [
    "Target = Vote[:,0]\n",
    "Data = Vote[:,1:]"
   ]
  },
  {
   "cell_type": "code",
   "execution_count": 5,
   "metadata": {
    "collapsed": false
   },
   "outputs": [],
   "source": [
    "def ajoutSeuil(vect,Data):\n",
    "    tabRes = np.array([ ( [0]* (len(Data[0])+1) ) ]*len(Data))\n",
    "    for i in range(0,len(Data)):\n",
    "        tabRes[i][0]=vect[i]\n",
    "        for j in range(1,len(tabRes[i])):\n",
    "            tabRes[i][j] = Data[i][j-1]\n",
    "    return tabRes\n"
   ]
  },
  {
   "cell_type": "code",
   "execution_count": 6,
   "metadata": {
    "collapsed": true
   },
   "outputs": [],
   "source": [
    "def inversionSigne(Data):\n",
    "    for i in range(0,len(Data)):\n",
    "        if(Data[i][0] == (-1)):\n",
    "            for j in range(1,len(Data[i])):\n",
    "                Data[i][j] = Data[i][j]*(-1)"
   ]
  },
  {
   "cell_type": "code",
   "execution_count": 7,
   "metadata": {
    "collapsed": false,
    "scrolled": false
   },
   "outputs": [
    {
     "name": "stdout",
     "output_type": "stream",
     "text": [
      "[[ 1 -1  0 ...  1 -1 -1]\n",
      " [-1  1 -1 ... -1 -1  1]\n",
      " [ 1 -1  1 ...  1 -1 -1]\n",
      " ...\n",
      " [ 1 -1  1 ...  1 -1 -1]\n",
      " [ 1 -1 -1 ...  1 -1  0]\n",
      " [-1 -1  1 ... -1  1  1]]\n",
      "------\n",
      "[[ 1 -1  0 ...  1 -1 -1]\n",
      " [-1 -1  1 ...  1  1 -1]\n",
      " [ 1 -1  1 ...  1 -1 -1]\n",
      " ...\n",
      " [ 1 -1  1 ...  1 -1 -1]\n",
      " [ 1 -1 -1 ...  1 -1  0]\n",
      " [-1  1 -1 ...  1 -1 -1]]\n",
      "17\n"
     ]
    }
   ],
   "source": [
    "nbExempleTrain = 335\n",
    "TrainData = Data[0:nbExempleTrain,:]\n",
    "TrainTarget = Target[0:nbExempleTrain]\n",
    "TrainData = ajoutSeuil(TrainTarget,TrainData)\n",
    "inversionSigne(TrainData)\n",
    "print(TrainData)\n",
    "print(TrainTarget)"
   ]
  },
  {
   "cell_type": "code",
   "execution_count": 8,
   "metadata": {
    "collapsed": false
   },
   "outputs": [
    {
     "name": "stdout",
     "output_type": "stream",
     "text": [
      "[[ 1  1  1 ...  1  1  1]\n",
      " [ 1 -1 -1 ... -1  0  1]\n",
      " [ 1  1  1 ... -1 -1  1]\n",
      " ...\n",
      " [ 1  1 -1 ...  1  1  0]\n",
      " [ 1 -1  1 ...  1  0 -1]\n",
      " [ 1  1 -1 ... -1  1  0]]\n",
      "17\n",
      "[-1 -1 -1 -1  1  1  1  1  1 -1 -1  1  1 -1 -1 -1 -1  1 -1  1 -1  1  1 -1\n",
      " -1  1  1 -1 -1 -1 -1 -1 -1  1 -1 -1  1 -1 -1 -1  1 -1 -1 -1 -1 -1 -1 -1\n",
      " -1  1  1 -1  1  1 -1  1  1 -1  1 -1 -1 -1  1 -1 -1 -1 -1 -1 -1 -1 -1 -1\n",
      " -1 -1 -1  1 -1  1  1 -1 -1  1 -1 -1 -1  1 -1 -1 -1  1  1  1 -1  1  1  1\n",
      " -1 -1  1 -1]\n"
     ]
    }
   ],
   "source": [
    "TestData = Data[nbExempleTrain:,:]\n",
    "TestTarget = Target[nbExempleTrain:]\n",
    "TestData = ajoutSeuil([1]*len(TestData),TestData)\n",
    "print(TestData)\n",
    "print(TestTarget)"
   ]
  },
  {
   "cell_type": "markdown",
   "metadata": {},
   "source": [
    "# <span style=\"color:green; font-family:Georgia; font-size:1.5m;\"> 2- classify"
   ]
  },
  {
   "cell_type": "code",
   "execution_count": 9,
   "metadata": {
    "collapsed": false
   },
   "outputs": [],
   "source": [
    "def classify(element,vectPoids):\n",
    "    res = sum(element * vectPoids)\n",
    "    if(res >= 0):\n",
    "        return 1\n",
    "    return -1"
   ]
  },
  {
   "cell_type": "markdown",
   "metadata": {},
   "source": [
    "# <span style=\"color:green; font-family:Georgia; font-size:1.5m;\"> 3- test"
   ]
  },
  {
   "cell_type": "code",
   "execution_count": 10,
   "metadata": {
    "collapsed": false
   },
   "outputs": [],
   "source": [
    "def test(Data,Target,VectPoids):\n",
    "    prediction = []\n",
    "    for i in range(0,len(Data)):\n",
    "        prediction.append(classify(Data[i],VectPoids))\n",
    "    nbErreur = 0.0\n",
    "    for i in range(0,len(Target)):\n",
    "        if Target[i] != prediction[i]:\n",
    "            nbErreur += 1\n",
    "    return 100 * nbErreur/len(Target)"
   ]
  },
  {
   "cell_type": "code",
   "execution_count": 11,
   "metadata": {
    "collapsed": true
   },
   "outputs": [],
   "source": [
    "def negatif(Data,vectPoids):\n",
    "    return sum(Data*vecteurPoids) < 0"
   ]
  },
  {
   "cell_type": "markdown",
   "metadata": {
    "collapsed": true,
    "scrolled": true
   },
   "source": [
    "# <span style=\"color:green; font-family:Georgia; font-size:1.5m;\"> 4- Train"
   ]
  },
  {
   "cell_type": "markdown",
   "metadata": {},
   "source": [
    "# <span style=\"color:green; font-family:Georgia; font-size:1.5m;\"> 4-1 Train en fonction du nombre d'itération"
   ]
  },
  {
   "cell_type": "code",
   "execution_count": 30,
   "metadata": {
    "collapsed": true
   },
   "outputs": [],
   "source": [
    "def trainNbIteration(nbIter,Data,vectPoids,alpha):\n",
    "    tabError = []\n",
    "    nbErr = 0\n",
    "    it = 0\n",
    "    tauxErr = 100\n",
    "    while(it < nbIter):\n",
    "        i=0\n",
    "        while(i<len(TrainData)):\n",
    "            result = sum(TrainData[i]*vectPoids)\n",
    "            if(result < 0):\n",
    "                vectPoids = vectPoids + (alpha*Data[i])\n",
    "                nbErr += 1\n",
    "            i += 1\n",
    "        tauxErr = 100*(nbErr/len(TrainData))\n",
    "        tabError.append(tauxErr)\n",
    "        nbErr = 0\n",
    "        it += 1\n",
    "    return tabError,vectPoids"
   ]
  },
  {
   "cell_type": "markdown",
   "metadata": {},
   "source": [
    "# <span style=\"color:green; font-family:Georgia; font-size:1.5m;\"> 4-2 Train en fonction du nombre d'itération et d'un taux erreur minimal"
   ]
  },
  {
   "cell_type": "code",
   "execution_count": 31,
   "metadata": {
    "collapsed": false
   },
   "outputs": [],
   "source": [
    "def trainTauxError(minTauxError,nbIter,Data,vectPoids,alpha):\n",
    "    tabError = []\n",
    "    nbErr = 0\n",
    "    it = 0\n",
    "    tauxErr = 100\n",
    "    while(tauxErr >= minTauxError and it < nbIter):\n",
    "        i=0\n",
    "        while(i<len(TrainData)):\n",
    "            result = sum(TrainData[i]*vectPoids)\n",
    "            if(result < 0):\n",
    "                vectPoids = vectPoids + (alpha*Data[i])\n",
    "                nbErr += 1\n",
    "            i += 1\n",
    "        tauxErr = 100*(nbErr/len(TrainData))\n",
    "        #print(\"it \", it ,\" : \",tauxErr)\n",
    "        tabError.append(tauxErr)\n",
    "        nbErr = 0\n",
    "        it += 1\n",
    "    return tabError,vectPoids"
   ]
  },
  {
   "cell_type": "code",
   "execution_count": 32,
   "metadata": {
    "collapsed": false,
    "scrolled": true
   },
   "outputs": [
    {
     "name": "stdout",
     "output_type": "stream",
     "text": [
      "[7.761194029850746, 4.776119402985075, 3.582089552238806, 4.179104477611941, 4.179104477611941, 5.074626865671641, 4.179104477611941, 2.6865671641791042, 4.776119402985075, 3.582089552238806, 4.179104477611941, 4.179104477611941, 4.179104477611941, 5.970149253731343, 4.179104477611941, 4.776119402985075, 5.3731343283582085, 4.477611940298507, 4.477611940298507, 4.776119402985075, 4.776119402985075, 4.179104477611941, 3.880597014925373, 3.880597014925373, 3.582089552238806, 3.2835820895522385, 4.477611940298507, 3.582089552238806, 4.776119402985075, 3.2835820895522385, 3.2835820895522385, 4.179104477611941, 4.179104477611941, 4.179104477611941, 3.880597014925373, 3.880597014925373, 4.477611940298507, 3.582089552238806, 5.074626865671641, 4.179104477611941, 4.179104477611941, 3.582089552238806, 3.582089552238806, 4.179104477611941, 2.9850746268656714, 4.477611940298507, 3.880597014925373, 4.179104477611941, 3.582089552238806, 4.179104477611941, 3.880597014925373, 4.477611940298507, 3.582089552238806, 2.6865671641791042, 3.880597014925373, 4.776119402985075, 3.2835820895522385, 2.3880597014925375, 3.582089552238806, 3.880597014925373, 2.6865671641791042, 3.880597014925373, 2.9850746268656714, 4.776119402985075, 4.179104477611941, 4.477611940298507, 3.582089552238806, 4.179104477611941, 2.6865671641791042, 3.582089552238806, 3.880597014925373, 4.776119402985075, 4.776119402985075, 3.582089552238806, 3.582089552238806, 3.880597014925373, 3.582089552238806, 4.179104477611941, 5.074626865671641, 2.6865671641791042, 3.582089552238806, 3.880597014925373, 3.582089552238806, 3.880597014925373, 3.880597014925373, 2.0895522388059704, 3.880597014925373, 4.776119402985075, 2.9850746268656714, 3.2835820895522385, 4.776119402985075, 3.880597014925373, 3.582089552238806, 3.880597014925373, 2.9850746268656714, 4.179104477611941, 3.582089552238806, 3.2835820895522385, 4.776119402985075, 3.880597014925373]\n",
      "----\n",
      "[7.761194029850746, 4.776119402985075, 3.582089552238806, 4.179104477611941, 4.179104477611941, 5.074626865671641, 4.179104477611941, 2.6865671641791042]\n"
     ]
    }
   ],
   "source": [
    "vecteurPoids = [1,0,0,0,0,0,0,0,0,0,0,0,0,0,0,0,0]\n",
    "\n",
    "tabTauxErr1,vect1 = trainNbIteration(100,TrainData,vecteurPoids,1)\n",
    "tabTauxErr2,vect2 = trainTauxError(3,100,TrainData,vecteurPoids,1)"
   ]
  },
  {
   "cell_type": "markdown",
   "metadata": {},
   "source": [
    "# <span style=\"color:green; font-family:Georgia; font-size:1.5m;\"> 5- Tracé de courbe"
   ]
  },
  {
   "cell_type": "markdown",
   "metadata": {},
   "source": [
    "# <span style=\"color:green; font-family:Georgia; font-size:1.5m;\"> 5-1 Courbe du taux erreur en fonction du nombre d'itération"
   ]
  },
  {
   "cell_type": "code",
   "execution_count": 33,
   "metadata": {
    "collapsed": false
   },
   "outputs": [
    {
     "data": {
      "image/png": "[encoded data removed]",
      "text/plain": [
       "<Figure size 432x288 with 1 Axes>"
      ]
     },
     "metadata": {},
     "output_type": "display_data"
    }
   ],
   "source": [
    "plt.plot(tabTauxErr1)\n",
    "plt.show()\n"
   ]
  },
  {
   "cell_type": "markdown",
   "metadata": {},
   "source": [
    "# <span style=\"color:green; font-family:Georgia; font-size:1.5m;\"> 5-2 Courbe du taux erreur en fonction du nombre d'iteration et du taux erreur minimal"
   ]
  },
  {
   "cell_type": "code",
   "execution_count": 35,
   "metadata": {
    "collapsed": false
   },
   "outputs": [
    {
     "data": {
      "image/png": "[encoded data removed]",
      "text/plain": [
       "<Figure size 432x288 with 1 Axes>"
      ]
     },
     "metadata": {},
     "output_type": "display_data"
    }
   ],
   "source": [
    "plt.plot(tabTauxErr2)\n",
    "plt.show()"
   ]
  },
  {
   "cell_type": "markdown",
   "metadata": {
    "collapsed": true
   },
   "source": []
  },
  {
   "cell_type": "code",
   "execution_count": null,
   "metadata": {
    "collapsed": true
   },
   "outputs": [],
   "source": []
  },
  {
   "cell_type": "code",
   "execution_count": null,
   "metadata": {
    "collapsed": true
   },
   "outputs": [],
   "source": []
  }
 ],
 "metadata": {
  "kernelspec": {
   "display_name": "Python 3",
   "language": "python",
   "name": "python3"
  },
  "language_info": {
   "codemirror_mode": {
    "name": "ipython",
    "version": 3
   },
   "file_extension": ".py",
   "mimetype": "text/x-python",
   "name": "python",
   "nbconvert_exporter": "python",
   "pygments_lexer": "ipython3",
   "version": "3.6.3"
  }
 },
 "nbformat": 4,
 "nbformat_minor": 2
}
