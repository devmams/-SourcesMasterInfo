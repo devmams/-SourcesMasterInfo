{
 "cells": [
  {
   "cell_type": "markdown",
   "metadata": {},
   "source": [
    "# <span style=\"color:green; font-family:Georgia; font-size:0.9m;\"> NOM ET PRENOM : DIALLO MAMADOU"
   ]
  },
  {
   "cell_type": "markdown",
   "metadata": {},
   "source": [
    "# <span style=\"text-align=center; color:DarkMagenta; font-family:Georgia; font-size:1.2em;\"> **   _ M1- TP2 Apprentissage Automatique et Numérique_** </span>\n"
   ]
  },
  {
   "cell_type": "markdown",
   "metadata": {},
   "source": [
    "# <span style=\"color:green; font-family:Georgia; font-size:1.5m;\"> Chargement des données"
   ]
  },
  {
   "cell_type": "code",
   "execution_count": 1,
   "metadata": {
    "collapsed": false
   },
   "outputs": [],
   "source": [
    "import matplotlib.pyplot as plt\n",
    "import seaborn as sns\n",
    "from sklearn import datasets\n",
    "iris = datasets.load_iris()\n",
    "# print (iris.data)\n",
    "# print (iris.target)\n",
    "iris_sns = sns.load_dataset(\"iris\")\n",
    "iris_sns.head()\n",
    "sns.pairplot(iris_sns, hue='species', height=2.5);"
   ]
  },
  {
   "cell_type": "markdown",
   "metadata": {},
   "source": [
    "# <span style=\"color:green; font-family:Georgia; font-size:0.8em;\"> 1. Division de l’échantillon d’apprentissage"
   ]
  },
  {
   "cell_type": "code",
   "execution_count": 2,
   "metadata": {
    "collapsed": false,
    "scrolled": true
   },
   "outputs": [
    {
     "name": "stdout",
     "output_type": "stream",
     "text": [
      "[[4.8 3.4 1.6 0.2]\n",
      " [5.5 2.5 4.  1.3]\n",
      " [6.3 3.3 4.7 1.6]\n",
      " [6.1 2.8 4.7 1.2]\n",
      " [5.1 3.8 1.6 0.2]\n",
      " [6.6 3.  4.4 1.4]\n",
      " [5.8 2.6 4.  1.2]\n",
      " [6.6 2.9 4.6 1.3]\n",
      " [5.1 2.5 3.  1.1]\n",
      " [5.2 3.5 1.5 0.2]\n",
      " [7.2 3.2 6.  1.8]\n",
      " [7.2 3.  5.8 1.6]\n",
      " [5.1 3.3 1.7 0.5]\n",
      " [7.2 3.6 6.1 2.5]\n",
      " [6.4 2.8 5.6 2.2]\n",
      " [5.6 2.9 3.6 1.3]\n",
      " [6.2 3.4 5.4 2.3]\n",
      " [5.1 3.5 1.4 0.2]\n",
      " [4.8 3.1 1.6 0.2]\n",
      " [6.7 3.  5.2 2.3]\n",
      " [4.6 3.2 1.4 0.2]\n",
      " [4.6 3.4 1.4 0.3]\n",
      " [6.1 2.8 4.  1.3]\n",
      " [5.7 2.8 4.5 1.3]\n",
      " [5.9 3.  4.2 1.5]\n",
      " [4.8 3.  1.4 0.1]\n",
      " [4.5 2.3 1.3 0.3]\n",
      " [5.5 2.6 4.4 1.2]\n",
      " [5.7 2.5 5.  2. ]\n",
      " [6.4 3.1 5.5 1.8]\n",
      " [6.3 2.9 5.6 1.8]\n",
      " [4.9 3.1 1.5 0.1]\n",
      " [5.  3.2 1.2 0.2]\n",
      " [5.3 3.7 1.5 0.2]\n",
      " [5.2 2.7 3.9 1.4]\n",
      " [5.1 3.5 1.4 0.3]\n",
      " [7.7 2.8 6.7 2. ]\n",
      " [6.3 2.5 4.9 1.5]\n",
      " [6.7 3.1 4.4 1.4]\n",
      " [6.  3.4 4.5 1.6]\n",
      " [5.7 3.8 1.7 0.3]\n",
      " [6.9 3.1 5.4 2.1]\n",
      " [6.5 3.  5.8 2.2]\n",
      " [5.  3.4 1.6 0.4]\n",
      " [4.8 3.4 1.9 0.2]\n",
      " [6.1 2.9 4.7 1.4]\n",
      " [4.9 3.6 1.4 0.1]\n",
      " [4.9 2.4 3.3 1. ]\n",
      " [4.8 3.  1.4 0.3]\n",
      " [6.1 3.  4.6 1.4]\n",
      " [6.7 3.3 5.7 2.5]\n",
      " [6.5 3.  5.5 1.8]\n",
      " [5.5 2.4 3.8 1.1]\n",
      " [5.6 2.7 4.2 1.3]\n",
      " [5.8 2.7 5.1 1.9]\n",
      " [6.1 3.  4.9 1.8]\n",
      " [6.5 3.2 5.1 2. ]\n",
      " [5.  2.3 3.3 1. ]\n",
      " [6.8 3.2 5.9 2.3]\n",
      " [5.8 2.7 4.1 1. ]\n",
      " [6.1 2.6 5.6 1.4]\n",
      " [5.6 3.  4.1 1.3]\n",
      " [5.2 4.1 1.5 0.1]\n",
      " [6.7 3.1 4.7 1.5]\n",
      " [6.4 3.2 5.3 2.3]\n",
      " [5.5 3.5 1.3 0.2]\n",
      " [5.7 3.  4.2 1.2]\n",
      " [6.4 2.9 4.3 1.3]\n",
      " [6.  2.2 4.  1. ]\n",
      " [5.8 4.  1.2 0.2]\n",
      " [4.7 3.2 1.6 0.2]\n",
      " [5.8 2.7 5.1 1.9]\n",
      " [5.  3.3 1.4 0.2]\n",
      " [7.3 2.9 6.3 1.8]\n",
      " [6.4 3.2 4.5 1.5]\n",
      " [5.6 2.8 4.9 2. ]\n",
      " [4.6 3.6 1.  0.2]\n",
      " [4.6 3.1 1.5 0.2]\n",
      " [6.3 2.7 4.9 1.8]\n",
      " [6.2 2.8 4.8 1.8]\n",
      " [6.9 3.1 5.1 2.3]\n",
      " [6.5 3.  5.2 2. ]\n",
      " [6.5 2.8 4.6 1.5]\n",
      " [5.  2.  3.5 1. ]\n",
      " [5.1 3.7 1.5 0.4]\n",
      " [5.8 2.7 3.9 1.2]\n",
      " [5.6 2.5 3.9 1.1]\n",
      " [5.5 2.4 3.7 1. ]\n",
      " [6.7 3.3 5.7 2.1]\n",
      " [5.6 3.  4.5 1.5]\n",
      " [4.3 3.  1.1 0.1]\n",
      " [5.1 3.4 1.5 0.2]\n",
      " [6.3 3.3 6.  2.5]\n",
      " [5.  3.6 1.4 0.2]\n",
      " [7.7 3.8 6.7 2.2]\n",
      " [5.4 3.  4.5 1.5]\n",
      " [6.3 2.5 5.  1.9]\n",
      " [5.  3.5 1.3 0.3]\n",
      " [5.5 2.3 4.  1.3]\n",
      " [5.1 3.8 1.9 0.4]\n",
      " [6.  2.2 5.  1.5]\n",
      " [6.4 2.7 5.3 1.9]\n",
      " [5.  3.5 1.6 0.6]\n",
      " [5.1 3.8 1.5 0.3]\n",
      " [6.2 2.9 4.3 1.3]\n",
      " [6.2 2.2 4.5 1.5]\n",
      " [4.4 3.2 1.3 0.2]\n",
      " [4.9 3.1 1.5 0.2]\n",
      " [6.  2.7 5.1 1.6]\n",
      " [6.3 2.8 5.1 1.5]\n",
      " [6.8 3.  5.5 2.1]\n",
      " [5.4 3.4 1.7 0.2]\n",
      " [6.7 3.  5.  1.7]\n",
      " [6.3 3.4 5.6 2.4]\n",
      " [5.7 4.4 1.5 0.4]\n",
      " [5.2 3.4 1.4 0.2]\n",
      " [7.7 2.6 6.9 2.3]\n",
      " [4.7 3.2 1.3 0.2]\n",
      " [7.  3.2 4.7 1.4]\n",
      " [5.7 2.9 4.2 1.3]\n",
      " [5.4 3.9 1.7 0.4]\n",
      " [6.7 3.1 5.6 2.4]\n",
      " [5.5 4.2 1.4 0.2]\n",
      " [4.4 3.  1.3 0.2]\n",
      " [6.8 2.8 4.8 1.4]\n",
      " [7.9 3.8 6.4 2. ]\n",
      " [7.7 3.  6.1 2.3]\n",
      " [4.4 2.9 1.4 0.2]\n",
      " [7.6 3.  6.6 2.1]\n",
      " [6.4 2.8 5.6 2.1]\n",
      " [7.4 2.8 6.1 1.9]\n",
      " [4.9 2.5 4.5 1.7]\n",
      " [6.9 3.1 4.9 1.5]\n",
      " [6.9 3.2 5.7 2.3]\n",
      " [5.4 3.7 1.5 0.2]\n",
      " [5.8 2.8 5.1 2.4]\n",
      " [6.  2.9 4.5 1.5]\n",
      " [6.7 2.5 5.8 1.8]\n",
      " [5.4 3.9 1.3 0.4]\n",
      " [5.9 3.2 4.8 1.8]\n",
      " [5.7 2.6 3.5 1. ]\n",
      " [6.  3.  4.8 1.8]\n",
      " [5.4 3.4 1.5 0.4]\n",
      " [4.9 3.  1.4 0.2]\n",
      " [5.7 2.8 4.1 1.3]\n",
      " [5.  3.  1.6 0.2]\n",
      " [6.3 2.3 4.4 1.3]\n",
      " [7.1 3.  5.9 2.1]\n",
      " [5.9 3.  5.1 1.8]\n",
      " [5.  3.4 1.5 0.2]]\n",
      "[0. 1. 1. 1. 0. 1. 1. 1. 1. 0. 2. 2. 0. 2. 2. 1. 2. 0. 0. 2. 0. 0. 1. 1.\n",
      " 1. 0. 0. 1. 2. 2. 2. 0. 0. 0. 1. 0. 2. 1. 1. 1. 0. 2. 2. 0. 0. 1. 0. 1.\n",
      " 0. 1. 2. 2. 1. 1. 2. 2. 2. 1. 2. 1. 2. 1. 0. 1. 2. 0. 1. 1. 1. 0. 0. 2.\n",
      " 0. 2. 1. 2. 0. 0. 2. 2. 2. 2. 1. 1. 0. 1. 1. 1. 2. 1. 0. 0. 2. 0. 2. 1.\n",
      " 2. 0. 1. 0. 2. 2. 0. 0. 1. 1. 0. 0. 1. 2. 2. 0. 1. 2. 0. 0. 2. 0. 1. 1.\n",
      " 0. 2. 0. 0. 1. 2. 2. 0. 2. 2. 2. 2. 1. 2. 0. 2. 1. 2. 0. 1. 1. 2. 0. 0.\n",
      " 1. 0. 1. 2. 2. 0.]\n"
     ]
    }
   ],
   "source": [
    "import numpy as np\n",
    "Ciris = np.c_[iris.data.reshape(len(iris.data), -1), iris.target.reshape(len(iris.target), -1)]\n",
    "np.random.seed(987654321)\n",
    "np.random.shuffle(Ciris)\n",
    "shuffledIrisData = Ciris[ :, :iris.data.size//len(iris.data)].reshape(iris.data.shape)\n",
    "shuffledIrisTarget = Ciris[ :, iris.data.size//len(iris.data) :].reshape(iris.target.shape)\n",
    "\n",
    "print (shuffledIrisData)\n",
    "print (shuffledIrisTarget)"
   ]
  },
  {
   "cell_type": "markdown",
   "metadata": {},
   "source": [
    "## <span style=\"color:brown; font-family:Gemesorgia; font-size:1.3em;\">données d'apprentissage </span>"
   ]
  },
  {
   "cell_type": "code",
   "execution_count": 3,
   "metadata": {
    "collapsed": false,
    "scrolled": true
   },
   "outputs": [
    {
     "name": "stdout",
     "output_type": "stream",
     "text": [
      "[[4.8 3.4 1.6 0.2]\n",
      " [5.5 2.5 4.  1.3]\n",
      " [6.3 3.3 4.7 1.6]\n",
      " [6.1 2.8 4.7 1.2]\n",
      " [5.1 3.8 1.6 0.2]\n",
      " [6.6 3.  4.4 1.4]\n",
      " [5.8 2.6 4.  1.2]\n",
      " [6.6 2.9 4.6 1.3]\n",
      " [5.1 2.5 3.  1.1]\n",
      " [5.2 3.5 1.5 0.2]\n",
      " [7.2 3.2 6.  1.8]\n",
      " [7.2 3.  5.8 1.6]\n",
      " [5.1 3.3 1.7 0.5]\n",
      " [7.2 3.6 6.1 2.5]\n",
      " [6.4 2.8 5.6 2.2]\n",
      " [5.6 2.9 3.6 1.3]\n",
      " [6.2 3.4 5.4 2.3]\n",
      " [5.1 3.5 1.4 0.2]\n",
      " [4.8 3.1 1.6 0.2]\n",
      " [6.7 3.  5.2 2.3]\n",
      " [4.6 3.2 1.4 0.2]\n",
      " [4.6 3.4 1.4 0.3]\n",
      " [6.1 2.8 4.  1.3]\n",
      " [5.7 2.8 4.5 1.3]\n",
      " [5.9 3.  4.2 1.5]\n",
      " [4.8 3.  1.4 0.1]\n",
      " [4.5 2.3 1.3 0.3]\n",
      " [5.5 2.6 4.4 1.2]\n",
      " [5.7 2.5 5.  2. ]\n",
      " [6.4 3.1 5.5 1.8]\n",
      " [6.3 2.9 5.6 1.8]\n",
      " [4.9 3.1 1.5 0.1]\n",
      " [5.  3.2 1.2 0.2]\n",
      " [5.3 3.7 1.5 0.2]\n",
      " [5.2 2.7 3.9 1.4]\n",
      " [5.1 3.5 1.4 0.3]\n",
      " [7.7 2.8 6.7 2. ]\n",
      " [6.3 2.5 4.9 1.5]\n",
      " [6.7 3.1 4.4 1.4]\n",
      " [6.  3.4 4.5 1.6]\n",
      " [5.7 3.8 1.7 0.3]\n",
      " [6.9 3.1 5.4 2.1]\n",
      " [6.5 3.  5.8 2.2]\n",
      " [5.  3.4 1.6 0.4]\n",
      " [4.8 3.4 1.9 0.2]\n",
      " [6.1 2.9 4.7 1.4]\n",
      " [4.9 3.6 1.4 0.1]\n",
      " [4.9 2.4 3.3 1. ]\n",
      " [4.8 3.  1.4 0.3]\n",
      " [6.1 3.  4.6 1.4]\n",
      " [6.7 3.3 5.7 2.5]\n",
      " [6.5 3.  5.5 1.8]\n",
      " [5.5 2.4 3.8 1.1]\n",
      " [5.6 2.7 4.2 1.3]\n",
      " [5.8 2.7 5.1 1.9]\n",
      " [6.1 3.  4.9 1.8]\n",
      " [6.5 3.2 5.1 2. ]\n",
      " [5.  2.3 3.3 1. ]\n",
      " [6.8 3.2 5.9 2.3]\n",
      " [5.8 2.7 4.1 1. ]\n",
      " [6.1 2.6 5.6 1.4]\n",
      " [5.6 3.  4.1 1.3]\n",
      " [5.2 4.1 1.5 0.1]\n",
      " [6.7 3.1 4.7 1.5]\n",
      " [6.4 3.2 5.3 2.3]\n",
      " [5.5 3.5 1.3 0.2]\n",
      " [5.7 3.  4.2 1.2]\n",
      " [6.4 2.9 4.3 1.3]\n",
      " [6.  2.2 4.  1. ]\n",
      " [5.8 4.  1.2 0.2]\n",
      " [4.7 3.2 1.6 0.2]\n",
      " [5.8 2.7 5.1 1.9]\n",
      " [5.  3.3 1.4 0.2]\n",
      " [7.3 2.9 6.3 1.8]\n",
      " [6.4 3.2 4.5 1.5]\n",
      " [5.6 2.8 4.9 2. ]\n",
      " [4.6 3.6 1.  0.2]\n",
      " [4.6 3.1 1.5 0.2]\n",
      " [6.3 2.7 4.9 1.8]\n",
      " [6.2 2.8 4.8 1.8]\n",
      " [6.9 3.1 5.1 2.3]\n",
      " [6.5 3.  5.2 2. ]\n",
      " [6.5 2.8 4.6 1.5]\n",
      " [5.  2.  3.5 1. ]\n",
      " [5.1 3.7 1.5 0.4]\n",
      " [5.8 2.7 3.9 1.2]\n",
      " [5.6 2.5 3.9 1.1]\n",
      " [5.5 2.4 3.7 1. ]\n",
      " [6.7 3.3 5.7 2.1]\n",
      " [5.6 3.  4.5 1.5]\n",
      " [4.3 3.  1.1 0.1]\n",
      " [5.1 3.4 1.5 0.2]\n",
      " [6.3 3.3 6.  2.5]\n",
      " [5.  3.6 1.4 0.2]\n",
      " [7.7 3.8 6.7 2.2]\n",
      " [5.4 3.  4.5 1.5]\n",
      " [6.3 2.5 5.  1.9]\n",
      " [5.  3.5 1.3 0.3]\n",
      " [5.5 2.3 4.  1.3]\n",
      " [5.1 3.8 1.9 0.4]]\n",
      "[0. 1. 1. 1. 0. 1. 1. 1. 1. 0. 2. 2. 0. 2. 2. 1. 2. 0. 0. 2. 0. 0. 1. 1.\n",
      " 1. 0. 0. 1. 2. 2. 2. 0. 0. 0. 1. 0. 2. 1. 1. 1. 0. 2. 2. 0. 0. 1. 0. 1.\n",
      " 0. 1. 2. 2. 1. 1. 2. 2. 2. 1. 2. 1. 2. 1. 0. 1. 2. 0. 1. 1. 1. 0. 0. 2.\n",
      " 0. 2. 1. 2. 0. 0. 2. 2. 2. 2. 1. 1. 0. 1. 1. 1. 2. 1. 0. 0. 2. 0. 2. 1.\n",
      " 2. 0. 1. 0.]\n"
     ]
    }
   ],
   "source": [
    "donneesApp = shuffledIrisData[0:100]\n",
    "targetApp  = shuffledIrisTarget[0:100]\n",
    "print(donneesApp)\n",
    "print(targetApp)"
   ]
  },
  {
   "cell_type": "markdown",
   "metadata": {},
   "source": [
    "## <span style=\"color:brown; font-family:Gemesorgia; font-size:1.3em;\">données de dev </span>"
   ]
  },
  {
   "cell_type": "code",
   "execution_count": 4,
   "metadata": {
    "collapsed": false,
    "scrolled": true
   },
   "outputs": [
    {
     "name": "stdout",
     "output_type": "stream",
     "text": [
      "[[6.  2.2 5.  1.5]\n",
      " [6.4 2.7 5.3 1.9]\n",
      " [5.  3.5 1.6 0.6]\n",
      " [5.1 3.8 1.5 0.3]\n",
      " [6.2 2.9 4.3 1.3]\n",
      " [6.2 2.2 4.5 1.5]\n",
      " [4.4 3.2 1.3 0.2]\n",
      " [4.9 3.1 1.5 0.2]\n",
      " [6.  2.7 5.1 1.6]\n",
      " [6.3 2.8 5.1 1.5]\n",
      " [6.8 3.  5.5 2.1]\n",
      " [5.4 3.4 1.7 0.2]\n",
      " [6.7 3.  5.  1.7]\n",
      " [6.3 3.4 5.6 2.4]\n",
      " [5.7 4.4 1.5 0.4]\n",
      " [5.2 3.4 1.4 0.2]\n",
      " [7.7 2.6 6.9 2.3]\n",
      " [4.7 3.2 1.3 0.2]\n",
      " [7.  3.2 4.7 1.4]\n",
      " [5.7 2.9 4.2 1.3]\n",
      " [5.4 3.9 1.7 0.4]\n",
      " [6.7 3.1 5.6 2.4]\n",
      " [5.5 4.2 1.4 0.2]\n",
      " [4.4 3.  1.3 0.2]\n",
      " [6.8 2.8 4.8 1.4]\n",
      " [7.9 3.8 6.4 2. ]\n",
      " [7.7 3.  6.1 2.3]\n",
      " [4.4 2.9 1.4 0.2]\n",
      " [7.6 3.  6.6 2.1]\n",
      " [6.4 2.8 5.6 2.1]]\n",
      "[2. 2. 0. 0. 1. 1. 0. 0. 1. 2. 2. 0. 1. 2. 0. 0. 2. 0. 1. 1. 0. 2. 0. 0.\n",
      " 1. 2. 2. 0. 2. 2.]\n"
     ]
    }
   ],
   "source": [
    "donneesDev = shuffledIrisData[100:130]\n",
    "targetDev  = shuffledIrisTarget[100:130]\n",
    "print(donneesDev)\n",
    "print(targetDev)"
   ]
  },
  {
   "cell_type": "markdown",
   "metadata": {},
   "source": [
    "## <span style=\"color:brown; font-family:Gemesorgia; font-size:1.3em;\">données de test </span>"
   ]
  },
  {
   "cell_type": "code",
   "execution_count": 5,
   "metadata": {
    "collapsed": false,
    "scrolled": true
   },
   "outputs": [
    {
     "name": "stdout",
     "output_type": "stream",
     "text": [
      "[[7.4 2.8 6.1 1.9]\n",
      " [4.9 2.5 4.5 1.7]\n",
      " [6.9 3.1 4.9 1.5]\n",
      " [6.9 3.2 5.7 2.3]\n",
      " [5.4 3.7 1.5 0.2]\n",
      " [5.8 2.8 5.1 2.4]\n",
      " [6.  2.9 4.5 1.5]\n",
      " [6.7 2.5 5.8 1.8]\n",
      " [5.4 3.9 1.3 0.4]\n",
      " [5.9 3.2 4.8 1.8]\n",
      " [5.7 2.6 3.5 1. ]\n",
      " [6.  3.  4.8 1.8]\n",
      " [5.4 3.4 1.5 0.4]\n",
      " [4.9 3.  1.4 0.2]\n",
      " [5.7 2.8 4.1 1.3]\n",
      " [5.  3.  1.6 0.2]\n",
      " [6.3 2.3 4.4 1.3]\n",
      " [7.1 3.  5.9 2.1]\n",
      " [5.9 3.  5.1 1.8]\n",
      " [5.  3.4 1.5 0.2]]\n",
      "[2. 2. 1. 2. 0. 2. 1. 2. 0. 1. 1. 2. 0. 0. 1. 0. 1. 2. 2. 0.]\n"
     ]
    }
   ],
   "source": [
    "donneesTest = shuffledIrisData[130:150]\n",
    "targetTest  = shuffledIrisTarget[130:150]\n",
    "print(donneesTest)\n",
    "print(targetTest)"
   ]
  },
  {
   "cell_type": "markdown",
   "metadata": {},
   "source": [
    "# <span style=\"color:green; font-family:Georgia; font-size:1.5em;\"> 2. Phase d’apprentissage"
   ]
  },
  {
   "cell_type": "markdown",
   "metadata": {},
   "source": [
    "## <span style=\"color:brown; font-family:Gemesorgia; font-size:1.3em;\"> 2.1 probabilité à priori </span>"
   ]
  },
  {
   "cell_type": "code",
   "execution_count": 6,
   "metadata": {
    "collapsed": true
   },
   "outputs": [],
   "source": [
    "def probAPriori(target,classe):\n",
    "    cpt = 0\n",
    "    i=0\n",
    "    tailleTarget = len(target)\n",
    "    while i < tailleTarget:\n",
    "        if target[i] == classe :\n",
    "            cpt += 1\n",
    "        i += 1\n",
    "    return cpt/tailleTarget"
   ]
  },
  {
   "cell_type": "code",
   "execution_count": 7,
   "metadata": {
    "collapsed": false
   },
   "outputs": [
    {
     "name": "stdout",
     "output_type": "stream",
     "text": [
      "0.32\n",
      "0.37\n",
      "0.31\n"
     ]
    }
   ],
   "source": [
    "PprioriClasse0 = probAPriori(targetApp,0)\n",
    "PprioriClasse1 = probAPriori(targetApp,1)\n",
    "PprioriClasse2 = probAPriori(targetApp,2)\n",
    "print(PprioriClasse0)  # setosa\n",
    "print(PprioriClasse1)  # versicolor\n",
    "print(PprioriClasse2)  # virginica"
   ]
  },
  {
   "cell_type": "markdown",
   "metadata": {
    "collapsed": true
   },
   "source": [
    "## <span style=\"color:brown; font-family:Gemesorgia; font-size:1.3em;\"> 2.2 vraisemblances </span>"
   ]
  },
  {
   "cell_type": "code",
   "execution_count": 8,
   "metadata": {
    "collapsed": true
   },
   "outputs": [],
   "source": [
    "def moyenne(mat,target,classe):\n",
    "    dimension1 = 0.0\n",
    "    dimension2 = 0.0\n",
    "    dimension3 = 0.0\n",
    "    dimension4 = 0.0\n",
    "    cpt = 0\n",
    "    i = 0\n",
    "    while i < len(mat):\n",
    "        if target[i] == classe :     \n",
    "            dimension1 += mat[i,0]\n",
    "            dimension2 += mat[i,1]\n",
    "            dimension3 += mat[i,2]\n",
    "            dimension4 += mat[i,3]\n",
    "            cpt += 1\n",
    "        i += 1\n",
    "    dimension1 = dimension1/cpt\n",
    "    dimension2 = dimension2/cpt\n",
    "    dimension3 = dimension3/cpt\n",
    "    dimension4 = dimension4/cpt\n",
    "    return [dimension1,dimension2,dimension3,dimension4]"
   ]
  },
  {
   "cell_type": "code",
   "execution_count": 9,
   "metadata": {
    "collapsed": false
   },
   "outputs": [],
   "source": [
    "vectMoyenClasse0 = moyenne(donneesApp,targetApp,0) # setosa\n",
    "vectMoyenClasse1 = moyenne(donneesApp,targetApp,1) # versicolor\n",
    "vectMoyenClasse2 = moyenne(donneesApp,targetApp,2) # virginica"
   ]
  },
  {
   "cell_type": "code",
   "execution_count": 10,
   "metadata": {
    "collapsed": false
   },
   "outputs": [
    {
     "name": "stdout",
     "output_type": "stream",
     "text": [
      "-----------------TABLEAU DES Moyennes-----------------\n",
      "-------------------------------------------------------\n",
      "CLASSE              0        1          2         3 \n",
      "-------------------------------------------------------\n",
      "0     |           4.972    3.406      1.459      0.231   \n",
      "1     |           5.830    2.754      4.168      1.289   \n",
      "2     |           6.545    3.016      5.513      2.029   \n"
     ]
    }
   ],
   "source": [
    "print('-----------------TABLEAU DES Moyennes-----------------')\n",
    "print('-------------------------------------------------------')\n",
    "print('CLASSE              0        1          2         3 ')\n",
    "print('-------------------------------------------------------')\n",
    "print('0     |           %.3f    %.3f      %.3f      %.3f   '%(vectMoyenClasse0[0],vectMoyenClasse0[1],vectMoyenClasse0[2],vectMoyenClasse0[3]))\n",
    "print('1     |           %.3f    %.3f      %.3f      %.3f   '%(vectMoyenClasse1[0],vectMoyenClasse1[1],vectMoyenClasse1[2],vectMoyenClasse1[3]))\n",
    "print('2     |           %.3f    %.3f      %.3f      %.3f   '%(vectMoyenClasse2[0],vectMoyenClasse2[1],vectMoyenClasse2[2],vectMoyenClasse2[3]))"
   ]
  },
  {
   "cell_type": "code",
   "execution_count": 11,
   "metadata": {
    "collapsed": true
   },
   "outputs": [],
   "source": [
    "def variance(mat,target,y,classe,attr):\n",
    "    i = 0\n",
    "    cpt = 0\n",
    "    res = 0\n",
    "    while i < len(mat):\n",
    "        if target[i] == classe :\n",
    "            res += (mat[i,attr]-y)**2\n",
    "            cpt += 1\n",
    "        i += 1\n",
    "    return res/cpt"
   ]
  },
  {
   "cell_type": "code",
   "execution_count": 12,
   "metadata": {
    "collapsed": false
   },
   "outputs": [],
   "source": [
    "varPLClasse0 = variance(donneesApp,targetApp,vectMoyenClasse0[0],0,0) #variance Long. Petale setosa\n",
    "varPWClasse0 = variance(donneesApp,targetApp,vectMoyenClasse0[1],0,1) #variance Larg. Petale setosa\n",
    "varSLClasse0 = variance(donneesApp,targetApp,vectMoyenClasse0[2],0,2) #variance Long. sepale setosa\n",
    "varSWClasse0 = variance(donneesApp,targetApp,vectMoyenClasse0[3],0,3) #variance Larg. Petale setosa\n",
    "variances0 = [varPLClasse0,varPWClasse0,varSLClasse0,varSWClasse0]\n",
    "#-----------------------------------------------------------------------------------------------------\n",
    "varPLClasse1 = variance(donneesApp,targetApp,vectMoyenClasse1[0],1,0) #variance Long. Petale versicolor\n",
    "varPWClasse1 = variance(donneesApp,targetApp,vectMoyenClasse1[1],1,1) #variance Larg. Petale versicolor\n",
    "varSLClasse1 = variance(donneesApp,targetApp,vectMoyenClasse1[2],1,2) #variance Long. sepale versicolor\n",
    "varSWClasse1 = variance(donneesApp,targetApp,vectMoyenClasse1[3],1,3) #variance Larg. Petale versicolor\n",
    "variances1 = [varPLClasse1,varPWClasse1,varSLClasse1,varSWClasse1]\n",
    "#-----------------------------------------------------------------------------------------------------\n",
    "varPLClasse2 = variance(donneesApp,targetApp,vectMoyenClasse2[0],2,0) #variance Long. Petale virginica\n",
    "varPWClasse2 = variance(donneesApp,targetApp,vectMoyenClasse2[1],2,1) #variance Larg. Petale virginica\n",
    "varSLClasse2 = variance(donneesApp,targetApp,vectMoyenClasse2[2],2,2) #variance Long. sepale virginica\n",
    "varSWClasse2 = variance(donneesApp,targetApp,vectMoyenClasse2[3],2,3) #variance Larg. Petale virginica\n",
    "variances2 = [varPLClasse2,varPWClasse2,varSLClasse2,varSWClasse2]"
   ]
  },
  {
   "cell_type": "code",
   "execution_count": 13,
   "metadata": {
    "collapsed": false
   },
   "outputs": [
    {
     "name": "stdout",
     "output_type": "stream",
     "text": [
      "-----------------TABLEAU DES VARIANCES-----------------\n",
      "-------------------------------------------------------\n",
      "CLASSE              0        1          2         3 \n",
      "-------------------------------------------------------\n",
      "0     |           0.103    0.118      0.037      0.009   \n",
      "1     |           0.238    0.099      0.198      0.033   \n",
      "2     |           0.277    0.088      0.251      0.070   \n"
     ]
    }
   ],
   "source": [
    "print('-----------------TABLEAU DES VARIANCES-----------------')\n",
    "print('-------------------------------------------------------')\n",
    "print('CLASSE              0        1          2         3 ')\n",
    "print('-------------------------------------------------------')\n",
    "print('0     |           %.3f    %.3f      %.3f      %.3f   '%(variances0[0],variances0[1],variances0[2],variances0[3]))\n",
    "print('1     |           %.3f    %.3f      %.3f      %.3f   '%(variances1[0],variances1[1],variances1[2],variances1[3]))\n",
    "print('2     |           %.3f    %.3f      %.3f      %.3f   '%(variances2[0],variances2[1],variances2[2],variances2[3]))"
   ]
  },
  {
   "cell_type": "code",
   "execution_count": 14,
   "metadata": {
    "collapsed": false
   },
   "outputs": [],
   "source": [
    "import math\n",
    "def probLoiGauss(x,moyenne,var):\n",
    "    temp1 = math.pow(x-moyenne,2)/(2*math.pow(var,2))\n",
    "    temp2 = 1 / (math.sqrt(2*math.pi) * var)\n",
    "    return temp2 * math.exp(-temp1)"
   ]
  },
  {
   "cell_type": "code",
   "execution_count": 15,
   "metadata": {
    "collapsed": true
   },
   "outputs": [],
   "source": [
    "def probAPosteriori(elt,VariablesClasse,aPriori):\n",
    "    att0 = 2 #Longueur sepale \n",
    "    att1 = 3 #Largeur Petale\n",
    "    resAttr0 = probLoiGauss(elt[att0],VariablesClasse[0][att0],VariablesClasse[1][att0])\n",
    "    resAttr1 = probLoiGauss(elt[att1],VariablesClasse[0][att1],VariablesClasse[1][att1])\n",
    "    return aPriori*resAttr0*resAttr1"
   ]
  },
  {
   "cell_type": "code",
   "execution_count": 16,
   "metadata": {
    "collapsed": false
   },
   "outputs": [],
   "source": [
    "def classifieur(elt,VariablesClasses0,VariablesClasses1,VariablesClasses2):\n",
    "    probAPostClasse0 = probAPosteriori(elt,VariablesClasses0,VariablesClasses0[2])\n",
    "    probAPostClasse1 = probAPosteriori(elt,VariablesClasses1,VariablesClasses1[2])\n",
    "    probAPostClasse2 = probAPosteriori(elt,VariablesClasses2,VariablesClasses2[2])\n",
    "    if (probAPostClasse0 > probAPostClasse1) and (probAPostClasse0>probAPostClasse2):\n",
    "        return 0\n",
    "    elif (probAPostClasse1 > probAPostClasse0) and (probAPostClasse1>probAPostClasse2):\n",
    "        return 1\n",
    "    else:\n",
    "        return 2"
   ]
  },
  {
   "cell_type": "markdown",
   "metadata": {},
   "source": [
    "# <span style=\"color:green; font-family:Georgia; font-size:1.5em;\"> 3. Phase de développement"
   ]
  },
  {
   "cell_type": "code",
   "execution_count": 17,
   "metadata": {
    "collapsed": false,
    "scrolled": true
   },
   "outputs": [],
   "source": [
    "VariablesClasses0 = [vectMoyenClasse0,variances0,PprioriClasse0]\n",
    "VariablesClasses1 = [vectMoyenClasse1,variances1,PprioriClasse1]\n",
    "VariablesClasses2 = [vectMoyenClasse2,variances2,PprioriClasse2]\n",
    "cpt = 0\n",
    "resClassesDev =[]\n",
    "while(cpt < len(donneesDev)):\n",
    "    classe = classifieur(donneesDev[cpt],VariablesClasses0,VariablesClasses1,VariablesClasses2)\n",
    "    resClassesDev.append(classe)\n",
    "    cpt += 1"
   ]
  },
  {
   "cell_type": "code",
   "execution_count": 18,
   "metadata": {
    "collapsed": false
   },
   "outputs": [],
   "source": [
    "resCorrecteDev=[0,0,0]\n",
    "resConfusDev=[[0,0,0],[0,0,0],[0,0,0]]\n",
    "cpt = 0\n",
    "while(cpt < len(resClassesDev)):\n",
    "    \n",
    "    if(resClassesDev[cpt]==0):\n",
    "        if(targetDev[cpt]==0):\n",
    "            resCorrecteDev[0] += 1\n",
    "        elif(targetDev[cpt]==1):\n",
    "            resConfusDev[0][1]+=1\n",
    "        else:\n",
    "            resConfusDev[0][2]+=1\n",
    "    \n",
    "    elif(resClassesDev[cpt]==1):\n",
    "        if(targetDev[cpt]==0):\n",
    "            resConfusDev[1][0]+=1\n",
    "        elif(targetDev[cpt]==1):\n",
    "            resCorrecteDev[1] += 1\n",
    "        else:\n",
    "            resConfusDev[1][2]+=1\n",
    "            \n",
    "    else:\n",
    "        if(targetDev[cpt]==0):\n",
    "            resConfusDev[2][0]+=1\n",
    "        elif(targetDev[cpt]==1):\n",
    "            resConfusDev[2][1]+=1\n",
    "        else:\n",
    "            resCorrecteDev[2] += 1\n",
    "    \n",
    "    cpt += 1\n"
   ]
  },
  {
   "cell_type": "code",
   "execution_count": 19,
   "metadata": {
    "collapsed": false,
    "scrolled": false
   },
   "outputs": [
    {
     "name": "stdout",
     "output_type": "stream",
     "text": [
      "---- MATRICE DE CONFUSION SUR LE DEV ----\n",
      "----------------------------------------\n",
      "CLASSE            0      1      2   \n",
      "-------------------------------------\n",
      "0     |           11      00      00   \n",
      "1     |           01      05      01   \n",
      "2     |           00      02      10   \n"
     ]
    }
   ],
   "source": [
    "print('---- MATRICE DE CONFUSION SUR LE DEV ----')\n",
    "print('----------------------------------------')\n",
    "print('CLASSE            0      1      2   ')\n",
    "print('-------------------------------------')\n",
    "print('0     |           %.2d      %.2d      %.2d   '%(resCorrecteDev[0],resConfusDev[0][1],resConfusDev[0][2]))\n",
    "print('1     |           %.2d      %.2d      %.2d   '%(resConfusDev[1][0],resCorrecteDev[1],resConfusDev[1][2]))\n",
    "print('2     |           %.2d      %.2d      %.2d   '%(resConfusDev[2][0],resConfusDev[2][1],resCorrecteDev[2]))"
   ]
  },
  {
   "cell_type": "code",
   "execution_count": 20,
   "metadata": {
    "collapsed": false
   },
   "outputs": [
    {
     "name": "stdout",
     "output_type": "stream",
     "text": [
      "bonne réponse 26\n",
      "mauvaise réponse 4\n"
     ]
    }
   ],
   "source": [
    "print('bonne réponse %d'%(resCorrecteDev[0]+resCorrecteDev[1]+resCorrecteDev[2]))\n",
    "print('mauvaise réponse %d'%(resConfusDev[0][1]+resConfusDev[0][2]+resConfusDev[1][0]+resConfusDev[1][2]+resConfusDev[2][0]+resConfusDev[2][1]))"
   ]
  },
  {
   "cell_type": "code",
   "execution_count": 21,
   "metadata": {
    "collapsed": false
   },
   "outputs": [
    {
     "name": "stdout",
     "output_type": "stream",
     "text": [
      "les attributs les plus précis sont : Longueur sepale et Largeur Petale\n"
     ]
    }
   ],
   "source": [
    "print('les attributs les plus précis sont : Longueur sepale et Largeur Petale')"
   ]
  },
  {
   "cell_type": "markdown",
   "metadata": {},
   "source": [
    "# <span style=\"color:green; font-family:Georgia; font-size:1.5em;\"> 4. Phase d’évaluation"
   ]
  },
  {
   "cell_type": "code",
   "execution_count": 22,
   "metadata": {
    "collapsed": false
   },
   "outputs": [],
   "source": [
    "resClassesTest =[]\n",
    "cpt = 0\n",
    "while(cpt < len(donneesTest)):\n",
    "    classe = classifieur(donneesTest[cpt],VariablesClasses0,VariablesClasses1,VariablesClasses2)\n",
    "    resClassesTest.append(classe)\n",
    "    cpt += 1\n",
    "\n",
    "ResCorrecteTest=[0,0,0]\n",
    "resConfusTest=[[0,0,0],[0,0,0],[0,0,0]]\n",
    "cpt = 0\n",
    "while(cpt < len(resClassesTest)):\n",
    "    \n",
    "    if(resClassesTest[cpt]==0):\n",
    "        if(targetTest[cpt]==0):\n",
    "            ResCorrecteTest[0] += 1\n",
    "        elif(targetTest[cpt]==1):\n",
    "            resConfusTest[0][1]+=1\n",
    "        else:\n",
    "            resConfusTest[0][2]+=1\n",
    "    \n",
    "    elif(resClassesTest[cpt]==1):\n",
    "        if(targetTest[cpt]==0):\n",
    "            resConfusTest[1][0]+=1\n",
    "        elif(targetTest[cpt]==1):\n",
    "            ResCorrecteTest[1] += 1\n",
    "        else:\n",
    "            resConfusTest[1][2]+=1\n",
    "    \n",
    "    else:\n",
    "        if(targetTest[cpt]==0):\n",
    "            resConfusTest[2][0]+=1\n",
    "        elif(targetTest[cpt]==1):\n",
    "            resConfusTest[2][1]+=1\n",
    "        else:\n",
    "            ResCorrecteTest[2] += 1\n",
    "    \n",
    "    cpt += 1"
   ]
  },
  {
   "cell_type": "code",
   "execution_count": 23,
   "metadata": {
    "collapsed": false
   },
   "outputs": [
    {
     "name": "stdout",
     "output_type": "stream",
     "text": [
      "---- MATRICE DE CONFUSION SUR LE TEST ----\n",
      "----------------------------------------\n",
      "CLASSE            0      1      2   \n",
      "-------------------------------------\n",
      "0     |           06      00      00   \n",
      "1     |           00      05      00   \n",
      "2     |           00      01      08   \n"
     ]
    }
   ],
   "source": [
    "print('---- MATRICE DE CONFUSION SUR LE TEST ----')\n",
    "print('----------------------------------------')\n",
    "print('CLASSE            0      1      2   ')\n",
    "print('-------------------------------------')\n",
    "print('0     |           %.2d      %.2d      %.2d   '%(ResCorrecteTest[0],resConfusTest[0][1],resConfusTest[0][2]))\n",
    "print('1     |           %.2d      %.2d      %.2d   '%(resConfusTest[1][0],ResCorrecteTest[1],resConfusTest[1][2]))\n",
    "print('2     |           %.2d      %.2d      %.2d   '%(resConfusTest[2][0],resConfusTest[2][1],ResCorrecteTest[2]))"
   ]
  },
  {
   "cell_type": "code",
   "execution_count": 24,
   "metadata": {
    "collapsed": false
   },
   "outputs": [
    {
     "name": "stdout",
     "output_type": "stream",
     "text": [
      "bonne réponse 19\n",
      "mauvaise réponse 1\n"
     ]
    }
   ],
   "source": [
    "print('bonne réponse %d'%(ResCorrecteTest[0]+ResCorrecteTest[1]+ResCorrecteTest[2]))\n",
    "print('mauvaise réponse %d'%(resConfusTest[0][1]+resConfusTest[0][2]+resConfusTest[1][0]+resConfusTest[1][2]+resConfusTest[2][0]+resConfusTest[2][1]))"
   ]
  },
  {
   "cell_type": "code",
   "execution_count": 25,
   "metadata": {
    "collapsed": false
   },
   "outputs": [
    {
     "name": "stdout",
     "output_type": "stream",
     "text": [
      "Conclusion : Nous avons q'une seule mauvaise réponse, un virginica à été confondu à un versicolor\n"
     ]
    }
   ],
   "source": [
    "print('Conclusion : Nous avons q\\'une seule mauvaise réponse, un virginica à été confondu à un versicolor')"
   ]
  },
  {
   "cell_type": "code",
   "execution_count": null,
   "metadata": {
    "collapsed": true
   },
   "outputs": [],
   "source": []
  },
  {
   "cell_type": "code",
   "execution_count": null,
   "metadata": {
    "collapsed": true
   },
   "outputs": [],
   "source": []
  },
  {
   "cell_type": "code",
   "execution_count": null,
   "metadata": {
    "collapsed": true
   },
   "outputs": [],
   "source": []
  },
  {
   "cell_type": "code",
   "execution_count": null,
   "metadata": {
    "collapsed": true
   },
   "outputs": [],
   "source": []
  },
  {
   "cell_type": "code",
   "execution_count": null,
   "metadata": {
    "collapsed": true
   },
   "outputs": [],
   "source": []
  }
 ],
 "metadata": {
  "kernelspec": {
   "display_name": "Python 3",
   "language": "python",
   "name": "python3"
  },
  "language_info": {
   "codemirror_mode": {
    "name": "ipython",
    "version": 3
   },
   "file_extension": ".py",
   "mimetype": "text/x-python",
   "name": "python",
   "nbconvert_exporter": "python",
   "pygments_lexer": "ipython3",
   "version": "3.6.3"
  }
 },
 "nbformat": 4,
 "nbformat_minor": 2
}
