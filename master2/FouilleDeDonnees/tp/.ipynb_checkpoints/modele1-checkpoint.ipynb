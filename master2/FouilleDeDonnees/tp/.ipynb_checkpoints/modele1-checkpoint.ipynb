{
 "cells": [
  {
   "cell_type": "markdown",
   "metadata": {},
   "source": [
    "# <span style=\"color:green; font-family:Georgia; font-size:2.1m;\"> 1- Modèle de prediction 1"
   ]
  },
  {
   "cell_type": "markdown",
   "metadata": {},
   "source": [
    "# <span style=\"color:green; font-family:Georgia; font-size:1.5m;\"> 1- Préparation des données"
   ]
  },
  {
   "cell_type": "code",
   "execution_count": 1,
   "metadata": {},
   "outputs": [
    {
     "name": "stderr",
     "output_type": "stream",
     "text": [
      "[nltk_data] Downloading package stopwords to\n",
      "[nltk_data]     C:\\Users\\mamdiallo\\AppData\\Roaming\\nltk_data...\n",
      "[nltk_data]   Package stopwords is already up-to-date!\n"
     ]
    }
   ],
   "source": [
    "import numpy as np\n",
    "from unidecode import unidecode\n",
    "import string\n",
    "from sklearn import svm\n",
    "import nltk\n",
    "from nltk.corpus import stopwords\n",
    "nltk.download('stopwords')\n",
    "stopwords = stopwords.words('french')"
   ]
  },
  {
   "cell_type": "code",
   "execution_count": 2,
   "metadata": {},
   "outputs": [],
   "source": [
    "fichier = open(\"CorpusM2-AFD/corpus.tache1.learn\",\"r\",encoding = \"latin-1\")\n",
    "lignes = fichier.readlines()"
   ]
  },
  {
   "cell_type": "code",
   "execution_count": 3,
   "metadata": {},
   "outputs": [],
   "source": [
    "data = []\n",
    "for ligne in lignes:\n",
    "    ligne = ligne.replace('\\n','')\n",
    "    data.append(ligne)"
   ]
  },
  {
   "cell_type": "code",
   "execution_count": 4,
   "metadata": {},
   "outputs": [
    {
     "name": "stdout",
     "output_type": "stream",
     "text": [
      "<100:1:C> Quand je dis chers amis, il ne s'agit pas là d'une formule diplomatique, mais de l'expression de ce que je ressens.\n",
      "dis\n",
      "dis\n",
      "diplomat\n"
     ]
    }
   ],
   "source": [
    "from nltk.stem.snowball import FrenchStemmer\n",
    "stemmer = FrenchStemmer()\n",
    "print(data[0])\n",
    "print(data[0].split(' ')[3])\n",
    "print(stemmer.stem(data[0].split(' ')[3]))\n",
    "print(stemmer.stem('diplomatique'))"
   ]
  },
  {
   "cell_type": "code",
   "execution_count": 5,
   "metadata": {},
   "outputs": [
    {
     "name": "stdout",
     "output_type": "stream",
     "text": [
      "['au', 'aux', 'avec', 'ce', 'ces', 'dans', 'de', 'des', 'du', 'elle', 'en', 'et', 'eux', 'il', 'ils', 'je', 'la', 'le', 'les', 'leur', 'lui', 'ma', 'mais', 'me', 'même', 'mes', 'moi', 'mon', 'ne', 'nos', 'notre', 'nous', 'on', 'ou', 'par', 'pas', 'pour', 'qu', 'que', 'qui', 'sa', 'se', 'ses', 'son', 'sur', 'ta', 'te', 'tes', 'toi', 'ton', 'tu', 'un', 'une', 'vos', 'votre', 'vous', 'c', 'd', 'j', 'l', 'à', 'm', 'n', 's', 't', 'y', 'été', 'étée', 'étées', 'étés', 'étant', 'étante', 'étants', 'étantes', 'suis', 'es', 'est', 'sommes', 'êtes', 'sont', 'serai', 'seras', 'sera', 'serons', 'serez', 'seront', 'serais', 'serait', 'serions', 'seriez', 'seraient', 'étais', 'était', 'étions', 'étiez', 'étaient', 'fus', 'fut', 'fûmes', 'fûtes', 'furent', 'sois', 'soit', 'soyons', 'soyez', 'soient', 'fusse', 'fusses', 'fût', 'fussions', 'fussiez', 'fussent', 'ayant', 'ayante', 'ayantes', 'ayants', 'eu', 'eue', 'eues', 'eus', 'ai', 'as', 'avons', 'avez', 'ont', 'aurai', 'auras', 'aura', 'aurons', 'aurez', 'auront', 'aurais', 'aurait', 'aurions', 'auriez', 'auraient', 'avais', 'avait', 'avions', 'aviez', 'avaient', 'eut', 'eûmes', 'eûtes', 'eurent', 'aie', 'aies', 'ait', 'ayons', 'ayez', 'aient', 'eusse', 'eusses', 'eût', 'eussions', 'eussiez', 'eussent']\n"
     ]
    }
   ],
   "source": [
    "\n",
    "print(stopwords)"
   ]
  },
  {
   "cell_type": "code",
   "execution_count": 6,
   "metadata": {},
   "outputs": [],
   "source": [
    "def recupPersonne(s):\n",
    "    for i in range(0,len(s)):\n",
    "        if s[i]=='>':\n",
    "            return(s[i-1])"
   ]
  },
  {
   "cell_type": "code",
   "execution_count": 7,
   "metadata": {},
   "outputs": [],
   "source": [
    "def recupDonnees():\n",
    "    X = []\n",
    "    y = []\n",
    "    for doc in data:\n",
    "        doc1 = doc.split(' ')\n",
    "    #     doc1 =  [stemmer.stem(m) for m in doc1] #lemmetisation\n",
    "    #     print(\" \".join(doc1[1:]))\n",
    "        res = \" \".join(doc1[1:])        \n",
    "        res = res.lower() #convertit les Majuscules en miniscules\n",
    "        res = unidecode(res) #suppression des accents et cedilles\n",
    "        res = res.translate(str.maketrans('', '', string.punctuation)) #suprression des ponctuations\n",
    "        res = res.split(' ')\n",
    "        res = \" \".join([mot for mot in res if mot not in stopwords]) #suppression des stopwords\n",
    "        X.append(res)\n",
    "        y.append(recupPersonne(doc1[0]))\n",
    "        \n",
    "    return X,y"
   ]
  },
  {
   "cell_type": "code",
   "execution_count": 8,
   "metadata": {},
   "outputs": [],
   "source": [
    "X, y = recupDonnees()"
   ]
  },
  {
   "cell_type": "code",
   "execution_count": 9,
   "metadata": {},
   "outputs": [
    {
     "name": "stdout",
     "output_type": "stream",
     "text": [
      "57413\n",
      "57413\n"
     ]
    }
   ],
   "source": [
    "print(len(X))\n",
    "print(len(y))"
   ]
  },
  {
   "cell_type": "code",
   "execution_count": 10,
   "metadata": {},
   "outputs": [
    {
     "name": "stdout",
     "output_type": "stream",
     "text": [
      "C  -  quand dis chers amis sagit dune formule diplomatique lexpression ressens\n",
      "C  -  dabord merci cet exceptionnel accueil congolais brazavillois reserve cet apresmidi\n"
     ]
    }
   ],
   "source": [
    "print(y[0], \" - \",X[0])\n",
    "print(y[1], \" - \",X[1])"
   ]
  },
  {
   "cell_type": "code",
   "execution_count": 11,
   "metadata": {},
   "outputs": [
    {
     "name": "stdout",
     "output_type": "stream",
     "text": [
      "45930\n",
      "45930\n",
      "11483\n",
      "11483\n"
     ]
    }
   ],
   "source": [
    "from sklearn.model_selection import train_test_split\n",
    "X_train, X_test, y_train, y_test = train_test_split(X, y, test_size=0.2, random_state=0)\n",
    "\n",
    "print(len(X_train))\n",
    "print(len(y_train))\n",
    "\n",
    "print(len(X_test))\n",
    "print(len(y_test))"
   ]
  },
  {
   "cell_type": "code",
   "execution_count": 12,
   "metadata": {},
   "outputs": [],
   "source": [
    "from sklearn.feature_extraction.text import TfidfVectorizer\n",
    "vectorizer = TfidfVectorizer()\n",
    "# vectorizer = TfidfVectorizer(min_df=5, max_df=0.7)\n",
    "vectorizer = TfidfVectorizer(max_features=1500, min_df=5, max_df=0.7)\n",
    "X_train_tfifd = vectorizer.fit_transform(X_train)\n",
    "X_test_tfifd = vectorizer.fit_transform(X_test)"
   ]
  },
  {
   "cell_type": "code",
   "execution_count": 13,
   "metadata": {},
   "outputs": [
    {
     "name": "stdout",
     "output_type": "stream",
     "text": [
      "['000', 'accepte', 'accepter', 'accompli', 'accord', 'accords', 'accueil', 'accueillir', 'acquis', 'acte', 'acteurs', 'action', 'actions', 'active', 'activite', 'activites', 'adapter', 'administrations', 'affaires', 'affirmer', 'afin', 'africains', 'afrique', 'agir', 'agricole', 'aide', 'aider', 'ailleurs', 'ainsi', 'alimentaire', 'aller', 'allons', 'alors', 'ambitieuse', 'ambitieux', 'ambition', 'ambitions', 'ameliorer', 'amerique', 'ami', 'amis', 'amitie', 'an', 'ancienne', 'annee', 'annees', 'anniversaire', 'ans', 'appartient', 'appel', 'appelle', 'apporte', 'apporter', 'approche', 'apres', 'armees', 'armes', 'artisans', 'asie', 'aspirations', 'assemblee', 'assez', 'association', 'associations', 'assumer', 'assure', 'assurer', 'atlantique', 'atout', 'atouts', 'attache', 'attaches', 'attentes', 'attention', 'aucun', 'aucune', 'audela', 'aujourdhui', 'aupres', 'auquel', 'aussi', 'autant', 'autorites', 'autour', 'autre', 'autres', 'auxquelles', 'auxquels', 'avant', 'avenir', 'avoir', 'baisse', 'banque', 'base', 'bases', 'batir', 'beau', 'beaucoup', 'belle', 'beneficier', 'besoin', 'besoins', 'bien', 'bientot', 'bon', 'bonheur', 'bonne', 'bonnes', 'bref', 'cadre', 'candidats', 'capable', 'capacite', 'capacites', 'capital', 'capitale', 'capitaux', 'car', 'caractere', 'cas', 'cause', 'ceci', 'cela', 'celle', 'celles', 'celui', 'centrale', 'centre', 'centres', 'cependant', 'certain', 'certaine', 'certaines', 'certains', 'certes', 'cesse', 'cest', 'cestadire', 'cet', 'cetait', 'cette', 'ceux', 'chacun', 'chacune', 'chance', 'chances', 'change', 'changement', 'changements', 'changer', 'chaque', 'charge', 'charges', 'charte', 'chef', 'chefs', 'chemin', 'cher', 'chercheurs', 'chers', 'chez', 'chine', 'choix', 'chomage', 'chose', 'choses', 'cinq', 'cite', 'citoyen', 'citoyens', 'civil', 'civile', 'civilisation', 'civilisations', 'clairement', 'code', 'coeur', 'cohesion', 'collective', 'collectivite', 'collectivites', 'combat', 'combien', 'comite', 'comme', 'commence', 'comment', 'commerce', 'commission', 'commun', 'communaute', 'communautes', 'commune', 'communes', 'communication', 'compatriotes', 'competence', 'competences', 'competition', 'competitivite', 'comprendre', 'compris', 'compte', 'compter', 'conception', 'concerne', 'concertation', 'concitoyens', 'concours', 'concurrence', 'condition', 'conditions', 'conduire', 'conduit', 'conduite', 'conference', 'confiance', 'confirme', 'conflits', 'confrontes', 'connais', 'connaissance', 'connait', 'connaitre', 'connu', 'consacrer', 'conscience', 'conseil', 'consequences', 'considerable', 'considerables', 'constitue', 'constituent', 'constitution', 'construction', 'construire', 'construit', 'contexte', 'continent', 'continents', 'continue', 'continuer', 'contraintes', 'contraire', 'contrat', 'contre', 'contribue', 'contribuer', 'contribution', 'controle', 'convention', 'conviction', 'convictions', 'convient', 'cooperation', 'coordination', 'corps', 'cote', 'cotes', 'coup', 'courage', 'cours', 'cout', 'creation', 'credits', 'cree', 'creer', 'crise', 'crises', 'crois', 'croissance', 'culture', 'culturel', 'culturelle', 'culturels', 'cultures', 'dabord', 'daction', 'dactivite', 'dagir', 'daide', 'dailleurs', 'daller', 'damerique', 'damitie', 'dart', 'dassurer', 'date', 'daujourdhui', 'dautant', 'dautre', 'dautres', 'davantage', 'davoir', 'debat', 'debats', 'debut', 'decennies', 'decentralisation', 'decide', 'decider', 'decision', 'decisions', 'declaration', 'defendre', 'defense', 'defficacite', 'defi', 'definir', 'definition', 'defis', 'deja', 'delinquance', 'demain', 'demande', 'demarche', 'demeure', 'democratie', 'democratique', 'demontre', 'demplois', 'den', 'dentre', 'dentreprise', 'dentreprises', 'depart', 'departement', 'departements', 'depend', 'depit', 'depuis', 'dernier', 'derniere', 'dernieres', 'derniers', 'desormais', 'destin', 'detat', 'determination', 'detre', 'dette', 'deurope', 'deux', 'deuxieme', 'devant', 'developpe', 'developpement', 'developper', 'devenir', 'devez', 'devoir', 'devons', 'devouement', 'devra', 'devrait', 'devront', 'dhommes', 'dhonneur', 'dialogue', 'differences', 'differentes', 'differents', 'difficile', 'difficiles', 'difficulte', 'difficultes', 'dignite', 'dimension', 'dinitiative', 'dinteret', 'dirais', 'dire', 'directement', 'directeur', 'dirigeants', 'dis', 'disait', 'dispositif', 'dit', 'diversite', 'dix', 'dois', 'doit', 'doivent', 'domaine', 'domaines', 'donc', 'donne', 'donnees', 'donnent', 'donner', 'dont', 'dou', 'double', 'doute', 'doutremer', 'drogue', 'droit', 'droits', 'dun', 'dune', 'durable', 'duree', 'dynamique', 'dynamisme', 'echanges', 'ecole', 'economie', 'economies', 'economique', 'economiques', 'effet', 'effets', 'efficace', 'efficacite', 'effort', 'efforts', 'egalement', 'egard', 'eh', 'elan', 'element', 'elements', 'eleves', 'ellememe', 'elles', 'elus', 'emotion', 'emplois', 'encore', 'encourager', 'energie', 'energies', 'enfants', 'enfin', 'engage', 'engagee', 'engagement', 'engagements', 'engager', 'engages', 'enjeux', 'ensemble', 'ensuite', 'entend', 'entendre', 'entendu', 'entier', 'entiere', 'entre', 'entrepreneurs', 'entreprise', 'entreprises', 'environnement', 'epoque', 'epouse', 'epreuves', 'equilibre', 'equipe', 'equipes', 'espace', 'espoir', 'esprit', 'essentiel', 'essentielle', 'essentielles', 'essentiels', 'estime', 'etablissements', 'etaient', 'etait', 'etant', 'etape', 'etat', 'etats', 'etatsunis', 'ete', 'etes', 'ethique', 'etrangere', 'etrangeres', 'etre', 'etudiants', 'europe', 'europeen', 'europeenne', 'europeennes', 'europeens', 'evenements', 'evidemment', 'eviter', 'evoluer', 'evolution', 'evolutions', 'evoque', 'exceptionnel', 'exceptionnelle', 'exemplaire', 'exemple', 'exige', 'exigence', 'exigences', 'existe', 'experience', 'experiences', 'exprime', 'exprimer', 'face', 'facile', 'faciliter', 'facon', 'facteur', 'faire', 'fais', 'faisant', 'faisons', 'fait', 'faite', 'faites', 'faits', 'fallait', 'familiale', 'famille', 'familles', 'faudra', 'faut', 'fautil', 'faveur', 'favorable', 'favoriser', 'femmes', 'fidele', 'fidelite', 'fiers', 'fierte', 'fin', 'finalement', 'financement', 'financier', 'financiere', 'financieres', 'financiers', 'foi', 'fois', 'fonction', 'fonctionnement', 'fond', 'fondamentaux', 'fonde', 'fondee', 'fondent', 'fonds', 'font', 'force', 'forces', 'formation', 'forme', 'former', 'formes', 'formidable', 'fort', 'forte', 'fortement', 'fortes', 'forts', 'francais', 'francaise', 'francaises', 'france', 'francophone', 'francophonie', 'frappe', 'fraternite', 'frontieres', 'fruits', 'futur', 'g8', 'gagner', 'garantir', 'garde', 'gaulle', 'general', 'generale', 'generation', 'generations', 'generosite', 'genie', 'gens', 'gestion', 'gouvernement', 'gouvernements', 'grace', 'grand', 'grande', 'grandes', 'grands', 'groupe', 'guerre', 'guyane', 'habitants', 'haut', 'haute', 'helas', 'heures', 'heureux', 'hier', 'histoire', 'historique', 'hommage', 'homme', 'hommes', 'honneur', 'humain', 'humaine', 'ici', 'ideal', 'ideaux', 'idee', 'idees', 'identite', 'immense', 'important', 'importante', 'importants', 'incarne', 'independance', 'indien', 'indispensable', 'indispensables', 'industrielle', 'industriels', 'infrastructures', 'initiative', 'initiatives', 'instant', 'institutions', 'instruments', 'interet', 'interets', 'international', 'internationale', 'internationales', 'internationaux', 'investissements', 'invite', 'jai', 'jamais', 'janvier', 'japon', 'javais', 'jen', 'jeu', 'jeune', 'jeunes', 'jeunesse', 'jeux', 'joie', 'joue', 'jouer', 'jour', 'jours', 'juillet', 'juin', 'jusqua', 'juste', 'justice', 'jy', 'lacces', 'laccord', 'laction', 'lactivite', 'lafrique', 'lagriculture', 'lai', 'laicite', 'laide', 'laisse', 'laisser', 'lallemagne', 'lalliance', 'lambition', 'lamerique', 'lamitie', 'lamour', 'lan', 'lance', 'langue', 'langues', 'lannee', 'laquelle', 'large', 'largement', 'lasie', 'lassociation', 'latine', 'lautorite', 'lautre', 'lavenir', 'lavez', 'leau', 'lechelle', 'lecole', 'lecon', 'leconomie', 'leducation', 'leffort', 'legalite', 'legard', 'legitime', 'lelargissement', 'lemploi', 'lengagement', 'lenseignement', 'lensemble', 'lentreprise', 'lenvironnement', 'lequel', 'lequilibre', 'lespace', 'lespagne', 'lespoir', 'lesprit', 'lesquelles', 'lesquels', 'lessentiel', 'lest', 'letat', 'letranger', 'leuro', 'leurope', 'leurs', 'leve', 'levolution', 'lexclusion', 'lexemple', 'lexercice', 'lexigence', 'lexperience', 'lexpression', 'lexterieur', 'lheure', 'lhistoire', 'lhomme', 'lhonneur', 'lhumanite', 'liban', 'liberation', 'liberte', 'libertes', 'libre', 'lidee', 'lidentite', 'lien', 'liens', 'lies', 'lieu', 'lieux', 'ligne', 'limage', 'limportance', 'limpulsion', 'linde', 'lindependance', 'lindustrie', 'linformation', 'linitiative', 'linnovation', 'linsecurite', 'linteret', 'linvestissement', 'lobjectif', 'lobjet', 'locale', 'locales', 'locaux', 'loccasion', 'locean', 'loeuvre', 'logique', 'loi', 'loin', 'lois', 'lon', 'long', 'longtemps', 'longue', 'lont', 'lordre', 'lorganisation', 'lorigine', 'lors', 'lorsque', 'loutremer', 'louverture', 'luimeme', 'lun', 'lune', 'lunesco', 'lunion', 'lunite', 'luniversite', 'lutte', 'lutter', 'madame', 'mai', 'main', 'maintenant', 'maintenir', 'maintien', 'maire', 'maitrise', 'maitriser', 'majeur', 'majorite', 'mal', 'maladie', 'malgre', 'maniere', 'marche', 'marches', 'maroc', 'marque', 'marseille', 'matiere', 'matin', 'medecine', 'medecins', 'mediterranee', 'meilleur', 'meilleure', 'meilleures', 'meilleurs', 'membres', 'meme', 'memes', 'memoire', 'men', 'menace', 'menaces', 'mener', 'mer', 'merci', 'mercosur', 'merite', 'mesdames', 'message', 'messieurs', 'mesure', 'mesures', 'met', 'metier', 'metiers', 'metropole', 'mettre', 'mexique', 'mieux', 'milieu', 'militaire', 'militaires', 'milliards', 'milliers', 'millions', 'ministre', 'ministres', 'mis', 'mise', 'mission', 'missions', 'mobilisation', 'mobiliser', 'mode', 'modele', 'moderne', 'modernes', 'modernisation', 'modernite', 'modes', 'moimeme', 'moins', 'mois', 'moitie', 'moment', 'moments', 'monde', 'mondial', 'mondiale', 'mondialisation', 'monetaire', 'monnaie', 'monsieur', 'mont', 'montre', 'morale', 'mort', 'mot', 'mots', 'mouvement', 'moyen', 'moyens', 'multiples', 'musee', 'na', 'nation', 'national', 'nationale', 'nationales', 'nations', 'nature', 'naturel', 'naturellement', 'navons', 'necessaire', 'necessaires', 'necessite', 'negociation', 'negociations', 'nen', 'nest', 'ni', 'niveau', 'nom', 'nombre', 'nombreuses', 'nombreux', 'non', 'nont', 'nord', 'normes', 'notamment', 'nouveau', 'nouveaux', 'nouvel', 'nouvelle', 'nouvelles', 'nul', 'ny', 'objectif', 'objectifs', 'obligations', 'occasion', 'oeuvre', 'offrir', 'or', 'ordre', 'organisation', 'organise', 'organisee', 'oui', 'ouvert', 'ouverte', 'ouverture', 'pacifique', 'pacte', 'paix', 'parce', 'parents', 'parfaitement', 'parfois', 'paris', 'parle', 'parlement', 'parlementaires', 'parler', 'parmi', 'paroles', 'part', 'partage', 'partager', 'partenaire', 'partenaires', 'partenariat', 'parti', 'participation', 'participe', 'participer', 'particulier', 'particuliere', 'particulierement', 'particuliers', 'partie', 'parties', 'partir', 'partout', 'parvenir', 'passage', 'passe', 'passion', 'patrie', 'patrimoine', 'pauvres', 'pauvrete', 'pays', 'peine', 'pendant', 'pense', 'pensee', 'penser', 'periode', 'permet', 'permettant', 'permettent', 'permettezmoi', 'permettra', 'permettre', 'permis', 'personnalites', 'personne', 'personnel', 'personnelle', 'personnels', 'personnes', 'perspective', 'perspectives', 'petit', 'petite', 'petites', 'peu', 'peuple', 'peuples', 'peut', 'peutetre', 'peuvent', 'place', 'plaisir', 'plan', 'planete', 'plein', 'pleine', 'pleinement', 'plupart', 'plus', 'plusieurs', 'plutot', 'point', 'points', 'poles', 'police', 'politique', 'politiques', 'pologne', 'population', 'populations', 'porte', 'portee', 'portent', 'porter', 'portugal', 'possibilite', 'possible', 'pourquoi', 'pourra', 'pourrait', 'pourront', 'poursuivre', 'pourtant', 'pouvait', 'pouvoir', 'pouvoirs', 'pouvons', 'pratique', 'precisement', 'premier', 'premiere', 'premieres', 'premiers', 'prend', 'prendre', 'preoccupations', 'prepare', 'preparer', 'pres', 'presence', 'present', 'presente', 'presenter', 'presents', 'preserver', 'presidence', 'president', 'presque', 'prets', 'preuve', 'prevention', 'principaux', 'principe', 'principes', 'priorite', 'priorites', 'pris', 'prise', 'prises', 'prive', 'prix', 'probablement', 'probleme', 'problemes', 'procedures', 'processus', 'prochain', 'prochaine', 'prochaines', 'proche', 'procheorient', 'proches', 'production', 'produit', 'produits', 'professionnelle', 'professionnels', 'professions', 'profit', 'profond', 'profonde', 'profondement', 'programme', 'programmes', 'progres', 'progresser', 'projet', 'projets', 'promouvoir', 'propos', 'propose', 'proposition', 'propositions', 'propre', 'propres', 'prosperite', 'protection', 'proximite', 'pu', 'public', 'publics', 'publique', 'publiques', 'puis', 'puisque', 'puissance', 'puissances', 'puisse', 'puissent', 'qua', 'qualite', 'quand', 'quant', 'quartiers', 'quatre', 'quel', 'quelle', 'quelles', 'quelque', 'quelques', 'quen', 'question', 'questions', 'quil', 'quils', 'quoi', 'quon', 'quotidienne', 'quun', 'quune', 'raison', 'raisons', 'rang', 'rapide', 'rapidement', 'rappeler', 'rappelle', 'rapport', 'rapports', 'rapprochement', 'rayonnement', 'realisation', 'realiser', 'realite', 'realites', 'recemment', 'recevoir', 'recherche', 'reconciliation', 'reconnaissance', 'reconnaitre', 'recours', 'recu', 'reduction', 'reduire', 'reflexion', 'reforme', 'reformes', 'refuser', 'regard', 'regime', 'region', 'regionale', 'regions', 'regle', 'reglement', 'regles', 'rejoindre', 'rejouis', 'relation', 'relations', 'releve', 'relever', 'remarquable', 'remercie', 'remercier', 'remettre', 'rencontre', 'rencontrer', 'rend', 'rendre', 'rendu', 'renforce', 'renforcement', 'renforcer', 'renouveau', 'repete', 'repondre', 'reponse', 'reponses', 'repose', 'reprendre', 'representants', 'represente', 'republicain', 'republique', 'reseau', 'reseaux', 'reserve', 'resistance', 'resolument', 'respect', 'respecter', 'respectueux', 'responsabilite', 'responsabilites', 'responsable', 'responsables', 'ressources', 'reste', 'rester', 'resultats', 'retour', 'retraite', 'retrouve', 'retrouver', 'reunion', 'reunis', 'reussir', 'reussite', 'reve', 'revenu', 'revient', 'revolution', 'riche', 'riches', 'richesse', 'richesses', 'rien', 'risque', 'risques', 'role', 'route', 'rural', 'rythme', 'sachons', 'sagesse', 'sagisse', 'sagit', 'sais', 'sait', 'salaries', 'salue', 'saluer', 'sans', 'sante', 'saurait', 'savent', 'savez', 'savoir', 'savoirfaire', 'savons', 'science', 'scientifique', 'scientifiques', 'scolaire', 'seconde', 'secretaire', 'secteur', 'secteurs', 'securite', 'sein', 'selon', 'semaines', 'sen', 'sens', 'sensible', 'sentiment', 'sentiments', 'septembre', 'service', 'services', 'servir', 'sest', 'seul', 'seule', 'seulement', 'seuls', 'si', 'siecle', 'siecles', 'signe', 'sil', 'simple', 'simplement', 'simpose', 'situation', 'situations', 'social', 'sociale', 'sociales', 'sociaux', 'societe', 'societes', 'soi', 'soins', 'soir', 'soldats', 'solidaire', 'solidarite', 'solidarites', 'solution', 'solutions', 'sommet', 'sorte', 'souci', 'souhaite', 'souhaitent', 'souligne', 'souligner', 'source', 'sous', 'soutenir', 'soutien', 'souvenir', 'souvent', 'souverainete', 'sport', 'stabilite', 'statut', 'structures', 'su', 'succes', 'sud', 'suffisamment', 'suite', 'suivi', 'suivre', 'sujet', 'sujets', 'superbe', 'superieur', 'suppose', 'surmonter', 'surtout', 'sy', 'symbole', 'systeme', 'tache', 'talent', 'talents', 'tant', 'taux', 'technique', 'techniques', 'technologie', 'technologies', 'tel', 'telle', 'tels', 'temoignage', 'temoigne', 'temoignent', 'temps', 'tenir', 'tenu', 'terme', 'termes', 'terrain', 'terre', 'territoire', 'territoires', 'terrorisme', 'textes', 'tiens', 'tient', 'tiers', 'tirer', 'titre', 'tolerance', 'touche', 'toujours', 'tour', 'tous', 'tout', 'toute', 'toutes', 'tradition', 'traditions', 'traite', 'traiter', 'traites', 'transmettre', 'transparence', 'transport', 'transports', 'travail', 'travaille', 'travaillent', 'travailler', 'travailleurs', 'travaux', 'travers', 'trente', 'tres', 'trois', 'troisieme', 'trop', 'trouve', 'trouvent', 'trouver', 'tunisie', 'type', 'unies', 'union', 'unique', 'universelle', 'universitaires', 'uns', 'va', 'vais', 'valeur', 'valeurs', 'vecu', 'veille', 'veiller', 'venir', 'venu', 'venus', 'veritable', 'verite', 'verre', 'vers', 'veulent', 'veut', 'veux', 'victimes', 'victoire', 'vie', 'viennent', 'viens', 'vient', 'ville', 'villes', 'vingt', 'violence', 'visage', 'vision', 'visite', 'vitalite', 'vite', 'vivent', 'vivons', 'vivre', 'vocation', 'voeux', 'voici', 'voie', 'voies', 'voila', 'voir', 'voisins', 'voit', 'volonte', 'vont', 'voudrais', 'vouloir', 'voulons', 'voulu', 'voyage', 'voyez', 'vrai', 'vraie', 'vraiment', 'vu', 'vue', 'yeux', 'zone']\n"
     ]
    }
   ],
   "source": [
    "print(vectorizer.get_feature_names())"
   ]
  },
  {
   "cell_type": "code",
   "execution_count": 18,
   "metadata": {},
   "outputs": [
    {
     "name": "stdout",
     "output_type": "stream",
     "text": [
      "merite attention appui\n",
      "[0. 0. 0. ... 0. 0. 0.]\n",
      "C\n"
     ]
    },
    {
     "ename": "NameError",
     "evalue": "name 'y_train_tfifd' is not defined",
     "output_type": "error",
     "traceback": [
      "\u001b[1;31m---------------------------------------------------------------------------\u001b[0m",
      "\u001b[1;31mNameError\u001b[0m                                 Traceback (most recent call last)",
      "\u001b[1;32m<ipython-input-18-67974db9ca30>\u001b[0m in \u001b[0;36m<module>\u001b[1;34m\u001b[0m\n\u001b[0;32m      3\u001b[0m \u001b[1;33m\u001b[0m\u001b[0m\n\u001b[0;32m      4\u001b[0m \u001b[0mprint\u001b[0m\u001b[1;33m(\u001b[0m\u001b[0my_train\u001b[0m\u001b[1;33m[\u001b[0m\u001b[1;36m0\u001b[0m\u001b[1;33m]\u001b[0m\u001b[1;33m)\u001b[0m\u001b[1;33m\u001b[0m\u001b[1;33m\u001b[0m\u001b[0m\n\u001b[1;32m----> 5\u001b[1;33m \u001b[0mprint\u001b[0m\u001b[1;33m(\u001b[0m\u001b[0my_train_tfifd\u001b[0m\u001b[1;33m.\u001b[0m\u001b[0mtoarray\u001b[0m\u001b[1;33m(\u001b[0m\u001b[1;33m)\u001b[0m\u001b[1;33m[\u001b[0m\u001b[1;36m970\u001b[0m\u001b[1;33m]\u001b[0m\u001b[1;33m)\u001b[0m\u001b[1;33m\u001b[0m\u001b[1;33m\u001b[0m\u001b[0m\n\u001b[0m",
      "\u001b[1;31mNameError\u001b[0m: name 'y_train_tfifd' is not defined"
     ]
    }
   ],
   "source": [
    "print(X_train[0])\n",
    "print(X_train_tfifd.toarray()[970])\n",
    "\n",
    "print(y_train[0])"
   ]
  },
  {
   "cell_type": "code",
   "execution_count": 15,
   "metadata": {},
   "outputs": [
    {
     "name": "stdout",
     "output_type": "stream",
     "text": [
      "(45930, 1500)\n"
     ]
    }
   ],
   "source": [
    "print(X_train_tfifd.shape)"
   ]
  },
  {
   "cell_type": "code",
   "execution_count": 16,
   "metadata": {},
   "outputs": [],
   "source": [
    "clf = svm.SVC(kernel='linear', C=1).fit(X_train_tfifd, y_train)"
   ]
  },
  {
   "cell_type": "code",
   "execution_count": 17,
   "metadata": {},
   "outputs": [
    {
     "data": {
      "text/plain": [
       "0.8627536358094574"
      ]
     },
     "execution_count": 17,
     "metadata": {},
     "output_type": "execute_result"
    }
   ],
   "source": [
    "clf.score(X_test_tfifd, y_test) "
   ]
  },
  {
   "cell_type": "code",
   "execution_count": null,
   "metadata": {},
   "outputs": [],
   "source": []
  },
  {
   "cell_type": "code",
   "execution_count": null,
   "metadata": {},
   "outputs": [],
   "source": []
  }
 ],
 "metadata": {
  "kernelspec": {
   "display_name": "Python 3",
   "language": "python",
   "name": "python3"
  },
  "language_info": {
   "codemirror_mode": {
    "name": "ipython",
    "version": 3
   },
   "file_extension": ".py",
   "mimetype": "text/x-python",
   "name": "python",
   "nbconvert_exporter": "python",
   "pygments_lexer": "ipython3",
   "version": "3.7.3"
  }
 },
 "nbformat": 4,
 "nbformat_minor": 2
}
