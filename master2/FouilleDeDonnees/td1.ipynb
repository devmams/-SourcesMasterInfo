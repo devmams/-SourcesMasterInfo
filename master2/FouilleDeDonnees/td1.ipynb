{
 "cells": [
  {
   "cell_type": "code",
   "execution_count": 104,
   "metadata": {
    "collapsed": false
   },
   "outputs": [],
   "source": [
    "import sklearn.datasets as skl\n",
    "import matplotlib.pyplot as plt"
   ]
  },
  {
   "cell_type": "markdown",
   "metadata": {},
   "source": [
    "# <span style=\"color:green; font-family:Georgia; font-size:1.5em;\">A. Les Données"
   ]
  },
  {
   "cell_type": "code",
   "execution_count": 105,
   "metadata": {
    "collapsed": false
   },
   "outputs": [],
   "source": [
    "X = skl.load_boston()['data']\n",
    "y = skl.load_boston()['target']"
   ]
  },
  {
   "cell_type": "code",
   "execution_count": 106,
   "metadata": {
    "collapsed": false
   },
   "outputs": [
    {
     "data": {
      "text/plain": [
       "[<matplotlib.lines.Line2D at 0x10fd03320>]"
      ]
     },
     "execution_count": 106,
     "metadata": {},
     "output_type": "execute_result"
    },
    {
     "data": {
      "image/png": "[encoded data removed]",
      "text/plain": [
       "<matplotlib.figure.Figure at 0x10f32f908>"
      ]
     },
     "metadata": {},
     "output_type": "display_data"
    }
   ],
   "source": [
    "%matplotlib inline\n",
    "plt.plot(y[:10],'o')"
   ]
  },
  {
   "cell_type": "code",
   "execution_count": 107,
   "metadata": {
    "collapsed": false
   },
   "outputs": [
    {
     "data": {
      "text/plain": [
       "[<matplotlib.lines.Line2D at 0x10fdc4c50>]"
      ]
     },
     "execution_count": 107,
     "metadata": {},
     "output_type": "execute_result"
    },
    {
     "data": {
      "image/png": "[encoded data removed]",
      "text/plain": [
       "<matplotlib.figure.Figure at 0x10fa19898>"
      ]
     },
     "metadata": {},
     "output_type": "display_data"
    }
   ],
   "source": [
    "plt.plot(y,'o')"
   ]
  },
  {
   "cell_type": "code",
   "execution_count": 108,
   "metadata": {
    "collapsed": false
   },
   "outputs": [
    {
     "name": "stdout",
     "output_type": "stream",
     "text": [
      "(506, 13) 506\n"
     ]
    }
   ],
   "source": [
    "print(X.shape, len(y))"
   ]
  },
  {
   "cell_type": "markdown",
   "metadata": {},
   "source": [
    "# <span style=\"color:green; font-family:Georgia; font-size:1.5em;\">A. L'apprentissage"
   ]
  },
  {
   "cell_type": "code",
   "execution_count": 109,
   "metadata": {
    "collapsed": false
   },
   "outputs": [],
   "source": [
    "from sklearn.cross_validation import train_test_split"
   ]
  },
  {
   "cell_type": "code",
   "execution_count": 110,
   "metadata": {
    "collapsed": false
   },
   "outputs": [],
   "source": [
    "X_train, X_test, y_train, y_test = train_test_split(X, y, test_size=0.2)"
   ]
  },
  {
   "cell_type": "code",
   "execution_count": 111,
   "metadata": {
    "collapsed": false
   },
   "outputs": [
    {
     "name": "stdout",
     "output_type": "stream",
     "text": [
      "(404, 13) 404\n"
     ]
    }
   ],
   "source": [
    "print(X_train.shape, len(y_train))"
   ]
  },
  {
   "cell_type": "code",
   "execution_count": 157,
   "metadata": {
    "collapsed": false
   },
   "outputs": [
    {
     "name": "stdout",
     "output_type": "stream",
     "text": [
      "(102, 13) 102\n"
     ]
    }
   ],
   "source": [
    "print(X_test.shape, len(y_test))"
   ]
  },
  {
   "cell_type": "code",
   "execution_count": 158,
   "metadata": {
    "collapsed": true
   },
   "outputs": [],
   "source": [
    "from sklearn.preprocessing import PolynomialFeatures\n",
    "poly1 = PolynomialFeatures(degree=1)\n",
    "poly2 = PolynomialFeatures(degree=2)\n",
    "poly3 = PolynomialFeatures(degree=3)"
   ]
  },
  {
   "cell_type": "code",
   "execution_count": 159,
   "metadata": {
    "collapsed": false
   },
   "outputs": [
    {
     "name": "stdout",
     "output_type": "stream",
     "text": [
      "(404, 14) (102, 14)\n"
     ]
    }
   ],
   "source": [
    "# degree 1\n",
    "X_train1 = poly1.fit_transform(X_train)\n",
    "X_test1 = poly1.fit_transform(X_test)\n",
    "print(X_train1.shape, X_test1.shape)"
   ]
  },
  {
   "cell_type": "code",
   "execution_count": 160,
   "metadata": {
    "collapsed": false
   },
   "outputs": [
    {
     "name": "stdout",
     "output_type": "stream",
     "text": [
      "(404, 105) (102, 105)\n"
     ]
    }
   ],
   "source": [
    "# degree 2 \n",
    "X_train2 = poly2.fit_transform(X_train)\n",
    "X_test2 = poly2.fit_transform(X_test)\n",
    "print(X_train2.shape, X_test2.shape)"
   ]
  },
  {
   "cell_type": "code",
   "execution_count": 161,
   "metadata": {
    "collapsed": false
   },
   "outputs": [
    {
     "name": "stdout",
     "output_type": "stream",
     "text": [
      "(404, 560) (102, 560)\n"
     ]
    }
   ],
   "source": [
    "# degree 3\n",
    "X_train3 = poly3.fit_transform(X_train)\n",
    "X_test3 = poly3.fit_transform(X_test)\n",
    "print(X_train3.shape, X_test3.shape)"
   ]
  },
  {
   "cell_type": "code",
   "execution_count": 162,
   "metadata": {
    "collapsed": false
   },
   "outputs": [],
   "source": [
    "from sklearn.linear_model import LinearRegression\n",
    "reglin=LinearRegression()\n",
    "# reglin.fit(X_train1, y_train)\n",
    "# reglin.fit(X_train2, y_train)\n",
    "reglin.fit(X_train3, y_train)\n",
    "# y_predict1=reglin.predict(X_test1)\n",
    "# y_predict2=reglin.predict(X_test2)\n",
    "y_predict3=reglin.predict(X_test3)"
   ]
  },
  {
   "cell_type": "code",
   "execution_count": 163,
   "metadata": {
    "collapsed": false
   },
   "outputs": [
    {
     "name": "stdout",
     "output_type": "stream",
     "text": [
      "[(24.0, 254.57546815114665), (21.600000000000001, 36.14326128848279), (34.700000000000003, 27.980446008733452), (33.399999999999999, 249.27864672966189), (36.200000000000003, 12.993839271265642), (28.699999999999999, 44.497773369618699), (22.899999999999999, 1149.2844289899231), (27.100000000000001, 55.886522529578542), (16.5, 2.3207518934368636), (18.899999999999999, -62.015894072347692), (15.0, -32.371013808223324), (18.899999999999999, 162.90852962661484), (21.699999999999999, 28.359450447759627), (20.399999999999999, -53.431586028282709), (18.199999999999999, 72.454286661713013), (19.899999999999999, -272.68662647397741), (23.100000000000001, 129.52110544264815), (17.5, 53.326498139956129), (20.199999999999999, 61.554881844248484), (18.199999999999999, -18.494004521096031), (13.6, 62.938941556728423), (19.600000000000001, 83.455873132702436), (15.199999999999999, 231.79658068200797), (14.5, -4.258978646163996), (15.6, 132.08794050021334), (13.9, -213.15041314919517), (16.600000000000001, 110.97481455847901), (14.800000000000001, 21.270986507312955), (18.399999999999999, -164.49457958163748), (21.0, -3.7754650494453017), (12.699999999999999, 12.566317553047611), (14.5, 18.622388115895774), (13.199999999999999, -17.574873475517052), (13.1, -1.4933669612355516), (13.5, 24.574478320414528), (18.899999999999999, 15.73927844040827), (20.0, -390.89432507836227), (21.0, 5.2853186326747164), (24.699999999999999, 6.0678347268758444), (30.800000000000001, -21.95754327296072), (34.899999999999999, 67.964011880038925), (26.600000000000001, 9.0569488033370362), (25.300000000000001, 516.82379011753164), (24.699999999999999, 40.851161148289066), (21.199999999999999, -89.100580570679995), (19.300000000000001, -82.615690302026451), (20.0, -4.0813958128119339), (16.600000000000001, 23.116971959466355), (14.4, 16.176387570115367), (19.399999999999999, 0.47899493581371644), (19.699999999999999, -68.368039312207657), (20.5, -114.90875272631729), (25.0, -3.022479003960143), (23.399999999999999, 70.329219818218007), (18.899999999999999, -42.58674586095276), (35.399999999999999, 23.176686535633053), (24.699999999999999, 42.711696097640925), (31.600000000000001, -10.218050611892068), (23.300000000000001, 21.082842311924651), (19.600000000000001, 20.630481210494509), (18.699999999999999, -56.57622336859913), (16.0, 179.79564468838589), (22.199999999999999, 48.274459883476993), (25.0, 88.111329803189619), (33.0, 12.441014097578773), (23.5, 108.28996523867045), (19.399999999999999, -5.4584124461534884), (22.0, 22.275616252053624), (17.399999999999999, -107.99365180807854), (20.899999999999999, 83.558178216523174), (24.199999999999999, -35.764812744265328), (21.699999999999999, 7.7749812088304679), (22.800000000000001, 9.6535690514292583), (23.399999999999999, -28.780161333545948), (24.100000000000001, 240.41882489384534), (21.399999999999999, 675.07267096884516), (20.0, 21.671045494732425), (20.800000000000001, -7.5335734613136083), (21.199999999999999, 281.23530034075429), (20.300000000000001, 56.88351261914886), (28.0, 56.975444687102936), (23.899999999999999, -3503.0787668144758), (24.800000000000001, 361.4376767495587), (22.899999999999999, 13.202018858969495), (23.899999999999999, 21.823451339795611), (26.600000000000001, -20.628186522877513), (22.5, 61.560512110140735), (22.199999999999999, 37.64108714145641), (23.600000000000001, -130.38004484559224), (28.699999999999999, -40.448011023522668), (22.600000000000001, 23.648331398101618), (22.0, 65.994891153998651), (22.899999999999999, 24.445272346755701), (25.0, 10.913519445589372), (20.600000000000001, 191.60097847051384), (28.399999999999999, 23.389186092187629), (21.399999999999999, 75.711956756670588), (38.700000000000003, 112.38036705662034), (43.799999999999997, 82.381948126961106), (33.200000000000003, 46.793577587043728), (27.5, 7.8822249122758876), (26.5, 15.583819175503777)]\n"
     ]
    }
   ],
   "source": [
    "# print(list(zip(y,y_predict1)))\n",
    "# print(list(zip(y,y_predict2)))\n",
    "print(list(zip(y,y_predict3)))"
   ]
  },
  {
   "cell_type": "code",
   "execution_count": 164,
   "metadata": {
    "collapsed": false,
    "scrolled": true
   },
   "outputs": [],
   "source": [
    "from sklearn.metrics import mean_squared_error\n",
    "# print(mean_squared_error(y_predict1, y_test))\n",
    "# print(mean_squared_error(reglin.predict(X_train1), y_train))"
   ]
  },
  {
   "cell_type": "code",
   "execution_count": 165,
   "metadata": {
    "collapsed": false
   },
   "outputs": [
    {
     "name": "stdout",
     "output_type": "stream",
     "text": [
      "150005.400817\n",
      "3.20361736807e-14\n"
     ]
    }
   ],
   "source": [
    "print(mean_squared_error(y_predict3, y_test))\n",
    "print(mean_squared_error(reglin.predict(X_train3), y_train))"
   ]
  },
  {
   "cell_type": "code",
   "execution_count": 166,
   "metadata": {
    "collapsed": false
   },
   "outputs": [
    {
     "data": {
      "text/plain": [
       "[<matplotlib.lines.Line2D at 0x1102c0ac8>,\n",
       " <matplotlib.lines.Line2D at 0x1102c0c88>]"
      ]
     },
     "execution_count": 166,
     "metadata": {},
     "output_type": "execute_result"
    },
    {
     "data": {
      "image/png": "[encoded data removed]",
      "text/plain": [
       "<matplotlib.figure.Figure at 0x1101cd5f8>"
      ]
     },
     "metadata": {},
     "output_type": "display_data"
    }
   ],
   "source": [
    "plt.plot(y_test, 'y', y_predict3, 'g')"
   ]
  },
  {
   "cell_type": "code",
   "execution_count": null,
   "metadata": {
    "collapsed": true
   },
   "outputs": [],
   "source": []
  },
  {
   "cell_type": "code",
   "execution_count": null,
   "metadata": {
    "collapsed": true
   },
   "outputs": [],
   "source": []
  },
  {
   "cell_type": "code",
   "execution_count": null,
   "metadata": {
    "collapsed": true
   },
   "outputs": [],
   "source": []
  }
 ],
 "metadata": {
  "kernelspec": {
   "display_name": "Python 3",
   "language": "python",
   "name": "python3"
  },
  "language_info": {
   "codemirror_mode": {
    "name": "ipython",
    "version": 3
   },
   "file_extension": ".py",
   "mimetype": "text/x-python",
   "name": "python",
   "nbconvert_exporter": "python",
   "pygments_lexer": "ipython3",
   "version": "3.5.1"
  }
 },
 "nbformat": 4,
 "nbformat_minor": 1
}
