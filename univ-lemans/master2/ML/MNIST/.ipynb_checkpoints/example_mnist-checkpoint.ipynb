{
 "cells": [
  {
   "cell_type": "code",
   "execution_count": 3,
   "metadata": {},
   "outputs": [],
   "source": [
    "import torch\n",
    "from torchvision import datasets, transforms\n",
    "import torch.nn.functional as F"
   ]
  },
  {
   "cell_type": "code",
   "execution_count": 4,
   "metadata": {},
   "outputs": [],
   "source": [
    "# Transform each image into tensor and normalized with mean and std\n",
    "transform = transforms.Compose([transforms.ToTensor(), transforms.Normalize((0.1307,), (0.3081,))])\n",
    "# Define the batch size used each time we go through the dataset\n",
    "batch_size = 32\n",
    "\n",
    "# Set the training loader\n",
    "train_loader = torch.utils.data.DataLoader(datasets.MNIST('data', train=True, download=True, transform=transform), batch_size=batch_size, shuffle=True)\n",
    "# Set the testing loader\n",
    "test_loader = torch.utils.data.DataLoader(datasets.MNIST('data', train=False, download=True, transform=transform), batch_size=batch_size, shuffle=True)"
   ]
  },
  {
   "cell_type": "code",
   "execution_count": 5,
   "metadata": {},
   "outputs": [],
   "source": [
    "\n",
    "## Init weights\n",
    "# 784 because there is 784 pixels in each image\n",
    "# 10 because there is 10 possible outputs : 0,1,2,3,4,5,6,7,8,9\n",
    "# Each pixel is linked to 10 outputs where each link is a weight to optimize\\\n",
    "# <=> Each class is linked to 784 pixel where each link is a weight to optimize\n",
    "weights = torch.randn(784, 10, requires_grad=True)"
   ]
  },
  {
   "cell_type": "code",
   "execution_count": 6,
   "metadata": {},
   "outputs": [
    {
     "name": "stdout",
     "output_type": "stream",
     "text": [
      "tensor([[-1.1957,  0.1059, -2.6005,  ..., -0.1492, -0.2478,  1.5750],\n",
      "        [-0.6154,  0.9678,  1.2196,  ...,  0.2622,  0.5008,  1.2018],\n",
      "        [ 0.0975,  2.5442,  1.7177,  ..., -0.5051, -0.2357,  0.9957],\n",
      "        ...,\n",
      "        [ 0.6430, -1.1711,  0.0845,  ..., -1.1723, -0.6465,  0.2327],\n",
      "        [ 0.2031, -0.7183, -1.0854,  ..., -1.2435, -0.1675, -0.8184],\n",
      "        [ 0.7743, -0.4214, -1.6019,  ..., -0.5324, -0.8781,  1.0453]],\n",
      "       requires_grad=True)\n"
     ]
    }
   ],
   "source": [
    "print(weights)"
   ]
  },
  {
   "cell_type": "code",
   "execution_count": 7,
   "metadata": {},
   "outputs": [
    {
     "name": "stdout",
     "output_type": "stream",
     "text": [
      "0 torch.Size([32, 1, 28, 28]) torch.Size([32])\n",
      " Accuracy on test set 0.0\n"
     ]
    }
   ],
   "source": [
    "def test(weights, test_loader):\n",
    "    test_size = len(test_loader.dataset)\n",
    "    correct = 0\n",
    "\n",
    "    for batch_idx, (data, target) in enumerate(test_loader):\n",
    "        #print(batch_idx, data.shape, target.shape)\n",
    "        data = data.view((-1, 28*28))\n",
    "        print(batch_idx, data.shape, target.shape)\n",
    "        break\n",
    "        \n",
    "        outputs = torch.matmul(data, weights)\n",
    "        softmax = F.softmax(outputs, dim=1)\n",
    "        pred = softmax.argmax(dim=1, keepdim=True)\n",
    "        n_correct = pred.eq(target.view_as(pred)).sum().item()\n",
    "        correct += n_correct\n",
    "\n",
    "    acc = correct / test_size\n",
    "    print(\" Accuracy on test set\", acc)\n",
    "    return\n",
    "\n",
    "test(weights, test_loader)"
   ]
  },
  {
   "cell_type": "code",
   "execution_count": 28,
   "metadata": {},
   "outputs": [
    {
     "name": "stdout",
     "output_type": "stream",
     "text": [
      "Loss shape: 5.2075066566467285 Accuracy on test set 0.6566\n",
      "Loss shape: 4.9901828765869146 Accuracy on test set 0.7519\n",
      "Loss shape: 2.3272001743316653 Accuracy on test set 0.7971\n",
      "Loss shape: 3.634950876235962356 Accuracy on test set 0.8146\n",
      "Loss shape: 1.7423789501190186 Accuracy on test set 0.8315\n",
      "Loss shape: 0.86527872085571297 Accuracy on test set 0.8334\n",
      "Loss shape: 2.30662274360656742 Accuracy on test set 0.8453\n",
      "Loss shape: 1.62078392505645754367 Accuracy on test set 0.8405\n",
      "Loss shape: 1.58841729164123545 Accuracy on test set 0.8542\n",
      "Loss shape: 2.7017452716827393 Accuracy on test set 0.8557\n",
      "Loss shape: 0.7773103117942816673 Accuracy on test set 0.8555\n",
      "Loss shape: 2.37719821929931642 Accuracy on test set 0.8632\n",
      "Loss shape: 2.845596790313720715 Accuracy on test set 0.8651\n",
      "Loss shape: 2.56883502006530766 Accuracy on test set 0.865\n",
      "Loss shape: 1.50922656059265144 Accuracy on test set 0.8662\n",
      "Loss shape: 2.2973132133483887705 Accuracy on test set 0.8666\n",
      "Loss shape: 1.247497558593752663 Accuracy on test set 0.8736\n",
      "Loss shape: 0.149799033999443056 Accuracy on test set 0.8701\n",
      "Loss shape: 2.85308337211608956"
     ]
    }
   ],
   "source": [
    "it = 0\n",
    "for batch_idx, (data, targets) in enumerate(train_loader):\n",
    "    # Be sure to start the loop with zeros grad\n",
    "    if weights.grad is not None:\n",
    "        weights.grad.zero_()\n",
    "    \n",
    "    data = data.view((-1, 28*28))\n",
    "    #print(\"batch_idx: {}, data.shape: {}, target.shape: {}\".format(batch_idx, data.shape, targets.shape))\n",
    "    outputs = torch.matmul(data, weights)\n",
    "    #print(\"outputs.shape: {}\".format(outputs.shape))\n",
    "\n",
    "    log_softmax = F.log_softmax(outputs, dim=1)\n",
    "    #print(\"Log softmax: {}\".format(log_softmax.shape))\n",
    "\n",
    "    #print((-log_softmax[0][targets[0]] + -log_softmax[1][targets[1]] )  / 2 )\n",
    "    #print(-log_softmax[0][targets[0]], targets[0])\n",
    "    \n",
    "    loss = F.nll_loss(log_softmax, targets)\n",
    "    print(\"\\rLoss shape: {}\".format(loss), end=\"\")\n",
    "    \n",
    "    # Compute the gradients for each variables\n",
    "    loss.backward()\n",
    "    \n",
    "    with torch.no_grad():\n",
    "        weights -= 0.1*weights.grad\n",
    "        \n",
    "    it += 1\n",
    "    if it % 100 == 0:\n",
    "        test(weights, test_loader)\n",
    "        \n",
    "    if it > 5000:\n",
    "        break"
   ]
  },
  {
   "cell_type": "code",
   "execution_count": 42,
   "metadata": {},
   "outputs": [
    {
     "data": {
      "image/png": "[encoded data removed]",
      "text/plain": [
       "<Figure size 432x288 with 1 Axes>"
      ]
     },
     "metadata": {
      "needs_background": "light"
     },
     "output_type": "display_data"
    }
   ],
   "source": [
    "import matplotlib.pyplot as plt\n",
    "%matplotlib inline\n",
    "\n",
    "batch_idx, (data, target) = next(enumerate(test_loader))\n",
    "data = data.view((-1, 28*28))\n",
    "\n",
    "outputs = torch.matmul(data, weights)\n",
    "softmax = F.softmax(outputs, dim=1)\n",
    "pred = softmax.argmax(dim=1, keepdim=True)\n",
    "\n",
    "plt.imshow(data[0].view(28, 28), cmap=\"gray\")\n",
    "plt.title(\"Predicted class {}\".format(pred[0]))\n",
    "plt.show()"
   ]
  },
  {
   "cell_type": "code",
   "execution_count": null,
   "metadata": {},
   "outputs": [],
   "source": []
  },
  {
   "cell_type": "code",
   "execution_count": null,
   "metadata": {},
   "outputs": [],
   "source": []
  }
 ],
 "metadata": {
  "kernelspec": {
   "display_name": "Python 3",
   "language": "python",
   "name": "python3"
  },
  "language_info": {
   "codemirror_mode": {
    "name": "ipython",
    "version": 3
   },
   "file_extension": ".py",
   "mimetype": "text/x-python",
   "name": "python",
   "nbconvert_exporter": "python",
   "pygments_lexer": "ipython3",
   "version": "3.7.3"
  }
 },
 "nbformat": 4,
 "nbformat_minor": 4
}
