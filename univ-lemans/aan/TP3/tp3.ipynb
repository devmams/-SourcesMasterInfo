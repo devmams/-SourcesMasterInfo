{
 "cells": [
  {
   "cell_type": "markdown",
   "metadata": {},
   "source": [
    "# <span style=\"color:green; font-family:Georgia; font-size:0.9m;\"> NOM ET PRENOM : DIALLO MAMADOU"
   ]
  },
  {
   "cell_type": "markdown",
   "metadata": {},
   "source": [
    "# <span style=\"text-align=center; color:DarkMagenta; font-family:Georgia; font-size:1.2em;\"> **   _ M1- TP3 Apprentissage Automatique et Numérique_** </span>\n"
   ]
  },
  {
   "cell_type": "markdown",
   "metadata": {},
   "source": [
    "# <span style=\"color:green; font-family:Georgia; font-size:1.5m;\"> 1- Préparation des données"
   ]
  },
  {
   "cell_type": "code",
   "execution_count": 28,
   "metadata": {
    "collapsed": false
   },
   "outputs": [],
   "source": [
    "import requests\n",
    "import numpy as np\n",
    "from pylab import *\n",
    "vote= requests.get('https://archive.ics.uci.edu/ml/machine-learning-databases/voting-records/house-votes-84.data')\n",
    "vote = vote.text.replace('\\n',',')\n",
    "vote = vote.replace('republican','1')\n",
    "vote = vote.replace('democrat','-1')\n",
    "vote = vote.replace('y','1')\n",
    "vote = vote.replace('n','-1')\n",
    "vote = vote.replace('?','0')\n",
    "vote = vote.split(',')\n",
    "vote.pop()\n",
    "vote = np.reshape(vote,(435,17))\n",
    "\n",
    "np.random.seed(767454868)\n",
    "np.random.shuffle(vote)"
   ]
  },
  {
   "cell_type": "code",
   "execution_count": 34,
   "metadata": {
    "collapsed": true
   },
   "outputs": [],
   "source": [
    "def convertTotabInt(data):\n",
    "\n",
    "    result = np.array([([0]*len(data[0]))]*len(data))\n",
    "    i=0\n",
    "    while(i < len(data)):\n",
    "        j=0\n",
    "        while(j<len(data[i])):\n",
    "            if(int(data[i,j]) == 0):\n",
    "                result[i,j] = int(0)\n",
    "            elif(int(data[i,j]) == 1):\n",
    "                result[i,j] = int(1)\n",
    "            else:\n",
    "                result[i,j] = int(-1)\n",
    "\n",
    "            j=j+1\n",
    "        i=i+1\n",
    "    return result"
   ]
  },
  {
   "cell_type": "code",
   "execution_count": 35,
   "metadata": {
    "collapsed": false
   },
   "outputs": [],
   "source": [
    "vote = convertTotabInt(vote)"
   ]
  },
  {
   "cell_type": "code",
   "execution_count": 41,
   "metadata": {
    "collapsed": true
   },
   "outputs": [],
   "source": [
    "Target = vote[:,0]\n",
    "Data = vote[:,1:]\n",
    "\n",
    "#----------- train --------------\n",
    "trainTarget = Target[0:335]\n",
    "trainData = Data[0:335]\n",
    "\n",
    "#----------- test --------------\n",
    "testTarget = Target[335:435]\n",
    "testData = Data[335:435]"
   ]
  },
  {
   "cell_type": "code",
   "execution_count": 42,
   "metadata": {
    "collapsed": false
   },
   "outputs": [
    {
     "name": "stdout",
     "output_type": "stream",
     "text": [
      "[[ 1 -1  1 ...  1 -1 -1]\n",
      " [-1  1 -1 ...  1 -1  0]\n",
      " [-1  1  1 ...  0  1  1]\n",
      " ...\n",
      " [-1  1  0 ... -1  1  0]\n",
      " [ 1 -1  1 ...  1 -1 -1]\n",
      " [ 1 -1  1 ...  1 -1  1]]\n",
      "[ 1 -1 -1 -1 -1  1 -1 -1 -1 -1 -1 -1 -1  1 -1  1  1 -1 -1  1 -1  1 -1  1\n",
      " -1 -1 -1  1 -1 -1 -1  1  1  1  1 -1 -1  1 -1  1  1 -1 -1 -1  1 -1  1 -1\n",
      "  1 -1 -1 -1 -1 -1 -1 -1  1  1 -1 -1  1  1  1 -1  1 -1 -1 -1 -1 -1 -1 -1\n",
      " -1 -1  1 -1  1 -1  1  1  1  1  1  1 -1 -1 -1 -1 -1 -1 -1 -1  1  1  1 -1\n",
      " -1  1 -1  1 -1 -1 -1 -1 -1 -1 -1 -1 -1 -1 -1  1 -1  1 -1 -1 -1 -1 -1 -1\n",
      "  1  1 -1 -1 -1  1  1  1 -1  1  1 -1 -1 -1 -1 -1  1  1 -1  1  1 -1  1 -1\n",
      "  1 -1 -1 -1 -1  1  1  1  1  1 -1 -1 -1  1  1 -1 -1  1  1  1 -1  1 -1  1\n",
      " -1  1  1  1 -1  1  1 -1  1 -1 -1 -1 -1 -1 -1 -1 -1  1 -1 -1  1 -1 -1 -1\n",
      "  1 -1  1 -1 -1  1 -1  1  1 -1 -1 -1 -1  1 -1 -1 -1  1  1 -1  1 -1 -1  1\n",
      " -1  1  1 -1  1 -1  1  1 -1 -1 -1 -1  1 -1  1 -1 -1  1 -1 -1 -1 -1 -1 -1\n",
      "  1 -1  1 -1 -1 -1 -1 -1  1  1 -1 -1 -1 -1 -1 -1 -1  1 -1 -1 -1 -1 -1 -1\n",
      "  1  1  1  1 -1 -1  1  1  1 -1 -1 -1  1 -1 -1  1 -1 -1 -1  1 -1 -1  1 -1\n",
      "  1 -1  1  1 -1 -1 -1 -1  1 -1 -1 -1 -1  1  1  1 -1 -1  1 -1 -1  1 -1 -1\n",
      "  1  1  1 -1 -1  1 -1  1 -1  1  1 -1  1 -1 -1  1  1 -1 -1  1 -1  1 -1]\n",
      "[[-1  1 -1 ...  1 -1 -1]\n",
      " [ 1 -1  1 ...  1 -1  0]\n",
      " [ 1  1  1 ...  0  1  1]\n",
      " ...\n",
      " [ 0  0  0 ...  1 -1  0]\n",
      " [-1  1 -1 ...  1  0  1]\n",
      " [-1  1 -1 ... -1  1  1]]\n"
     ]
    }
   ],
   "source": [
    "print(vote)\n",
    "print (trainTarget)\n",
    "print (trainData)"
   ]
  },
  {
   "cell_type": "code",
   "execution_count": 83,
   "metadata": {
    "collapsed": true
   },
   "outputs": [],
   "source": [
    "vecteurPoids = np.array([1,0,0,0,0,0,0,0,0,0,0,0,0,0,0,0])"
   ]
  },
  {
   "cell_type": "code",
   "execution_count": 84,
   "metadata": {
    "collapsed": false
   },
   "outputs": [],
   "source": [
    "def classify(element,vecteurPoids):\n",
    "\n",
    "    result = sum(element * vecteurPoids)\n",
    "    if(result >= 0.5):\n",
    "\n",
    "        return 1\n",
    "\n",
    "    return -1"
   ]
  },
  {
   "cell_type": "code",
   "execution_count": 85,
   "metadata": {
    "collapsed": false
   },
   "outputs": [
    {
     "name": "stdout",
     "output_type": "stream",
     "text": [
      "-1\n"
     ]
    }
   ],
   "source": [
    "print(classify(trainData[0],vecteurPoids))"
   ]
  },
  {
   "cell_type": "markdown",
   "metadata": {},
   "source": [
    "# <span style=\"color:green; font-family:Georgia; font-size:0.8em;\"> 1. Division de l’échantillon d’apprentissage"
   ]
  },
  {
   "cell_type": "code",
   "execution_count": null,
   "metadata": {
    "collapsed": true,
    "scrolled": true
   },
   "outputs": [],
   "source": []
  },
  {
   "cell_type": "code",
   "execution_count": null,
   "metadata": {
    "collapsed": true
   },
   "outputs": [],
   "source": []
  },
  {
   "cell_type": "code",
   "execution_count": null,
   "metadata": {
    "collapsed": true
   },
   "outputs": [],
   "source": []
  },
  {
   "cell_type": "code",
   "execution_count": null,
   "metadata": {
    "collapsed": true
   },
   "outputs": [],
   "source": []
  }
 ],
 "metadata": {
  "kernelspec": {
   "display_name": "Python 3",
   "language": "python",
   "name": "python3"
  },
  "language_info": {
   "codemirror_mode": {
    "name": "ipython",
    "version": 3
   },
   "file_extension": ".py",
   "mimetype": "text/x-python",
   "name": "python",
   "nbconvert_exporter": "python",
   "pygments_lexer": "ipython3",
   "version": "3.6.3"
  }
 },
 "nbformat": 4,
 "nbformat_minor": 2
}
