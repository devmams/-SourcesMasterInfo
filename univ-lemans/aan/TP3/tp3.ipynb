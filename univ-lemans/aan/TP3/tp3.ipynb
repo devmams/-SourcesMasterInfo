{
 "cells": [
  {
   "cell_type": "markdown",
   "metadata": {},
   "source": [
    "# <span style=\"color:green; font-family:Georgia; font-size:0.9m;\"> NOM ET PRENOM : DIALLO MAMADOU"
   ]
  },
  {
   "cell_type": "markdown",
   "metadata": {},
   "source": [
    "# <span style=\"text-align=center; color:DarkMagenta; font-family:Georgia; font-size:1.2em;\"> **   _ M1- TP3 Apprentissage Automatique et Numérique_** </span>\n"
   ]
  },
  {
   "cell_type": "markdown",
   "metadata": {},
   "source": [
    "# <span style=\"color:green; font-family:Georgia; font-size:1.5m;\"> 1- Préparation des données"
   ]
  },
  {
   "cell_type": "code",
   "execution_count": 46,
   "metadata": {
    "collapsed": false
   },
   "outputs": [],
   "source": [
    "import requests\n",
    "import numpy as np"
   ]
  },
  {
   "cell_type": "markdown",
   "metadata": {},
   "source": [
    "# <span style=\"color:green; font-family:Georgia; font-size:0.8em;\"> 1. Division de l’échantillon d’apprentissage"
   ]
  },
  {
   "cell_type": "code",
   "execution_count": 47,
   "metadata": {
    "collapsed": true
   },
   "outputs": [],
   "source": [
    "fichier = open(\"house-votes-84.txt\", \"r\")\n",
    "lignes = fichier.readlines()\n",
    "\n",
    "# republican = 1 ,democrat = -1 ,y = 1, n = -1 et ? = 0\n",
    "def choixVote(ch):\n",
    "    if ch == 'republican':\n",
    "        return 1\n",
    "    elif ch == 'democrat':\n",
    "        return -1\n",
    "    elif ch == 'y':\n",
    "        return 1\n",
    "    elif ch == 'n':\n",
    "        return -1\n",
    "    else:\n",
    "        return 0"
   ]
  },
  {
   "cell_type": "code",
   "execution_count": 58,
   "metadata": {
    "collapsed": false,
    "scrolled": true
   },
   "outputs": [
    {
     "name": "stdout",
     "output_type": "stream",
     "text": [
      "[[ 1 -1  0 ...  1 -1 -1]\n",
      " [-1  1 -1 ... -1 -1  1]\n",
      " [ 1 -1  1 ...  1 -1 -1]\n",
      " ...\n",
      " [-1  1 -1 ...  1  1  0]\n",
      " [ 1 -1  1 ...  1  0 -1]\n",
      " [-1  1 -1 ... -1  1  0]]\n"
     ]
    }
   ],
   "source": [
    "Vote = []\n",
    "\n",
    "i = 0\n",
    "for ligne in lignes:\n",
    "    ligne = ligne.replace('\\n','')\n",
    "    t = ligne.split(',')\n",
    "    for i in range(0,len(t)):\n",
    "        Vote.append(choixVote(t[i]))\n",
    "\n",
    "Vote = np.reshape(Vote,(-1,17))\n",
    "np.random.seed(987654321)\n",
    "np.random.shuffle(Vote)\n",
    "print(Vote)"
   ]
  },
  {
   "cell_type": "code",
   "execution_count": 59,
   "metadata": {
    "collapsed": false
   },
   "outputs": [],
   "source": [
    "Target = Vote[:,0]\n",
    "Data = Vote[:,1:]"
   ]
  },
  {
   "cell_type": "code",
   "execution_count": 65,
   "metadata": {
    "collapsed": false
   },
   "outputs": [],
   "source": [
    "def ajoutSeuil(vect,Data):\n",
    "    tabRes = np.array([ ( [0]* (len(Data[0])+1) ) ]*len(Data))\n",
    "    for i in range(0,len(Data)):\n",
    "        tabRes[i][0]=vect[i]\n",
    "        for j in range(1,len(tabRes[i])):\n",
    "            tabRes[i][j] = Data[i][j-1]\n",
    "    return tabRes\n"
   ]
  },
  {
   "cell_type": "code",
   "execution_count": 66,
   "metadata": {
    "collapsed": true
   },
   "outputs": [],
   "source": [
    "def inversionSigne(Data):\n",
    "    for i in range(0,len(Data)):\n",
    "        if(Data[i][0] == (-1)):\n",
    "            for j in range(1,len(Data[i])):\n",
    "                Data[i][j] = Data[i][j]*(-1)"
   ]
  },
  {
   "cell_type": "code",
   "execution_count": 67,
   "metadata": {
    "collapsed": false,
    "scrolled": false
   },
   "outputs": [
    {
     "name": "stdout",
     "output_type": "stream",
     "text": [
      "[[ 1 -1  0 ...  1 -1 -1]\n",
      " [-1  1 -1 ... -1 -1  1]\n",
      " [ 1 -1  1 ...  1 -1 -1]\n",
      " ...\n",
      " [ 1 -1  1 ...  1 -1 -1]\n",
      " [ 1 -1 -1 ...  1 -1  0]\n",
      " [-1 -1  1 ... -1  1  1]]\n",
      "------\n",
      "[[ 1 -1  0 ...  1 -1 -1]\n",
      " [-1 -1  1 ...  1  1 -1]\n",
      " [ 1 -1  1 ...  1 -1 -1]\n",
      " ...\n",
      " [ 1 -1  1 ...  1 -1 -1]\n",
      " [ 1 -1 -1 ...  1 -1  0]\n",
      " [-1  1 -1 ...  1 -1 -1]]\n",
      "17\n"
     ]
    }
   ],
   "source": [
    "nbExempleTrain = 335\n",
    "TrainData = Data[0:nbExempleTrain,:]\n",
    "TrainTarget = Target[0:nbExempleTrain]\n",
    "TrainData = ajoutSeuil(TrainTarget,TrainData)\n",
    "print(TrainData)\n",
    "inversionSigne(TrainData)\n",
    "print(\"------\")\n",
    "print(TrainData)\n",
    "print(len(TrainData[0]))"
   ]
  },
  {
   "cell_type": "code",
   "execution_count": 68,
   "metadata": {
    "collapsed": false
   },
   "outputs": [
    {
     "name": "stdout",
     "output_type": "stream",
     "text": [
      "[[ 1  1  1 ...  1  1  1]\n",
      " [ 1 -1 -1 ... -1  0  1]\n",
      " [ 1  1  1 ... -1 -1  1]\n",
      " ...\n",
      " [ 1  1 -1 ...  1  1  0]\n",
      " [ 1 -1  1 ...  1  0 -1]\n",
      " [ 1  1 -1 ... -1  1  0]]\n",
      "17\n",
      "[-1 -1 -1 -1  1  1  1  1  1 -1 -1  1  1 -1 -1 -1 -1  1 -1  1 -1  1  1 -1\n",
      " -1  1  1 -1 -1 -1 -1 -1 -1  1 -1 -1  1 -1 -1 -1  1 -1 -1 -1 -1 -1 -1 -1\n",
      " -1  1  1 -1  1  1 -1  1  1 -1  1 -1 -1 -1  1 -1 -1 -1 -1 -1 -1 -1 -1 -1\n",
      " -1 -1 -1  1 -1  1  1 -1 -1  1 -1 -1 -1  1 -1 -1 -1  1  1  1 -1  1  1  1\n",
      " -1 -1  1 -1]\n"
     ]
    }
   ],
   "source": [
    "TestData = Data[nbExempleTrain:,:]\n",
    "TestTarget = Target[nbExempleTrain:]\n",
    "TestData = ajoutSeuil([1]*len(TestData),TestData)\n",
    "print(TestData)\n",
    "print(len(TestData[0]))\n",
    "print(TestTarget)"
   ]
  },
  {
   "cell_type": "markdown",
   "metadata": {},
   "source": [
    "# <span style=\"color:green; font-family:Georgia; font-size:1.5m;\"> 2- classify"
   ]
  },
  {
   "cell_type": "code",
   "execution_count": 73,
   "metadata": {
    "collapsed": false
   },
   "outputs": [],
   "source": [
    "def classify(element,vectPoids):\n",
    "    res = sum(element * vectPoids)\n",
    "    if(res >= 0):\n",
    "        return 1\n",
    "    return -1"
   ]
  },
  {
   "cell_type": "markdown",
   "metadata": {},
   "source": [
    "# <span style=\"color:green; font-family:Georgia; font-size:1.5m;\"> 3- test"
   ]
  },
  {
   "cell_type": "code",
   "execution_count": 74,
   "metadata": {
    "collapsed": false
   },
   "outputs": [],
   "source": [
    "def test(Data,Target,VectPoids):\n",
    "    prediction = []\n",
    "    for i in range(0,len(Data)):\n",
    "        prediction.append(classify(Data[i],VectPoids))\n",
    "    nbErreur = 0.0\n",
    "    for i in range(0,len(Target)):\n",
    "        if Target[i] != prediction[i]:\n",
    "            nbErreur += 1\n",
    "    return nbErreur/len(Target)"
   ]
  },
  {
   "cell_type": "markdown",
   "metadata": {
    "collapsed": true,
    "scrolled": true
   },
   "source": [
    "# <span style=\"color:green; font-family:Georgia; font-size:1.5m;\"> 4- Train"
   ]
  },
  {
   "cell_type": "code",
   "execution_count": 75,
   "metadata": {
    "collapsed": false
   },
   "outputs": [],
   "source": [
    "def negatif(Data,vectPoids):\n",
    "    return sum(Data*vecteurPoids) < 0\n",
    "\n",
    "\n",
    "def train(Data,vectPoids,itMax):\n",
    "    vectPoidsPrec = vectPoids[:]\n",
    "    nb_bonne_classification_prec = 0\n",
    "    nb_bonne_classification_cour = 0\n",
    "    it = 0\n",
    "    aConverge = False\n",
    "    #while( (it < itMax) and aConverge == False):\n",
    "    #print(\"it :\",it)\n",
    "    #print(\"itmax :\",itMax)\n",
    "    #print(it < itMax)\n",
    "    while(it < itMax):\n",
    "        #print(\"iteration %i \" % it)\n",
    "        #for i in range(0,len(Data)):\n",
    "        i=0\n",
    "        while(i<len(TrainData)):\n",
    "            #if(negatif(Data[i],vectPoids)):\n",
    "            result = sum(TrainData[i]*vectPoids)#le resultat de la multiplication vectorielle\n",
    "            if(result < 0):#si element male classé\n",
    "                #print(\"negatif\")\n",
    "                if(nb_bonne_classification_cour > nb_bonne_classification_prec):\n",
    "                    vectPoidsPrec = vectPoids[:]\n",
    "                    nb_bonne_classification_prec = nb_bonne_classification_cour\n",
    "                vectPoids = vectPoids + Data[i]\n",
    "                nb_bonne_classification_cour = 0\n",
    "            else:\n",
    "                #print(nb_bonne_classification_cour)\n",
    "                nb_bonne_classification_cour += 1\n",
    "            i += 1\n",
    "        it += 1\n",
    "    return vectPoids"
   ]
  },
  {
   "cell_type": "code",
   "execution_count": 78,
   "metadata": {
    "collapsed": false
   },
   "outputs": [
    {
     "name": "stdout",
     "output_type": "stream",
     "text": [
      "[[ 1 -1  0 ...  1 -1 -1]\n",
      " [-1 -1  1 ...  1  1 -1]\n",
      " [ 1 -1  1 ...  1 -1 -1]\n",
      " ...\n",
      " [ 1 -1  1 ...  1 -1 -1]\n",
      " [ 1 -1 -1 ...  1 -1  0]\n",
      " [-1  1 -1 ...  1 -1 -1]]\n",
      "17\n",
      "[[ 1  1  1 ...  1  1  1]\n",
      " [ 1 -1 -1 ... -1  0  1]\n",
      " [ 1  1  1 ... -1 -1  1]\n",
      " ...\n",
      " [ 1  1 -1 ...  1  1  0]\n",
      " [ 1 -1  1 ...  1  0 -1]\n",
      " [ 1  1 -1 ... -1  1  0]]\n",
      "17\n",
      "[1, 0, 0, 0, 0, 0, 0, 0, 0, 0, 0, 0, 0, 0, 0, 0, 0]\n",
      "0.64\n",
      "[-3 -1 -8 -7 15  3 -4  4  4 -3  4 -2  5 -2 -1 -2 -2]\n",
      "0.04\n",
      "[ -4  -2 -15  -9  20   7  -3   5   7  -4   1  -7   5   1  -3  -4  -1]\n",
      "0.06\n",
      "[ -5  -1 -18 -11  25   8  -2   6   7  -2   4  -8   5   0  -5  -6  -3]\n",
      "0.06\n",
      "[ -5   0 -19 -13  30  10  -4   7   7  -1   4  -8   5   0  -6  -8  -4]\n",
      "0.06\n",
      "[ -5   0 -23 -11  30  10  -4   7   7  -2   2  -9   6  -1  -5 -10  -3]\n",
      "0.09\n",
      "[ -8  -2 -23 -13  32  11  -5   7   6  -3   3  -7   6  -1  -6  -9  -4]\n",
      "0.06\n",
      "[ -4  -3 -26 -14  35   9  -3   8   9  -3   5 -10   6   0  -6  -8  -3]\n",
      "0.08\n",
      "[ -6  -3 -28 -12  35  11  -3   6  10  -2   3 -11   4  -1  -6  -8  -2]\n",
      "0.08\n",
      "[ -7  -2 -27 -11  36  10  -4   7   9  -1   2 -10   4   3  -4  -9  -2]\n",
      "0.08\n",
      "[ -9  -3 -28 -13  35  12  -4   7   8  -2   4  -8   4  -1  -3  -8  -2]\n",
      "0.06\n",
      "[ -8  -3 -28 -13  35  11  -7   9   9  -2   5  -9   4   0  -5  -9  -3]\n",
      "0.09\n",
      "[ -7   0 -27 -13  36  12  -4   9   6  -1   4  -8   5   0  -5  -9  -5]\n",
      "0.06\n",
      "[ -9  -3 -28 -14  35  12  -4   7   8  -3   2  -8   3   0  -5  -8  -3]\n",
      "0.06\n",
      "[ -7  -2 -27 -14  36  10  -4   9   8  -2   4  -6   5  -1  -4  -7  -2]\n",
      "0.07\n",
      "[ -8  -3 -26 -11  37  11  -5   7   8  -1   3  -8   6   1  -5  -7  -2]\n",
      "0.06\n",
      "[ -8  -2 -29 -14  34  11  -3   8   8  -2   1  -7   5  -1  -5 -10  -2]\n",
      "0.08\n",
      "[ -6  -3 -28 -15  35  11  -3   8   8  -1   3  -7   4  -1  -5  -7  -3]\n",
      "0.08\n",
      "[ -6  -3 -28 -13  35   9  -5   8   9  -1   3  -5   6   0  -5  -7  -4]\n",
      "0.07\n",
      "[ -7  -3 -28 -15  35  10  -4   8   9  -1   2  -9   6   0  -6 -10  -3]\n",
      "0.08\n",
      "[ -9  -3 -28 -13  35  12  -4   7   8  -2   4  -8   6   1  -5  -9  -4]\n",
      "0.05\n",
      "[ -8  -1 -28 -11  35  11  -3  10   8  -2   1 -10   6  -1  -7  -8  -4]\n",
      "0.07\n",
      "[ -6  -2 -27 -13  36  11  -3  10   8  -2   3  -8   6   0  -4  -9  -1]\n",
      "0.08\n",
      "[ -5   0 -29 -13  34  10  -4   7   7  -2   4 -10   7   0  -6  -8  -4]\n",
      "0.08\n",
      "[ -6  -3 -26 -12  37  11  -3   8   7  -2   3  -7   6  -1  -7  -8  -3]\n",
      "0.07\n",
      "[ -7   0 -27 -12  36   8  -4   8   8  -2   2  -8   5   0  -6  -9  -1]\n",
      "0.09\n",
      "[ -7   0 -27 -14  36  10  -4   7  10  -2   4  -9   5   2  -6  -6  -3]\n",
      "0.06\n",
      "[ -8  -4 -27 -13  36   9  -3   7   9  -2   3  -9   5   0  -7  -8  -3]\n",
      "0.07\n",
      "[ -9  -2 -29 -14  36  12  -4   8   9  -2   2 -10   4   2  -4  -8  -3]\n",
      "0.06\n",
      "[ -8   0 -29 -13  38  11  -3   9   8  -3   3  -9   5  -1  -5  -6  -1]\n",
      "0.06\n",
      "[ -6  -2 -29 -13  38  11  -1   9   8  -3   1  -8   6  -3  -5  -8  -3]\n",
      "0.08\n",
      "[ -8  -1 -30 -13  37  11  -5   8   7  -3   3  -8   5   0  -5 -11  -3]\n",
      "0.07\n",
      "[ -6  -2 -31 -12  36  11  -5   8   6  -2   3  -9   7   0  -4  -9  -3]\n",
      "0.07\n",
      "[ -6  -1 -30 -13  37   9  -3   9   8  -2   3  -6   5   0  -6 -11  -2]\n",
      "0.1\n",
      "[ -6  -5 -30 -15  37  11  -5  10   8  -1   3  -7   6  -1  -6  -7  -4]\n",
      "0.08\n",
      "[ -7  -2 -29 -14  38  10  -4   7   8   1   2  -6   3   1  -5  -6  -3]\n",
      "0.06\n",
      "[ -7  -1 -30 -15  37  12  -4  10   7  -1   4  -7   3   1  -5  -8  -4]\n",
      "0.07\n",
      "[ -8  -2 -29 -14  38  11  -3   6   6  -3   3  -9   4  -1  -6  -8  -5]\n",
      "0.05\n",
      "[ -6  -1 -30 -13  37  11  -3  10   7  -1   1  -9   4   1  -5  -9  -1]\n",
      "0.09\n",
      "[ -7  -1 -30 -14  37  12  -6   7   8  -3   4  -8   4   2  -8  -9  -3]\n",
      "0.05\n",
      "[ -8  -1 -30 -13  37  11  -5   9   8  -2   5  -6   3   0  -4 -10  -2]\n",
      "0.09\n",
      "[ -6  -2 -29 -15  38  11  -5   7   8  -3   5  -8   4   0  -6  -6  -3]\n",
      "0.06\n",
      "[ -5  -1 -30 -15  37  10  -4   8   8  -3   4  -7   4  -1  -4  -8  -2]\n",
      "0.07\n",
      "[ -8  -2 -29 -13  38  11  -3   9   8  -2   5  -7   6  -2  -4 -10  -4]\n",
      "0.08\n",
      "[ -6  -4 -29 -14  38  11  -3   8   7  -2   3  -7   6  -1  -5  -6  -4]\n",
      "0.06\n",
      "[-10  -4 -31 -13  36  11  -1   9   8  -3   3  -8   6   0  -6  -9  -4]\n",
      "0.06\n",
      "[ -7  -1 -30 -11  37  12  -6   9   9  -2   6 -10   5  -1  -3  -7  -3]\n",
      "0.09\n",
      "[ -7  -2 -31 -15  36  10  -4   8   7  -1   4  -7   7   0  -5  -7  -4]\n",
      "0.06\n",
      "[ -6   0 -29 -13  38  11  -5   9   9  -2   3  -7   5  -1  -6  -9  -4]\n",
      "0.06\n",
      "[ -5  -1 -30 -14  37  10  -6   9   8  -1   2  -8   4   1  -7  -9  -4]\n",
      "0.09\n",
      "[ -4  -4 -29 -14  38  11  -5   8   9  -2   3  -8   4   0  -6  -7  -2]\n",
      "0.08\n",
      "[ -4  -2 -29 -14  38  11  -3   9   9  -2   3  -8   5  -2  -5 -10  -5]\n",
      "0.09\n",
      "[ -7  -1 -30 -14  37  12  -4   8   8   0   4  -6   4   0  -7  -8  -4]\n",
      "0.06\n",
      "[ -7  -1 -30 -14  37  10  -4  11   8  -2   4 -10   5  -1  -5  -8  -3]\n",
      "0.1\n",
      "[ -4  -3 -28 -15  39  12  -5   8  10  -2   3  -7   5  -1  -4  -7  -5]\n",
      "0.06\n",
      "[ -7  -2 -29 -12  38  11  -4   8   8  -4   2 -10   6  -2  -5  -8  -3]\n",
      "0.07\n",
      "[ -7  -2 -29 -15  38   9  -4  10   9  -2   2 -10   5   0  -7  -9  -4]\n",
      "0.08\n",
      "[-10  -1 -32 -14  35  12  -5  10   7  -3   1  -9   5   0  -6  -9  -3]\n",
      "0.06\n",
      "[ -6  -2 -31 -13  36  12  -3  10  10  -3   3  -7   4   1  -5  -8  -3]\n",
      "0.09\n",
      "[ -6  -4 -29 -15  38  12  -5  10   8  -2   3  -6   5  -1  -3 -10  -3]\n",
      "0.07\n"
     ]
    },
    {
     "ename": "KeyboardInterrupt",
     "evalue": "",
     "output_type": "error",
     "traceback": [
      "\u001b[0;31m-----------------------------------------------------------------------\u001b[0m",
      "\u001b[0;31mKeyboardInterrupt\u001b[0m                     Traceback (most recent call last)",
      "\u001b[0;32m<ipython-input-78-292889dc876d>\u001b[0m in \u001b[0;36m<module>\u001b[0;34m()\u001b[0m\n\u001b[1;32m     12\u001b[0m     \u001b[0;31m#tabIteration.append(i)\u001b[0m\u001b[0;34m\u001b[0m\u001b[0;34m\u001b[0m\u001b[0m\n\u001b[1;32m     13\u001b[0m     \u001b[0;31m#cacule du meilleur vecteur de poid\u001b[0m\u001b[0;34m\u001b[0m\u001b[0;34m\u001b[0m\u001b[0m\n\u001b[0;32m---> 14\u001b[0;31m     \u001b[0mvecteurPoids\u001b[0m \u001b[0;34m=\u001b[0m \u001b[0mtrain\u001b[0m\u001b[0;34m(\u001b[0m\u001b[0mTrainData\u001b[0m\u001b[0;34m,\u001b[0m\u001b[0mvecteurPoids\u001b[0m\u001b[0;34m,\u001b[0m\u001b[0mi\u001b[0m\u001b[0;34m)\u001b[0m\u001b[0;34m\u001b[0m\u001b[0m\n\u001b[0m\u001b[1;32m     15\u001b[0m     \u001b[0mprint\u001b[0m\u001b[0;34m(\u001b[0m\u001b[0mvecteurPoids\u001b[0m\u001b[0;34m)\u001b[0m\u001b[0;34m\u001b[0m\u001b[0m\n\u001b[1;32m     16\u001b[0m     \u001b[0mprint\u001b[0m\u001b[0;34m(\u001b[0m\u001b[0mtest\u001b[0m\u001b[0;34m(\u001b[0m\u001b[0mTestData\u001b[0m\u001b[0;34m,\u001b[0m\u001b[0mTestTarget\u001b[0m\u001b[0;34m,\u001b[0m\u001b[0mvecteurPoids\u001b[0m\u001b[0;34m)\u001b[0m\u001b[0;34m)\u001b[0m\u001b[0;34m\u001b[0m\u001b[0m\n",
      "\u001b[0;32m<ipython-input-75-d21b95cc3705>\u001b[0m in \u001b[0;36mtrain\u001b[0;34m(Data, vectPoids, itMax)\u001b[0m\n\u001b[1;32m     20\u001b[0m             \u001b[0;31m#if(negatif(Data[i],vectPoids)):\u001b[0m\u001b[0;34m\u001b[0m\u001b[0;34m\u001b[0m\u001b[0m\n\u001b[1;32m     21\u001b[0m             \u001b[0mresult\u001b[0m \u001b[0;34m=\u001b[0m \u001b[0msum\u001b[0m\u001b[0;34m(\u001b[0m\u001b[0mTrainData\u001b[0m\u001b[0;34m[\u001b[0m\u001b[0mi\u001b[0m\u001b[0;34m]\u001b[0m\u001b[0;34m*\u001b[0m\u001b[0mvectPoids\u001b[0m\u001b[0;34m)\u001b[0m\u001b[0;31m#le resultat de la multiplication vectorielle\u001b[0m\u001b[0;34m\u001b[0m\u001b[0m\n\u001b[0;32m---> 22\u001b[0;31m             \u001b[0;32mif\u001b[0m\u001b[0;34m(\u001b[0m\u001b[0mresult\u001b[0m \u001b[0;34m<\u001b[0m \u001b[0;36m0\u001b[0m\u001b[0;34m)\u001b[0m\u001b[0;34m:\u001b[0m\u001b[0;31m#si element male classé\u001b[0m\u001b[0;34m\u001b[0m\u001b[0m\n\u001b[0m\u001b[1;32m     23\u001b[0m                 \u001b[0;31m#print(\"negatif\")\u001b[0m\u001b[0;34m\u001b[0m\u001b[0;34m\u001b[0m\u001b[0m\n\u001b[1;32m     24\u001b[0m                 \u001b[0;32mif\u001b[0m\u001b[0;34m(\u001b[0m\u001b[0mnb_bonne_classification_cour\u001b[0m \u001b[0;34m>\u001b[0m \u001b[0mnb_bonne_classification_prec\u001b[0m\u001b[0;34m)\u001b[0m\u001b[0;34m:\u001b[0m\u001b[0;34m\u001b[0m\u001b[0m\n",
      "\u001b[0;31mKeyboardInterrupt\u001b[0m: "
     ]
    }
   ],
   "source": [
    "#print(range(0,len(TrainData[0])))\n",
    "\n",
    "vecteurPoids = [1,0,0,0,0,0,0,0,0,0,0,0,0,0,0,0,0]\n",
    "#vecteurPoids = [1,1,1,1,1,1,1,1,1,1,1,1,1,1,1,1,1]\n",
    "print(TrainData)\n",
    "print(len(TrainData[0]))\n",
    "print(TestData)\n",
    "print(len(TestData[0]))\n",
    "\n",
    "i=0\n",
    "while(i < 3000):\n",
    "    #tabIteration.append(i)\n",
    "    #cacule du meilleur vecteur de poid\n",
    "    vecteurPoids = train(TrainData,vecteurPoids,i)\n",
    "    print(vecteurPoids)\n",
    "    print(test(TestData,TestTarget,vecteurPoids))\n",
    "    # tabTauxErreur.append(test(testData,vecteurPoids,testTarget))\n",
    "    \n",
    "    i=i+10\n",
    "\n",
    "#i = 0\n",
    "#while i < 3000:\n",
    "#    vecteurPoids = train(TrainData,vecteurPoids,i)\n",
    "#    print(vecteurPoids)\n",
    "#    print(test(TestData,TestTarget,vecteurPoids))\n",
    "#    i += 1\n",
    "#vecteurPoids = train(TrainData,vecteurPoids,20)"
   ]
  },
  {
   "cell_type": "code",
   "execution_count": null,
   "metadata": {
    "collapsed": true
   },
   "outputs": [],
   "source": []
  },
  {
   "cell_type": "code",
   "execution_count": null,
   "metadata": {
    "collapsed": true
   },
   "outputs": [],
   "source": []
  },
  {
   "cell_type": "code",
   "execution_count": null,
   "metadata": {
    "collapsed": true
   },
   "outputs": [],
   "source": []
  },
  {
   "cell_type": "code",
   "execution_count": null,
   "metadata": {
    "collapsed": true
   },
   "outputs": [],
   "source": []
  }
 ],
 "metadata": {
  "kernelspec": {
   "display_name": "Python 3",
   "language": "python",
   "name": "python3"
  },
  "language_info": {
   "codemirror_mode": {
    "name": "ipython",
    "version": 3
   },
   "file_extension": ".py",
   "mimetype": "text/x-python",
   "name": "python",
   "nbconvert_exporter": "python",
   "pygments_lexer": "ipython3",
   "version": "3.6.3"
  }
 },
 "nbformat": 4,
 "nbformat_minor": 2
}
