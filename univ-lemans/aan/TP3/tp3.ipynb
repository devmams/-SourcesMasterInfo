{
 "cells": [
  {
   "cell_type": "markdown",
   "metadata": {},
   "source": [
    "# <span style=\"color:green; font-family:Georgia; font-size:0.9m;\"> NOM ET PRENOM : DIALLO MAMADOU"
   ]
  },
  {
   "cell_type": "markdown",
   "metadata": {},
   "source": [
    "# <span style=\"text-align=center; color:DarkMagenta; font-family:Georgia; font-size:1.2em;\"> **   _ M1- TP3 Apprentissage Automatique et Numérique_** </span>\n"
   ]
  },
  {
   "cell_type": "markdown",
   "metadata": {},
   "source": [
    "# <span style=\"color:green; font-family:Georgia; font-size:1.5m;\"> 1- Préparation des données"
   ]
  },
  {
   "cell_type": "code",
   "execution_count": 21,
   "metadata": {
    "collapsed": false
   },
   "outputs": [],
   "source": [
    "import requests\n",
    "import numpy as np"
   ]
  },
  {
   "cell_type": "markdown",
   "metadata": {},
   "source": [
    "# <span style=\"color:green; font-family:Georgia; font-size:0.8em;\"> 1. Division de l’échantillon d’apprentissage"
   ]
  },
  {
   "cell_type": "code",
   "execution_count": 22,
   "metadata": {
    "collapsed": true
   },
   "outputs": [],
   "source": [
    "fichier = open(\"house-votes-84.txt\", \"r\")\n",
    "lignes = fichier.readlines()\n",
    "\n",
    "# republican = 1 ,democrat = -1 ,y = 1, n = -1 et ? = 0\n",
    "def choixVote(ch):\n",
    "    if ch == 'republican':\n",
    "        return 1\n",
    "    elif ch == 'democrat':\n",
    "        return -1\n",
    "    elif ch == 'y':\n",
    "        return 1\n",
    "    elif ch == 'n':\n",
    "        return -1\n",
    "    else:\n",
    "        return 0"
   ]
  },
  {
   "cell_type": "code",
   "execution_count": 45,
   "metadata": {
    "collapsed": false
   },
   "outputs": [
    {
     "name": "stdout",
     "output_type": "stream",
     "text": [
      "[[-1 -1  1  1 -1  1  1 -1 -1 -1 -1 -1 -1  1  1  1  1]\n",
      " [ 1 -1  1 -1  1  1  1 -1 -1 -1 -1 -1  1  1  1 -1  1]\n",
      " [-1 -1  1  1 -1  0  1 -1 -1 -1 -1  1 -1  1 -1 -1  1]\n",
      " [-1  1  1  1 -1  1  1 -1 -1 -1 -1  1  0  1  1  1  1]\n",
      " [ 1 -1  1 -1  1  1  1 -1 -1 -1 -1 -1  1  1  1 -1  0]\n",
      " [ 1 -1  1 -1  1  1  1 -1 -1 -1  1  0  1  1  1 -1  1]\n",
      " [-1 -1  1 -1  1  1  1 -1 -1 -1 -1 -1 -1  0  1  1  1]\n",
      " [-1  1  1  1 -1 -1 -1  1  1  1 -1 -1 -1 -1 -1  0  0]\n",
      " [-1  0  1  1  0  1  1 -1 -1 -1 -1  1 -1  1  1 -1 -1]\n",
      " [ 1 -1  1 -1  1  1  1 -1 -1 -1 -1 -1 -1  1  1  0  1]]\n"
     ]
    }
   ],
   "source": [
    "Vote = []\n",
    "\n",
    "i = 0\n",
    "for ligne in lignes:\n",
    "    ligne = ligne.replace('\\n','')\n",
    "    t = ligne.split(',')\n",
    "    for i in range(0,len(t)):\n",
    "        Vote.append(choixVote(t[i]))\n",
    "\n",
    "Vote = np.reshape(Vote,(-1,17))\n",
    "np.random.seed(987654321)\n",
    "np.random.shuffle(Vote)\n",
    "print(Vote)"
   ]
  },
  {
   "cell_type": "code",
   "execution_count": 46,
   "metadata": {
    "collapsed": true
   },
   "outputs": [],
   "source": [
    "Target = Vote[:,0]\n",
    "Data = Vote[:,1:]"
   ]
  },
  {
   "cell_type": "code",
   "execution_count": 47,
   "metadata": {
    "collapsed": false
   },
   "outputs": [
    {
     "name": "stdout",
     "output_type": "stream",
     "text": [
      "[[-1  1  1 -1  1  1 -1 -1 -1 -1 -1 -1  1  1  1  1]\n",
      " [-1  1 -1  1  1  1 -1 -1 -1 -1 -1  1  1  1 -1  1]\n",
      " [-1  1  1 -1  0  1 -1 -1 -1 -1  1 -1  1 -1 -1  1]\n",
      " [ 1  1  1 -1  1  1 -1 -1 -1 -1  1  0  1  1  1  1]\n",
      " [-1  1 -1  1  1  1 -1 -1 -1 -1 -1  1  1  1 -1  0]\n",
      " [-1  1 -1  1  1  1 -1 -1 -1  1  0  1  1  1 -1  1]\n",
      " [-1  1 -1  1  1  1 -1 -1 -1 -1 -1 -1  0  1  1  1]]\n"
     ]
    }
   ],
   "source": [
    "nbExempleTrain = 7\n",
    "TrainData = Data[0:nbExempleTrain,:]\n",
    "TrainTarget = Target[0:nbExempleTrain]\n",
    "print(TrainData)"
   ]
  },
  {
   "cell_type": "code",
   "execution_count": 48,
   "metadata": {
    "collapsed": false
   },
   "outputs": [
    {
     "name": "stdout",
     "output_type": "stream",
     "text": [
      "[[ 1  1  1 -1 -1 -1  1  1  1 -1 -1 -1 -1 -1  0  0]\n",
      " [ 0  1  1  0  1  1 -1 -1 -1 -1  1 -1  1  1 -1 -1]\n",
      " [-1  1 -1  1  1  1 -1 -1 -1 -1 -1 -1  1  1  0  1]]\n"
     ]
    }
   ],
   "source": [
    "TestData = Data[nbExempleTrain:,:]\n",
    "TestTarget = Data[nbExempleTrain:]\n",
    "print(TestData)"
   ]
  },
  {
   "cell_type": "markdown",
   "metadata": {},
   "source": [
    "# <span style=\"color:green; font-family:Georgia; font-size:1.5m;\"> 2- classify"
   ]
  },
  {
   "cell_type": "code",
   "execution_count": 49,
   "metadata": {
    "collapsed": false
   },
   "outputs": [],
   "source": [
    "def classify(element,vectPoids):\n",
    "    res = sum(element * vectPoids)\n",
    "    if(res >= 0):\n",
    "        return 1\n",
    "    return -1"
   ]
  },
  {
   "cell_type": "markdown",
   "metadata": {},
   "source": [
    "# <span style=\"color:green; font-family:Georgia; font-size:1.5m;\"> 3- test"
   ]
  },
  {
   "cell_type": "code",
   "execution_count": 50,
   "metadata": {
    "collapsed": false
   },
   "outputs": [],
   "source": [
    "def test(Data,Target,VectPoids):\n",
    "    prediction = []\n",
    "    for i in range(0,len(Data)):\n",
    "        prediction.append(classify(Data[i],VectPoids))\n",
    "    nbErreur = 0.0\n",
    "    for i in range(0,len(Target)):\n",
    "        if Target[i] != prediction[i]:\n",
    "            nbErreur += 1\n",
    "    return nbErreur/len(Target)"
   ]
  },
  {
   "cell_type": "markdown",
   "metadata": {
    "collapsed": true,
    "scrolled": true
   },
   "source": [
    "# <span style=\"color:green; font-family:Georgia; font-size:1.5m;\"> 4- Train"
   ]
  },
  {
   "cell_type": "code",
   "execution_count": 76,
   "metadata": {
    "collapsed": false
   },
   "outputs": [],
   "source": [
    "def train(Data,Target,VectPoids,it_max):\n",
    "    vectPoidsPrec = VectPoids[:]\n",
    "    nb_bonne_classification_prec = 0\n",
    "    nb_bonne_classification_cour = 0\n",
    "    \n",
    "    for i in range(0,it_max):\n",
    "        for j in range(0,len(Data)):\n",
    "            #print(Data[j])\n",
    "            if(classify(Data[j],VectPoids) == Target[j]):\n",
    "                print(\"class :\",classify(Data[j],VectPoids))\n",
    "                print(\"tar :\",Target[j])\n",
    "                print(\"dat :\",Data[j])\n",
    "                if(nb_bonne_classification_cour > nb_bonne_classification_prec):\n",
    "                    vectPoidsPrec = vecteurPoids[:]\n",
    "                    nb_bonne_classification_prec = nb_bonne_classification_cour\n",
    "                \n",
    "                \n",
    "        "
   ]
  },
  {
   "cell_type": "code",
   "execution_count": 77,
   "metadata": {
    "collapsed": false
   },
   "outputs": [
    {
     "name": "stdout",
     "output_type": "stream",
     "text": [
      "class : 1\n",
      "tar : -1\n",
      "dat : [-1  1  1 -1  1  1 -1 -1 -1 -1 -1 -1  1  1  1  1]\n",
      "class : 1\n",
      "tar : 1\n",
      "dat : [-1  1 -1  1  1  1 -1 -1 -1 -1 -1  1  1  1 -1  1]\n",
      "class : -1\n",
      "tar : -1\n",
      "dat : [-1  1  1 -1  0  1 -1 -1 -1 -1  1 -1  1 -1 -1  1]\n",
      "class : 1\n",
      "tar : -1\n",
      "dat : [ 1  1  1 -1  1  1 -1 -1 -1 -1  1  0  1  1  1  1]\n",
      "class : -1\n",
      "tar : 1\n",
      "dat : [-1  1 -1  1  1  1 -1 -1 -1 -1 -1  1  1  1 -1  0]\n",
      "class : 1\n",
      "tar : 1\n",
      "dat : [-1  1 -1  1  1  1 -1 -1 -1  1  0  1  1  1 -1  1]\n",
      "class : -1\n",
      "tar : -1\n",
      "dat : [-1  1 -1  1  1  1 -1 -1 -1 -1 -1 -1  0  1  1  1]\n"
     ]
    }
   ],
   "source": [
    "vecteurPoids = [1,0,0,0,0,0,0,0,0,0,0,0,0,0,0,0]\n",
    "vecteurPoids = [1,1,1,1,1,1,1,1,1,1,1,1,1,1,1,1]\n",
    "#print(TrainData)\n",
    "train(TrainData,TrainTarget,vecteurPoids,1)"
   ]
  },
  {
   "cell_type": "code",
   "execution_count": null,
   "metadata": {
    "collapsed": true
   },
   "outputs": [],
   "source": []
  },
  {
   "cell_type": "code",
   "execution_count": null,
   "metadata": {
    "collapsed": true
   },
   "outputs": [],
   "source": []
  },
  {
   "cell_type": "code",
   "execution_count": null,
   "metadata": {
    "collapsed": true
   },
   "outputs": [],
   "source": []
  },
  {
   "cell_type": "code",
   "execution_count": null,
   "metadata": {
    "collapsed": true
   },
   "outputs": [],
   "source": []
  }
 ],
 "metadata": {
  "kernelspec": {
   "display_name": "Python 3",
   "language": "python",
   "name": "python3"
  },
  "language_info": {
   "codemirror_mode": {
    "name": "ipython",
    "version": 3
   },
   "file_extension": ".py",
   "mimetype": "text/x-python",
   "name": "python",
   "nbconvert_exporter": "python",
   "pygments_lexer": "ipython3",
   "version": "3.6.3"
  }
 },
 "nbformat": 4,
 "nbformat_minor": 2
}
