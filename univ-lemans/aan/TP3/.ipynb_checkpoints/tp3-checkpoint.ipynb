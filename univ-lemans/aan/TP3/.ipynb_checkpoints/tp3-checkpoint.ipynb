{
 "cells": [
  {
   "cell_type": "markdown",
   "metadata": {},
   "source": [
    "# <span style=\"color:green; font-family:Georgia; font-size:0.9m;\"> NOM ET PRENOM : DIALLO MAMADOU"
   ]
  },
  {
   "cell_type": "markdown",
   "metadata": {},
   "source": [
    "# <span style=\"text-align=center; color:DarkMagenta; font-family:Georgia; font-size:1.2em;\"> **   _ M1- TP3 Apprentissage Automatique et Numérique_** </span>\n"
   ]
  },
  {
   "cell_type": "markdown",
   "metadata": {},
   "source": [
    "# <span style=\"color:green; font-family:Georgia; font-size:1.5m;\"> 1- Préparation des données"
   ]
  },
  {
   "cell_type": "code",
   "execution_count": 28,
   "metadata": {
    "collapsed": false
   },
   "outputs": [],
   "source": [
    "import requests\n",
    "import numpy as np\n",
    "from pylab import *\n",
    "vote= requests.get('https://archive.ics.uci.edu/ml/machine-learning-databases/voting-records/house-votes-84.data')\n",
    "vote = vote.text.replace('\\n',',')\n",
    "vote = vote.replace('republican','1')\n",
    "vote = vote.replace('democrat','-1')\n",
    "vote = vote.replace('y','1')\n",
    "vote = vote.replace('n','-1')\n",
    "vote = vote.replace('?','0')\n",
    "vote = vote.split(',')\n",
    "vote.pop()\n",
    "vote = np.reshape(vote,(435,17))\n",
    "\n",
    "np.random.seed(767454868)\n",
    "np.random.shuffle(vote)"
   ]
  },
  {
   "cell_type": "code",
   "execution_count": 34,
   "metadata": {
    "collapsed": true
   },
   "outputs": [],
   "source": [
    "def convertTotabInt(data):\n",
    "\n",
    "    result = np.array([([0]*len(data[0]))]*len(data))\n",
    "    i=0\n",
    "    while(i < len(data)):\n",
    "        j=0\n",
    "        while(j<len(data[i])):\n",
    "            if(int(data[i,j]) == 0):\n",
    "                result[i,j] = int(0)\n",
    "            elif(int(data[i,j]) == 1):\n",
    "                result[i,j] = int(1)\n",
    "            else:\n",
    "                result[i,j] = int(-1)\n",
    "\n",
    "            j=j+1\n",
    "        i=i+1\n",
    "    return result"
   ]
  },
  {
   "cell_type": "code",
   "execution_count": 35,
   "metadata": {
    "collapsed": false
   },
   "outputs": [],
   "source": [
    "vote = convertTotabInt(vote)"
   ]
  },
  {
   "cell_type": "code",
   "execution_count": 41,
   "metadata": {
    "collapsed": true
   },
   "outputs": [],
   "source": [
    "Target = vote[:,0]\n",
    "Data = vote[:,1:]\n",
    "\n",
    "#----------- train --------------\n",
    "trainTarget = Target[0:335]\n",
    "trainData = Data[0:335]\n",
    "\n",
    "#----------- test --------------\n",
    "testTarget = Target[335:435]\n",
    "testData = Data[335:435]"
   ]
  },
  {
   "cell_type": "code",
   "execution_count": 42,
   "metadata": {
    "collapsed": false
   },
   "outputs": [
    {
     "name": "stdout",
     "output_type": "stream",
     "text": [
      "[[ 1 -1  1 ...  1 -1 -1]\n",
      " [-1  1 -1 ...  1 -1  0]\n",
      " [-1  1  1 ...  0  1  1]\n",
      " ...\n",
      " [-1  1  0 ... -1  1  0]\n",
      " [ 1 -1  1 ...  1 -1 -1]\n",
      " [ 1 -1  1 ...  1 -1  1]]\n",
      "[ 1 -1 -1 -1 -1  1 -1 -1 -1 -1 -1 -1 -1  1 -1  1  1 -1 -1  1 -1  1 -1  1\n",
      " -1 -1 -1  1 -1 -1 -1  1  1  1  1 -1 -1  1 -1  1  1 -1 -1 -1  1 -1  1 -1\n",
      "  1 -1 -1 -1 -1 -1 -1 -1  1  1 -1 -1  1  1  1 -1  1 -1 -1 -1 -1 -1 -1 -1\n",
      " -1 -1  1 -1  1 -1  1  1  1  1  1  1 -1 -1 -1 -1 -1 -1 -1 -1  1  1  1 -1\n",
      " -1  1 -1  1 -1 -1 -1 -1 -1 -1 -1 -1 -1 -1 -1  1 -1  1 -1 -1 -1 -1 -1 -1\n",
      "  1  1 -1 -1 -1  1  1  1 -1  1  1 -1 -1 -1 -1 -1  1  1 -1  1  1 -1  1 -1\n",
      "  1 -1 -1 -1 -1  1  1  1  1  1 -1 -1 -1  1  1 -1 -1  1  1  1 -1  1 -1  1\n",
      " -1  1  1  1 -1  1  1 -1  1 -1 -1 -1 -1 -1 -1 -1 -1  1 -1 -1  1 -1 -1 -1\n",
      "  1 -1  1 -1 -1  1 -1  1  1 -1 -1 -1 -1  1 -1 -1 -1  1  1 -1  1 -1 -1  1\n",
      " -1  1  1 -1  1 -1  1  1 -1 -1 -1 -1  1 -1  1 -1 -1  1 -1 -1 -1 -1 -1 -1\n",
      "  1 -1  1 -1 -1 -1 -1 -1  1  1 -1 -1 -1 -1 -1 -1 -1  1 -1 -1 -1 -1 -1 -1\n",
      "  1  1  1  1 -1 -1  1  1  1 -1 -1 -1  1 -1 -1  1 -1 -1 -1  1 -1 -1  1 -1\n",
      "  1 -1  1  1 -1 -1 -1 -1  1 -1 -1 -1 -1  1  1  1 -1 -1  1 -1 -1  1 -1 -1\n",
      "  1  1  1 -1 -1  1 -1  1 -1  1  1 -1  1 -1 -1  1  1 -1 -1  1 -1  1 -1]\n",
      "[[-1  1 -1 ...  1 -1 -1]\n",
      " [ 1 -1  1 ...  1 -1  0]\n",
      " [ 1  1  1 ...  0  1  1]\n",
      " ...\n",
      " [ 0  0  0 ...  1 -1  0]\n",
      " [-1  1 -1 ...  1  0  1]\n",
      " [-1  1 -1 ... -1  1  1]]\n"
     ]
    }
   ],
   "source": [
    "print(vote)\n",
    "print (trainTarget)\n",
    "print (trainData)"
   ]
  },
  {
   "cell_type": "code",
   "execution_count": 80,
   "metadata": {
    "collapsed": true
   },
   "outputs": [],
   "source": [
    "vecteurPoids = np.array([1,0,0,0,0,0,0,0,0,0,0,0,0,0,0,0])"
   ]
  },
  {
   "cell_type": "code",
   "execution_count": 81,
   "metadata": {
    "collapsed": false
   },
   "outputs": [],
   "source": [
    "def classify(element,vecteurPoids):\n",
    "\n",
    "    result = sum(element * vecteurPoids)\n",
    "    if(result >= 0.5):\n",
    "\n",
    "        return 1\n",
    "\n",
    "    return -1"
   ]
  },
  {
   "cell_type": "code",
   "execution_count": 82,
   "metadata": {
    "collapsed": false
   },
   "outputs": [
    {
     "ename": "ValueError",
     "evalue": "operands could not be broadcast together with shapes (16,) (17,) ",
     "output_type": "error",
     "traceback": [
      "\u001b[0;31m---------------------------------------------------------------------------\u001b[0m",
      "\u001b[0;31mValueError\u001b[0m                                Traceback (most recent call last)",
      "\u001b[0;32m<ipython-input-82-5a886c3614ae>\u001b[0m in \u001b[0;36m<module>\u001b[0;34m()\u001b[0m\n\u001b[0;32m----> 1\u001b[0;31m \u001b[0mprint\u001b[0m\u001b[0;34m(\u001b[0m\u001b[0mclassify\u001b[0m\u001b[0;34m(\u001b[0m\u001b[0mtrainData\u001b[0m\u001b[0;34m[\u001b[0m\u001b[0;36m0\u001b[0m\u001b[0;34m]\u001b[0m\u001b[0;34m,\u001b[0m\u001b[0mvecteurPoids\u001b[0m\u001b[0;34m)\u001b[0m\u001b[0;34m)\u001b[0m\u001b[0;34m\u001b[0m\u001b[0m\n\u001b[0m",
      "\u001b[0;32m<ipython-input-81-9968f3799563>\u001b[0m in \u001b[0;36mclassify\u001b[0;34m(element, vecteurPoids)\u001b[0m\n\u001b[1;32m      1\u001b[0m \u001b[0;32mdef\u001b[0m \u001b[0mclassify\u001b[0m\u001b[0;34m(\u001b[0m\u001b[0melement\u001b[0m\u001b[0;34m,\u001b[0m\u001b[0mvecteurPoids\u001b[0m\u001b[0;34m)\u001b[0m\u001b[0;34m:\u001b[0m\u001b[0;34m\u001b[0m\u001b[0m\n\u001b[1;32m      2\u001b[0m \u001b[0;34m\u001b[0m\u001b[0m\n\u001b[0;32m----> 3\u001b[0;31m     \u001b[0mresult\u001b[0m \u001b[0;34m=\u001b[0m \u001b[0msum\u001b[0m\u001b[0;34m(\u001b[0m\u001b[0melement\u001b[0m \u001b[0;34m*\u001b[0m \u001b[0mvecteurPoids\u001b[0m\u001b[0;34m)\u001b[0m\u001b[0;34m\u001b[0m\u001b[0m\n\u001b[0m\u001b[1;32m      4\u001b[0m     \u001b[0;32mif\u001b[0m\u001b[0;34m(\u001b[0m\u001b[0mresult\u001b[0m \u001b[0;34m>=\u001b[0m \u001b[0;36m0.5\u001b[0m\u001b[0;34m)\u001b[0m\u001b[0;34m:\u001b[0m\u001b[0;34m\u001b[0m\u001b[0m\n\u001b[1;32m      5\u001b[0m \u001b[0;34m\u001b[0m\u001b[0m\n",
      "\u001b[0;31mValueError\u001b[0m: operands could not be broadcast together with shapes (16,) (17,) "
     ]
    }
   ],
   "source": [
    "print(classify(trainData[0],vecteurPoids))"
   ]
  },
  {
   "cell_type": "markdown",
   "metadata": {},
   "source": [
    "# <span style=\"color:green; font-family:Georgia; font-size:0.8em;\"> 1. Division de l’échantillon d’apprentissage"
   ]
  },
  {
   "cell_type": "code",
   "execution_count": null,
   "metadata": {
    "collapsed": true,
    "scrolled": true
   },
   "outputs": [],
   "source": []
  },
  {
   "cell_type": "code",
   "execution_count": null,
   "metadata": {
    "collapsed": true
   },
   "outputs": [],
   "source": []
  },
  {
   "cell_type": "code",
   "execution_count": null,
   "metadata": {
    "collapsed": true
   },
   "outputs": [],
   "source": []
  },
  {
   "cell_type": "code",
   "execution_count": null,
   "metadata": {
    "collapsed": true
   },
   "outputs": [],
   "source": []
  }
 ],
 "metadata": {
  "kernelspec": {
   "display_name": "Python 3",
   "language": "python",
   "name": "python3"
  },
  "language_info": {
   "codemirror_mode": {
    "name": "ipython",
    "version": 3
   },
   "file_extension": ".py",
   "mimetype": "text/x-python",
   "name": "python",
   "nbconvert_exporter": "python",
   "pygments_lexer": "ipython3",
   "version": "3.6.3"
  }
 },
 "nbformat": 4,
 "nbformat_minor": 2
}
