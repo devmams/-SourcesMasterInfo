{
 "cells": [
  {
   "cell_type": "markdown",
   "metadata": {},
   "source": [
    "# <span style=\"text-align=center; color:DarkMagenta; font-family:Georgia; font-size:1.2em;\"> **   _ M1- TP2 Apprentissage Automatique et Numérique_** </span>\n"
   ]
  },
  {
   "cell_type": "markdown",
   "metadata": {},
   "source": [
    "# <span style=\"color:green; font-family:Georgia; font-size:1.5m;\"> Chargement des données"
   ]
  },
  {
   "cell_type": "code",
   "execution_count": 1,
   "metadata": {
    "collapsed": false
   },
   "outputs": [
    {
     "ename": "ModuleNotFoundError",
     "evalue": "No module named 'seaborn'",
     "output_type": "error",
     "traceback": [
      "\u001b[0;31m---------------------------------------------------------------------------\u001b[0m",
      "\u001b[0;31mModuleNotFoundError\u001b[0m                       Traceback (most recent call last)",
      "\u001b[0;32m<ipython-input-1-25bfa61a60d7>\u001b[0m in \u001b[0;36m<module>\u001b[0;34m()\u001b[0m\n\u001b[1;32m      1\u001b[0m \u001b[0;32mimport\u001b[0m \u001b[0mmatplotlib\u001b[0m\u001b[0;34m.\u001b[0m\u001b[0mpyplot\u001b[0m \u001b[0;32mas\u001b[0m \u001b[0mplt\u001b[0m\u001b[0;34m\u001b[0m\u001b[0m\n\u001b[0;32m----> 2\u001b[0;31m \u001b[0;32mimport\u001b[0m \u001b[0mseaborn\u001b[0m \u001b[0;32mas\u001b[0m \u001b[0msns\u001b[0m\u001b[0;34m\u001b[0m\u001b[0m\n\u001b[0m\u001b[1;32m      3\u001b[0m \u001b[0;32mfrom\u001b[0m \u001b[0msklearn\u001b[0m \u001b[0;32mimport\u001b[0m \u001b[0mdatasets\u001b[0m\u001b[0;34m\u001b[0m\u001b[0m\n\u001b[1;32m      4\u001b[0m \u001b[0miris\u001b[0m \u001b[0;34m=\u001b[0m \u001b[0mdatasets\u001b[0m\u001b[0;34m.\u001b[0m\u001b[0mload_iris\u001b[0m\u001b[0;34m(\u001b[0m\u001b[0;34m)\u001b[0m\u001b[0;34m\u001b[0m\u001b[0m\n\u001b[1;32m      5\u001b[0m \u001b[0;31m# print (iris.data)\u001b[0m\u001b[0;34m\u001b[0m\u001b[0;34m\u001b[0m\u001b[0m\n",
      "\u001b[0;31mModuleNotFoundError\u001b[0m: No module named 'seaborn'"
     ]
    }
   ],
   "source": [
    "import matplotlib.pyplot as plt\n",
    "import seaborn as sns\n",
    "from sklearn import datasets\n",
    "iris = datasets.load_iris()\n",
    "# print (iris.data)\n",
    "# print (iris.target)\n",
    "iris_sns = sns.load_dataset(\"iris\")\n",
    "iris_sns.head()\n",
    "sns.pairplot(iris_sns, hue='species', height=2.5);"
   ]
  },
  {
   "cell_type": "markdown",
   "metadata": {},
   "source": [
    "# <span style=\"color:green; font-family:Georgia; font-size:0.8em;\"> 1. Division de l’échantillon d’apprentissage"
   ]
  },
  {
   "cell_type": "code",
   "execution_count": 12,
   "metadata": {
    "collapsed": false,
    "scrolled": true
   },
   "outputs": [
    {
     "ename": "NameError",
     "evalue": "name 'iris' is not defined",
     "output_type": "error",
     "traceback": [
      "\u001b[0;31m---------------------------------------------------------------------------\u001b[0m",
      "\u001b[0;31mNameError\u001b[0m                                 Traceback (most recent call last)",
      "\u001b[0;32m<ipython-input-12-6aac64afcfa1>\u001b[0m in \u001b[0;36m<module>\u001b[0;34m()\u001b[0m\n\u001b[1;32m      1\u001b[0m \u001b[0;32mimport\u001b[0m \u001b[0mnumpy\u001b[0m \u001b[0;32mas\u001b[0m \u001b[0mnp\u001b[0m\u001b[0;34m\u001b[0m\u001b[0m\n\u001b[0;32m----> 2\u001b[0;31m \u001b[0mCiris\u001b[0m \u001b[0;34m=\u001b[0m \u001b[0mnp\u001b[0m\u001b[0;34m.\u001b[0m\u001b[0mc_\u001b[0m\u001b[0;34m[\u001b[0m\u001b[0miris\u001b[0m\u001b[0;34m.\u001b[0m\u001b[0mdata\u001b[0m\u001b[0;34m.\u001b[0m\u001b[0mreshape\u001b[0m\u001b[0;34m(\u001b[0m\u001b[0mlen\u001b[0m\u001b[0;34m(\u001b[0m\u001b[0miris\u001b[0m\u001b[0;34m.\u001b[0m\u001b[0mdata\u001b[0m\u001b[0;34m)\u001b[0m\u001b[0;34m,\u001b[0m \u001b[0;34m-\u001b[0m\u001b[0;36m1\u001b[0m\u001b[0;34m)\u001b[0m\u001b[0;34m,\u001b[0m \u001b[0miris\u001b[0m\u001b[0;34m.\u001b[0m\u001b[0mtarget\u001b[0m\u001b[0;34m.\u001b[0m\u001b[0mreshape\u001b[0m\u001b[0;34m(\u001b[0m\u001b[0mlen\u001b[0m\u001b[0;34m(\u001b[0m\u001b[0miris\u001b[0m\u001b[0;34m.\u001b[0m\u001b[0mtarget\u001b[0m\u001b[0;34m)\u001b[0m\u001b[0;34m,\u001b[0m \u001b[0;34m-\u001b[0m\u001b[0;36m1\u001b[0m\u001b[0;34m)\u001b[0m\u001b[0;34m]\u001b[0m\u001b[0;34m\u001b[0m\u001b[0m\n\u001b[0m\u001b[1;32m      3\u001b[0m \u001b[0mnp\u001b[0m\u001b[0;34m.\u001b[0m\u001b[0mrandom\u001b[0m\u001b[0;34m.\u001b[0m\u001b[0mseed\u001b[0m\u001b[0;34m(\u001b[0m\u001b[0;36m987654321\u001b[0m\u001b[0;34m)\u001b[0m\u001b[0;34m\u001b[0m\u001b[0m\n\u001b[1;32m      4\u001b[0m \u001b[0mnp\u001b[0m\u001b[0;34m.\u001b[0m\u001b[0mrandom\u001b[0m\u001b[0;34m.\u001b[0m\u001b[0mshuffle\u001b[0m\u001b[0;34m(\u001b[0m\u001b[0mCiris\u001b[0m\u001b[0;34m)\u001b[0m\u001b[0;34m\u001b[0m\u001b[0m\n\u001b[1;32m      5\u001b[0m \u001b[0mshuffledIrisData\u001b[0m \u001b[0;34m=\u001b[0m \u001b[0mCiris\u001b[0m\u001b[0;34m[\u001b[0m \u001b[0;34m:\u001b[0m\u001b[0;34m,\u001b[0m \u001b[0;34m:\u001b[0m\u001b[0miris\u001b[0m\u001b[0;34m.\u001b[0m\u001b[0mdata\u001b[0m\u001b[0;34m.\u001b[0m\u001b[0msize\u001b[0m\u001b[0;34m//\u001b[0m\u001b[0mlen\u001b[0m\u001b[0;34m(\u001b[0m\u001b[0miris\u001b[0m\u001b[0;34m.\u001b[0m\u001b[0mdata\u001b[0m\u001b[0;34m)\u001b[0m\u001b[0;34m]\u001b[0m\u001b[0;34m.\u001b[0m\u001b[0mreshape\u001b[0m\u001b[0;34m(\u001b[0m\u001b[0miris\u001b[0m\u001b[0;34m.\u001b[0m\u001b[0mdata\u001b[0m\u001b[0;34m.\u001b[0m\u001b[0mshape\u001b[0m\u001b[0;34m)\u001b[0m\u001b[0;34m\u001b[0m\u001b[0m\n",
      "\u001b[0;31mNameError\u001b[0m: name 'iris' is not defined"
     ]
    }
   ],
   "source": [
    "import numpy as np\n",
    "Ciris = np.c_[iris.data.reshape(len(iris.data), -1), iris.target.reshape(len(iris.target), -1)]\n",
    "np.random.seed(987654321)\n",
    "np.random.shuffle(Ciris)\n",
    "shuffledIrisData = Ciris[ :, :iris.data.size//len(iris.data)].reshape(iris.data.shape)\n",
    "shuffledIrisTarget = Ciris[ :, iris.data.size//len(iris.data) :].reshape(iris.target.shape)\n",
    "\n",
    "print (shuffledIrisData)\n",
    "print (shuffledIrisTarget)"
   ]
  },
  {
   "cell_type": "markdown",
   "metadata": {},
   "source": [
    "## <span style=\"color:brown; font-family:Gemesorgia; font-size:1.3em;\">données d'apprentissage </span>"
   ]
  },
  {
   "cell_type": "code",
   "execution_count": 11,
   "metadata": {
    "collapsed": false,
    "scrolled": true
   },
   "outputs": [
    {
     "ename": "NameError",
     "evalue": "name 'shuffledIrisData' is not defined",
     "output_type": "error",
     "traceback": [
      "\u001b[0;31m---------------------------------------------------------------------------\u001b[0m",
      "\u001b[0;31mNameError\u001b[0m                                 Traceback (most recent call last)",
      "\u001b[0;32m<ipython-input-11-41742219837e>\u001b[0m in \u001b[0;36m<module>\u001b[0;34m()\u001b[0m\n\u001b[0;32m----> 1\u001b[0;31m \u001b[0mdonneesApp\u001b[0m \u001b[0;34m=\u001b[0m \u001b[0mshuffledIrisData\u001b[0m\u001b[0;34m[\u001b[0m\u001b[0;36m0\u001b[0m\u001b[0;34m:\u001b[0m\u001b[0;36m100\u001b[0m\u001b[0;34m]\u001b[0m\u001b[0;34m\u001b[0m\u001b[0m\n\u001b[0m\u001b[1;32m      2\u001b[0m \u001b[0mtargetApp\u001b[0m  \u001b[0;34m=\u001b[0m \u001b[0mshuffledIrisTarget\u001b[0m\u001b[0;34m[\u001b[0m\u001b[0;36m0\u001b[0m\u001b[0;34m:\u001b[0m\u001b[0;36m100\u001b[0m\u001b[0;34m]\u001b[0m\u001b[0;34m\u001b[0m\u001b[0m\n\u001b[1;32m      3\u001b[0m \u001b[0mprint\u001b[0m\u001b[0;34m(\u001b[0m\u001b[0mdonneesApp\u001b[0m\u001b[0;34m)\u001b[0m\u001b[0;34m\u001b[0m\u001b[0m\n\u001b[1;32m      4\u001b[0m \u001b[0mprint\u001b[0m\u001b[0;34m(\u001b[0m\u001b[0mtargetApp\u001b[0m\u001b[0;34m)\u001b[0m\u001b[0;34m\u001b[0m\u001b[0m\n",
      "\u001b[0;31mNameError\u001b[0m: name 'shuffledIrisData' is not defined"
     ]
    }
   ],
   "source": [
    "donneesApp = shuffledIrisData[0:100]\n",
    "targetApp  = shuffledIrisTarget[0:100]\n",
    "print(donneesApp)\n",
    "print(targetApp)"
   ]
  },
  {
   "cell_type": "markdown",
   "metadata": {},
   "source": [
    "## <span style=\"color:brown; font-family:Gemesorgia; font-size:1.3em;\">données de dev </span>"
   ]
  },
  {
   "cell_type": "code",
   "execution_count": 10,
   "metadata": {
    "collapsed": false,
    "scrolled": true
   },
   "outputs": [
    {
     "ename": "NameError",
     "evalue": "name 'shuffledIrisData' is not defined",
     "output_type": "error",
     "traceback": [
      "\u001b[0;31m---------------------------------------------------------------------------\u001b[0m",
      "\u001b[0;31mNameError\u001b[0m                                 Traceback (most recent call last)",
      "\u001b[0;32m<ipython-input-10-3d6aa03cb036>\u001b[0m in \u001b[0;36m<module>\u001b[0;34m()\u001b[0m\n\u001b[0;32m----> 1\u001b[0;31m \u001b[0mdonneesDev\u001b[0m \u001b[0;34m=\u001b[0m \u001b[0mshuffledIrisData\u001b[0m\u001b[0;34m[\u001b[0m\u001b[0;36m100\u001b[0m\u001b[0;34m:\u001b[0m\u001b[0;36m130\u001b[0m\u001b[0;34m]\u001b[0m\u001b[0;34m\u001b[0m\u001b[0m\n\u001b[0m\u001b[1;32m      2\u001b[0m \u001b[0mtargetDev\u001b[0m  \u001b[0;34m=\u001b[0m \u001b[0mshuffledIrisTarget\u001b[0m\u001b[0;34m[\u001b[0m\u001b[0;36m100\u001b[0m\u001b[0;34m:\u001b[0m\u001b[0;36m130\u001b[0m\u001b[0;34m]\u001b[0m\u001b[0;34m\u001b[0m\u001b[0m\n\u001b[1;32m      3\u001b[0m \u001b[0mprint\u001b[0m\u001b[0;34m(\u001b[0m\u001b[0mdonneesDev\u001b[0m\u001b[0;34m)\u001b[0m\u001b[0;34m\u001b[0m\u001b[0m\n\u001b[1;32m      4\u001b[0m \u001b[0mprint\u001b[0m\u001b[0;34m(\u001b[0m\u001b[0mtargetDev\u001b[0m\u001b[0;34m)\u001b[0m\u001b[0;34m\u001b[0m\u001b[0m\n",
      "\u001b[0;31mNameError\u001b[0m: name 'shuffledIrisData' is not defined"
     ]
    }
   ],
   "source": [
    "donneesDev = shuffledIrisData[100:130]\n",
    "targetDev  = shuffledIrisTarget[100:130]\n",
    "print(donneesDev)\n",
    "print(targetDev)"
   ]
  },
  {
   "cell_type": "markdown",
   "metadata": {},
   "source": [
    "## <span style=\"color:brown; font-family:Gemesorgia; font-size:1.3em;\">données de test </span>"
   ]
  },
  {
   "cell_type": "code",
   "execution_count": 104,
   "metadata": {
    "collapsed": false,
    "scrolled": true
   },
   "outputs": [
    {
     "name": "stdout",
     "output_type": "stream",
     "text": [
      "[[7.4 2.8 6.1 1.9]\n",
      " [4.9 2.5 4.5 1.7]\n",
      " [6.9 3.1 4.9 1.5]\n",
      " [6.9 3.2 5.7 2.3]\n",
      " [5.4 3.7 1.5 0.2]\n",
      " [5.8 2.8 5.1 2.4]\n",
      " [6.  2.9 4.5 1.5]\n",
      " [6.7 2.5 5.8 1.8]\n",
      " [5.4 3.9 1.3 0.4]\n",
      " [5.9 3.2 4.8 1.8]\n",
      " [5.7 2.6 3.5 1. ]\n",
      " [6.  3.  4.8 1.8]\n",
      " [5.4 3.4 1.5 0.4]\n",
      " [4.9 3.  1.4 0.2]\n",
      " [5.7 2.8 4.1 1.3]\n",
      " [5.  3.  1.6 0.2]\n",
      " [6.3 2.3 4.4 1.3]\n",
      " [7.1 3.  5.9 2.1]\n",
      " [5.9 3.  5.1 1.8]\n",
      " [5.  3.4 1.5 0.2]]\n",
      "[2. 2. 1. 2. 0. 2. 1. 2. 0. 1. 1. 2. 0. 0. 1. 0. 1. 2. 2. 0.]\n"
     ]
    }
   ],
   "source": [
    "donneesTest = shuffledIrisData[130:150]\n",
    "targetTest  = shuffledIrisTarget[130:150]\n",
    "print(donneesTest)\n",
    "print(targetTest)"
   ]
  },
  {
   "cell_type": "markdown",
   "metadata": {},
   "source": [
    "# <span style=\"color:green; font-family:Georgia; font-size:0.8em;\"> 2. Phase d’apprentissage"
   ]
  },
  {
   "cell_type": "markdown",
   "metadata": {},
   "source": [
    "## <span style=\"color:brown; font-family:Gemesorgia; font-size:1.3em;\"> 2.1 probabilité à priori </span>"
   ]
  },
  {
   "cell_type": "code",
   "execution_count": 106,
   "metadata": {
    "collapsed": true
   },
   "outputs": [],
   "source": [
    "def probAPriori(target,classe):\n",
    "    cpt = 0\n",
    "    i=0\n",
    "    tailleTarget = len(target)\n",
    "    while i < tailleTarget:\n",
    "        if target[i] == classe :\n",
    "            cpt += 1\n",
    "        i += 1\n",
    "    return cpt/tailleTarget"
   ]
  },
  {
   "cell_type": "code",
   "execution_count": 105,
   "metadata": {
    "collapsed": false
   },
   "outputs": [
    {
     "name": "stdout",
     "output_type": "stream",
     "text": [
      "0.32\n",
      "0.37\n",
      "0.31\n"
     ]
    }
   ],
   "source": [
    "PprioriClasse0 = probAPriori(targetApp,0)\n",
    "PprioriClasse1 = probAPriori(targetApp,1)\n",
    "PprioriClasse2 = probAPriori(targetApp,2)\n",
    "print(PprioriClasse0)  # setosa\n",
    "print(PprioriClasse1)  # versicolor\n",
    "print(PprioriClasse2)  # virginica"
   ]
  },
  {
   "cell_type": "markdown",
   "metadata": {
    "collapsed": true
   },
   "source": [
    "## <span style=\"color:brown; font-family:Gemesorgia; font-size:1.3em;\"> 2.2 vraisemblances </span>"
   ]
  },
  {
   "cell_type": "code",
   "execution_count": 2,
   "metadata": {
    "collapsed": true
   },
   "outputs": [],
   "source": [
    "def moyenne(mat,target,classe):\n",
    "    dimension1 = 0.0\n",
    "    dimension2 = 0.0\n",
    "    cpt = 0\n",
    "    i = 0\n",
    "    while i < len(mat):\n",
    "        if target[i] == classe :     \n",
    "            dimension1 += mat[i,0]\n",
    "            dimension2 += mat[i,1]\n",
    "            cpt += 1\n",
    "        i += 1\n",
    "    dimension1 = dimension1/taille\n",
    "    dimension2 = dimension1/taille\n",
    "    matRes = np.asarray([dimension1,dimension2])\n",
    "    return matRes"
   ]
  },
  {
   "cell_type": "code",
   "execution_count": 1,
   "metadata": {
    "collapsed": false
   },
   "outputs": [
    {
     "ename": "NameError",
     "evalue": "name 'moyenne' is not defined",
     "output_type": "error",
     "traceback": [
      "\u001b[0;31m---------------------------------------------------------------------------\u001b[0m",
      "\u001b[0;31mNameError\u001b[0m                                 Traceback (most recent call last)",
      "\u001b[0;32m<ipython-input-1-83870fde4a93>\u001b[0m in \u001b[0;36m<module>\u001b[0;34m()\u001b[0m\n\u001b[0;32m----> 1\u001b[0;31m \u001b[0mvectMoyenClasse0\u001b[0m \u001b[0;34m=\u001b[0m \u001b[0mmoyenne\u001b[0m\u001b[0;34m(\u001b[0m\u001b[0mdonneesApp\u001b[0m\u001b[0;34m,\u001b[0m\u001b[0mtargetApp\u001b[0m\u001b[0;34m,\u001b[0m\u001b[0;36m0\u001b[0m\u001b[0;34m)\u001b[0m \u001b[0;31m# setosa\u001b[0m\u001b[0;34m\u001b[0m\u001b[0m\n\u001b[0m\u001b[1;32m      2\u001b[0m \u001b[0mvectMoyenClasse0\u001b[0m \u001b[0;34m=\u001b[0m \u001b[0mmoyenne\u001b[0m\u001b[0;34m(\u001b[0m\u001b[0mdonneesApp\u001b[0m\u001b[0;34m,\u001b[0m\u001b[0mtargetApp\u001b[0m\u001b[0;34m,\u001b[0m\u001b[0;36m1\u001b[0m\u001b[0;34m)\u001b[0m \u001b[0;31m# versicolor\u001b[0m\u001b[0;34m\u001b[0m\u001b[0m\n\u001b[1;32m      3\u001b[0m \u001b[0mvectMoyenClasse0\u001b[0m \u001b[0;34m=\u001b[0m \u001b[0mmoyenne\u001b[0m\u001b[0;34m(\u001b[0m\u001b[0mdonneesApp\u001b[0m\u001b[0;34m,\u001b[0m\u001b[0mtargetApp\u001b[0m\u001b[0;34m,\u001b[0m\u001b[0;36m2\u001b[0m\u001b[0;34m)\u001b[0m \u001b[0;31m# virginica\u001b[0m\u001b[0;34m\u001b[0m\u001b[0m\n",
      "\u001b[0;31mNameError\u001b[0m: name 'moyenne' is not defined"
     ]
    }
   ],
   "source": [
    "vectMoyenClasse0 = moyenne(donneesApp,targetApp,0) # setosa\n",
    "vectMoyenClasse1 = moyenne(donneesApp,targetApp,1) # versicolor\n",
    "vectMoyenClasse2 = moyenne(donneesApp,targetApp,2) # virginica"
   ]
  },
  {
   "cell_type": "code",
   "execution_count": 5,
   "metadata": {
    "collapsed": true
   },
   "outputs": [],
   "source": [
    "def covariance(mat,target,vectM,classe):\n",
    "    i = 0\n",
    "    cpt = 0\n",
    "    covariance = 0\n",
    "    while i < len(mat):\n",
    "        if target[i] == classe:\n",
    "            covariance += (mat[i,0]-vectM[0])+(mat[i,1]-vectM[1])\n",
    "            cpt += 1\n",
    "        i += 1\n",
    "    return covariance/cpt"
   ]
  },
  {
   "cell_type": "code",
   "execution_count": null,
   "metadata": {
    "collapsed": true
   },
   "outputs": [],
   "source": [
    "covClasse0 = covariance(donneesApp,targetApp,vectMoyenClasse0,0) # setosa\n",
    "covClasse1 = covariance(donneesApp,targetApp,vectMoyenClasse1,1) # versicolor\n",
    "covClasse2 = covariance(donneesApp,targetApp,vectMoyenClasse2,2) # virginica"
   ]
  },
  {
   "cell_type": "code",
   "execution_count": 3,
   "metadata": {
    "collapsed": true
   },
   "outputs": [],
   "source": [
    "def probLoiGauss(x,moyenne,Mcov):\n",
    "    temp1 = np.linalg.inv(Mcov)\n",
    "    temp2 = np.transpose(x-moyenne)\n",
    "    temp3 = x-moyenne\n",
    "    resExp = math.exp(-0.5* np.inner(np.inner(temp2,temp1),temp3))\n",
    "    temp4 = math.pow(np.linalg.norm(Mcov),0.5)\n",
    "    temp5 = (1 / (2*math.pi* temp4))\n",
    "    return temp5 * resExp\n"
   ]
  },
  {
   "cell_type": "code",
   "execution_count": null,
   "metadata": {
    "collapsed": true
   },
   "outputs": [],
   "source": [
    "def probAPosteriori(elt,VariablesClasses):\n",
    "    return VariablesClasseO[0]*probLoiGauss(elt,VariablesClasseO[1],VariablesClasseO[2])"
   ]
  },
  {
   "cell_type": "code",
   "execution_count": 4,
   "metadata": {
    "collapsed": true
   },
   "outputs": [],
   "source": [
    "def classifieur(elt,VariablesClasses0,VariablesClasses1,VariablesClasses2):\n",
    "    probAPostClasse0 = probAPosteriori(elt,VariablesClasses0)\n",
    "    probAPostClasse1 = probAPosteriori(elt,VariablesClasses1)\n",
    "    probAPostClasse2 = probAPosteriori(elt,VariablesClasses2)\n",
    "    if(probClasse0 > probClasse1 and probClasse0>probClasse2):\n",
    "        return 0\n",
    "    elif(probClasse1 > probClasse0 and probClasse1>probClasse2):\n",
    "        return 1\n",
    "    return 2"
   ]
  },
  {
   "cell_type": "code",
   "execution_count": null,
   "metadata": {
    "collapsed": true
   },
   "outputs": [],
   "source": []
  }
 ],
 "metadata": {
  "kernelspec": {
   "display_name": "Python 3",
   "language": "python",
   "name": "python3"
  },
  "language_info": {
   "codemirror_mode": {
    "name": "ipython",
    "version": 3
   },
   "file_extension": ".py",
   "mimetype": "text/x-python",
   "name": "python",
   "nbconvert_exporter": "python",
   "pygments_lexer": "ipython3",
   "version": "3.6.3"
  }
 },
 "nbformat": 4,
 "nbformat_minor": 2
}
