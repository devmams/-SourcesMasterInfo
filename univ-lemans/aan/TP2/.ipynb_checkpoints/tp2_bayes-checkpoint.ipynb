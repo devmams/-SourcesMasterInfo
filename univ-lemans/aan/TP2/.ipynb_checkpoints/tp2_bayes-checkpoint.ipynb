{
 "cells": [
  {
   "cell_type": "markdown",
   "metadata": {},
   "source": [
    "# <span style=\"text-align=center; color:DarkMagenta; font-family:Georgia; font-size:1.2em;\"> **   _ M1- TP2 Apprentissage Automatique et Numérique_** </span>\n"
   ]
  },
  {
   "cell_type": "markdown",
   "metadata": {},
   "source": [
    "# <span style=\"color:green; font-family:Georgia; font-size:1.5m;\"> Chargement des données"
   ]
  },
  {
   "cell_type": "code",
   "execution_count": 5,
   "metadata": {
    "collapsed": false
   },
   "outputs": [],
   "source": [
    "import matplotlib.pyplot as plt\n",
    "import seaborn as sns\n",
    "from sklearn import datasets\n",
    "iris = datasets.load_iris()\n",
    "# print (iris.data)\n",
    "# print (iris.target)\n",
    "iris_sns = sns.load_dataset(\"iris\")\n",
    "iris_sns.head()\n",
    "sns.pairplot(iris_sns, hue='species', height=2.5);"
   ]
  },
  {
   "cell_type": "markdown",
   "metadata": {},
   "source": [
    "# <span style=\"color:green; font-family:Georgia; font-size:0.8em;\"> 1. Division de l’échantillon d’apprentissage"
   ]
  },
  {
   "cell_type": "code",
   "execution_count": 6,
   "metadata": {
    "collapsed": false,
    "scrolled": true
   },
   "outputs": [
    {
     "name": "stdout",
     "output_type": "stream",
     "text": [
      "[[4.8 3.4 1.6 0.2]\n",
      " [5.5 2.5 4.  1.3]\n",
      " [6.3 3.3 4.7 1.6]\n",
      " [6.1 2.8 4.7 1.2]\n",
      " [5.1 3.8 1.6 0.2]\n",
      " [6.6 3.  4.4 1.4]\n",
      " [5.8 2.6 4.  1.2]\n",
      " [6.6 2.9 4.6 1.3]\n",
      " [5.1 2.5 3.  1.1]\n",
      " [5.2 3.5 1.5 0.2]\n",
      " [7.2 3.2 6.  1.8]\n",
      " [7.2 3.  5.8 1.6]\n",
      " [5.1 3.3 1.7 0.5]\n",
      " [7.2 3.6 6.1 2.5]\n",
      " [6.4 2.8 5.6 2.2]\n",
      " [5.6 2.9 3.6 1.3]\n",
      " [6.2 3.4 5.4 2.3]\n",
      " [5.1 3.5 1.4 0.2]\n",
      " [4.8 3.1 1.6 0.2]\n",
      " [6.7 3.  5.2 2.3]\n",
      " [4.6 3.2 1.4 0.2]\n",
      " [4.6 3.4 1.4 0.3]\n",
      " [6.1 2.8 4.  1.3]\n",
      " [5.7 2.8 4.5 1.3]\n",
      " [5.9 3.  4.2 1.5]\n",
      " [4.8 3.  1.4 0.1]\n",
      " [4.5 2.3 1.3 0.3]\n",
      " [5.5 2.6 4.4 1.2]\n",
      " [5.7 2.5 5.  2. ]\n",
      " [6.4 3.1 5.5 1.8]\n",
      " [6.3 2.9 5.6 1.8]\n",
      " [4.9 3.1 1.5 0.1]\n",
      " [5.  3.2 1.2 0.2]\n",
      " [5.3 3.7 1.5 0.2]\n",
      " [5.2 2.7 3.9 1.4]\n",
      " [5.1 3.5 1.4 0.3]\n",
      " [7.7 2.8 6.7 2. ]\n",
      " [6.3 2.5 4.9 1.5]\n",
      " [6.7 3.1 4.4 1.4]\n",
      " [6.  3.4 4.5 1.6]\n",
      " [5.7 3.8 1.7 0.3]\n",
      " [6.9 3.1 5.4 2.1]\n",
      " [6.5 3.  5.8 2.2]\n",
      " [5.  3.4 1.6 0.4]\n",
      " [4.8 3.4 1.9 0.2]\n",
      " [6.1 2.9 4.7 1.4]\n",
      " [4.9 3.6 1.4 0.1]\n",
      " [4.9 2.4 3.3 1. ]\n",
      " [4.8 3.  1.4 0.3]\n",
      " [6.1 3.  4.6 1.4]\n",
      " [6.7 3.3 5.7 2.5]\n",
      " [6.5 3.  5.5 1.8]\n",
      " [5.5 2.4 3.8 1.1]\n",
      " [5.6 2.7 4.2 1.3]\n",
      " [5.8 2.7 5.1 1.9]\n",
      " [6.1 3.  4.9 1.8]\n",
      " [6.5 3.2 5.1 2. ]\n",
      " [5.  2.3 3.3 1. ]\n",
      " [6.8 3.2 5.9 2.3]\n",
      " [5.8 2.7 4.1 1. ]\n",
      " [6.1 2.6 5.6 1.4]\n",
      " [5.6 3.  4.1 1.3]\n",
      " [5.2 4.1 1.5 0.1]\n",
      " [6.7 3.1 4.7 1.5]\n",
      " [6.4 3.2 5.3 2.3]\n",
      " [5.5 3.5 1.3 0.2]\n",
      " [5.7 3.  4.2 1.2]\n",
      " [6.4 2.9 4.3 1.3]\n",
      " [6.  2.2 4.  1. ]\n",
      " [5.8 4.  1.2 0.2]\n",
      " [4.7 3.2 1.6 0.2]\n",
      " [5.8 2.7 5.1 1.9]\n",
      " [5.  3.3 1.4 0.2]\n",
      " [7.3 2.9 6.3 1.8]\n",
      " [6.4 3.2 4.5 1.5]\n",
      " [5.6 2.8 4.9 2. ]\n",
      " [4.6 3.6 1.  0.2]\n",
      " [4.6 3.1 1.5 0.2]\n",
      " [6.3 2.7 4.9 1.8]\n",
      " [6.2 2.8 4.8 1.8]\n",
      " [6.9 3.1 5.1 2.3]\n",
      " [6.5 3.  5.2 2. ]\n",
      " [6.5 2.8 4.6 1.5]\n",
      " [5.  2.  3.5 1. ]\n",
      " [5.1 3.7 1.5 0.4]\n",
      " [5.8 2.7 3.9 1.2]\n",
      " [5.6 2.5 3.9 1.1]\n",
      " [5.5 2.4 3.7 1. ]\n",
      " [6.7 3.3 5.7 2.1]\n",
      " [5.6 3.  4.5 1.5]\n",
      " [4.3 3.  1.1 0.1]\n",
      " [5.1 3.4 1.5 0.2]\n",
      " [6.3 3.3 6.  2.5]\n",
      " [5.  3.6 1.4 0.2]\n",
      " [7.7 3.8 6.7 2.2]\n",
      " [5.4 3.  4.5 1.5]\n",
      " [6.3 2.5 5.  1.9]\n",
      " [5.  3.5 1.3 0.3]\n",
      " [5.5 2.3 4.  1.3]\n",
      " [5.1 3.8 1.9 0.4]\n",
      " [6.  2.2 5.  1.5]\n",
      " [6.4 2.7 5.3 1.9]\n",
      " [5.  3.5 1.6 0.6]\n",
      " [5.1 3.8 1.5 0.3]\n",
      " [6.2 2.9 4.3 1.3]\n",
      " [6.2 2.2 4.5 1.5]\n",
      " [4.4 3.2 1.3 0.2]\n",
      " [4.9 3.1 1.5 0.2]\n",
      " [6.  2.7 5.1 1.6]\n",
      " [6.3 2.8 5.1 1.5]\n",
      " [6.8 3.  5.5 2.1]\n",
      " [5.4 3.4 1.7 0.2]\n",
      " [6.7 3.  5.  1.7]\n",
      " [6.3 3.4 5.6 2.4]\n",
      " [5.7 4.4 1.5 0.4]\n",
      " [5.2 3.4 1.4 0.2]\n",
      " [7.7 2.6 6.9 2.3]\n",
      " [4.7 3.2 1.3 0.2]\n",
      " [7.  3.2 4.7 1.4]\n",
      " [5.7 2.9 4.2 1.3]\n",
      " [5.4 3.9 1.7 0.4]\n",
      " [6.7 3.1 5.6 2.4]\n",
      " [5.5 4.2 1.4 0.2]\n",
      " [4.4 3.  1.3 0.2]\n",
      " [6.8 2.8 4.8 1.4]\n",
      " [7.9 3.8 6.4 2. ]\n",
      " [7.7 3.  6.1 2.3]\n",
      " [4.4 2.9 1.4 0.2]\n",
      " [7.6 3.  6.6 2.1]\n",
      " [6.4 2.8 5.6 2.1]\n",
      " [7.4 2.8 6.1 1.9]\n",
      " [4.9 2.5 4.5 1.7]\n",
      " [6.9 3.1 4.9 1.5]\n",
      " [6.9 3.2 5.7 2.3]\n",
      " [5.4 3.7 1.5 0.2]\n",
      " [5.8 2.8 5.1 2.4]\n",
      " [6.  2.9 4.5 1.5]\n",
      " [6.7 2.5 5.8 1.8]\n",
      " [5.4 3.9 1.3 0.4]\n",
      " [5.9 3.2 4.8 1.8]\n",
      " [5.7 2.6 3.5 1. ]\n",
      " [6.  3.  4.8 1.8]\n",
      " [5.4 3.4 1.5 0.4]\n",
      " [4.9 3.  1.4 0.2]\n",
      " [5.7 2.8 4.1 1.3]\n",
      " [5.  3.  1.6 0.2]\n",
      " [6.3 2.3 4.4 1.3]\n",
      " [7.1 3.  5.9 2.1]\n",
      " [5.9 3.  5.1 1.8]\n",
      " [5.  3.4 1.5 0.2]]\n",
      "[0. 1. 1. 1. 0. 1. 1. 1. 1. 0. 2. 2. 0. 2. 2. 1. 2. 0. 0. 2. 0. 0. 1. 1.\n",
      " 1. 0. 0. 1. 2. 2. 2. 0. 0. 0. 1. 0. 2. 1. 1. 1. 0. 2. 2. 0. 0. 1. 0. 1.\n",
      " 0. 1. 2. 2. 1. 1. 2. 2. 2. 1. 2. 1. 2. 1. 0. 1. 2. 0. 1. 1. 1. 0. 0. 2.\n",
      " 0. 2. 1. 2. 0. 0. 2. 2. 2. 2. 1. 1. 0. 1. 1. 1. 2. 1. 0. 0. 2. 0. 2. 1.\n",
      " 2. 0. 1. 0. 2. 2. 0. 0. 1. 1. 0. 0. 1. 2. 2. 0. 1. 2. 0. 0. 2. 0. 1. 1.\n",
      " 0. 2. 0. 0. 1. 2. 2. 0. 2. 2. 2. 2. 1. 2. 0. 2. 1. 2. 0. 1. 1. 2. 0. 0.\n",
      " 1. 0. 1. 2. 2. 0.]\n"
     ]
    }
   ],
   "source": [
    "import numpy as np\n",
    "Ciris = np.c_[iris.data.reshape(len(iris.data), -1), iris.target.reshape(len(iris.target), -1)]\n",
    "np.random.seed(987654321)\n",
    "np.random.shuffle(Ciris)\n",
    "shuffledIrisData = Ciris[ :, :iris.data.size//len(iris.data)].reshape(iris.data.shape)\n",
    "shuffledIrisTarget = Ciris[ :, iris.data.size//len(iris.data) :].reshape(iris.target.shape)\n",
    "\n",
    "print (shuffledIrisData)\n",
    "print (shuffledIrisTarget)"
   ]
  },
  {
   "cell_type": "markdown",
   "metadata": {},
   "source": [
    "## <span style=\"color:brown; font-family:Gemesorgia; font-size:1.3em;\">données d'apprentissage </span>"
   ]
  },
  {
   "cell_type": "code",
   "execution_count": 7,
   "metadata": {
    "collapsed": false,
    "scrolled": true
   },
   "outputs": [
    {
     "name": "stdout",
     "output_type": "stream",
     "text": [
      "[[4.8 3.4 1.6 0.2]\n",
      " [5.5 2.5 4.  1.3]\n",
      " [6.3 3.3 4.7 1.6]\n",
      " [6.1 2.8 4.7 1.2]\n",
      " [5.1 3.8 1.6 0.2]\n",
      " [6.6 3.  4.4 1.4]\n",
      " [5.8 2.6 4.  1.2]\n",
      " [6.6 2.9 4.6 1.3]\n",
      " [5.1 2.5 3.  1.1]\n",
      " [5.2 3.5 1.5 0.2]\n",
      " [7.2 3.2 6.  1.8]\n",
      " [7.2 3.  5.8 1.6]\n",
      " [5.1 3.3 1.7 0.5]\n",
      " [7.2 3.6 6.1 2.5]\n",
      " [6.4 2.8 5.6 2.2]\n",
      " [5.6 2.9 3.6 1.3]\n",
      " [6.2 3.4 5.4 2.3]\n",
      " [5.1 3.5 1.4 0.2]\n",
      " [4.8 3.1 1.6 0.2]\n",
      " [6.7 3.  5.2 2.3]\n",
      " [4.6 3.2 1.4 0.2]\n",
      " [4.6 3.4 1.4 0.3]\n",
      " [6.1 2.8 4.  1.3]\n",
      " [5.7 2.8 4.5 1.3]\n",
      " [5.9 3.  4.2 1.5]\n",
      " [4.8 3.  1.4 0.1]\n",
      " [4.5 2.3 1.3 0.3]\n",
      " [5.5 2.6 4.4 1.2]\n",
      " [5.7 2.5 5.  2. ]\n",
      " [6.4 3.1 5.5 1.8]\n",
      " [6.3 2.9 5.6 1.8]\n",
      " [4.9 3.1 1.5 0.1]\n",
      " [5.  3.2 1.2 0.2]\n",
      " [5.3 3.7 1.5 0.2]\n",
      " [5.2 2.7 3.9 1.4]\n",
      " [5.1 3.5 1.4 0.3]\n",
      " [7.7 2.8 6.7 2. ]\n",
      " [6.3 2.5 4.9 1.5]\n",
      " [6.7 3.1 4.4 1.4]\n",
      " [6.  3.4 4.5 1.6]\n",
      " [5.7 3.8 1.7 0.3]\n",
      " [6.9 3.1 5.4 2.1]\n",
      " [6.5 3.  5.8 2.2]\n",
      " [5.  3.4 1.6 0.4]\n",
      " [4.8 3.4 1.9 0.2]\n",
      " [6.1 2.9 4.7 1.4]\n",
      " [4.9 3.6 1.4 0.1]\n",
      " [4.9 2.4 3.3 1. ]\n",
      " [4.8 3.  1.4 0.3]\n",
      " [6.1 3.  4.6 1.4]\n",
      " [6.7 3.3 5.7 2.5]\n",
      " [6.5 3.  5.5 1.8]\n",
      " [5.5 2.4 3.8 1.1]\n",
      " [5.6 2.7 4.2 1.3]\n",
      " [5.8 2.7 5.1 1.9]\n",
      " [6.1 3.  4.9 1.8]\n",
      " [6.5 3.2 5.1 2. ]\n",
      " [5.  2.3 3.3 1. ]\n",
      " [6.8 3.2 5.9 2.3]\n",
      " [5.8 2.7 4.1 1. ]\n",
      " [6.1 2.6 5.6 1.4]\n",
      " [5.6 3.  4.1 1.3]\n",
      " [5.2 4.1 1.5 0.1]\n",
      " [6.7 3.1 4.7 1.5]\n",
      " [6.4 3.2 5.3 2.3]\n",
      " [5.5 3.5 1.3 0.2]\n",
      " [5.7 3.  4.2 1.2]\n",
      " [6.4 2.9 4.3 1.3]\n",
      " [6.  2.2 4.  1. ]\n",
      " [5.8 4.  1.2 0.2]\n",
      " [4.7 3.2 1.6 0.2]\n",
      " [5.8 2.7 5.1 1.9]\n",
      " [5.  3.3 1.4 0.2]\n",
      " [7.3 2.9 6.3 1.8]\n",
      " [6.4 3.2 4.5 1.5]\n",
      " [5.6 2.8 4.9 2. ]\n",
      " [4.6 3.6 1.  0.2]\n",
      " [4.6 3.1 1.5 0.2]\n",
      " [6.3 2.7 4.9 1.8]\n",
      " [6.2 2.8 4.8 1.8]\n",
      " [6.9 3.1 5.1 2.3]\n",
      " [6.5 3.  5.2 2. ]\n",
      " [6.5 2.8 4.6 1.5]\n",
      " [5.  2.  3.5 1. ]\n",
      " [5.1 3.7 1.5 0.4]\n",
      " [5.8 2.7 3.9 1.2]\n",
      " [5.6 2.5 3.9 1.1]\n",
      " [5.5 2.4 3.7 1. ]\n",
      " [6.7 3.3 5.7 2.1]\n",
      " [5.6 3.  4.5 1.5]\n",
      " [4.3 3.  1.1 0.1]\n",
      " [5.1 3.4 1.5 0.2]\n",
      " [6.3 3.3 6.  2.5]\n",
      " [5.  3.6 1.4 0.2]\n",
      " [7.7 3.8 6.7 2.2]\n",
      " [5.4 3.  4.5 1.5]\n",
      " [6.3 2.5 5.  1.9]\n",
      " [5.  3.5 1.3 0.3]\n",
      " [5.5 2.3 4.  1.3]\n",
      " [5.1 3.8 1.9 0.4]]\n",
      "[0. 1. 1. 1. 0. 1. 1. 1. 1. 0. 2. 2. 0. 2. 2. 1. 2. 0. 0. 2. 0. 0. 1. 1.\n",
      " 1. 0. 0. 1. 2. 2. 2. 0. 0. 0. 1. 0. 2. 1. 1. 1. 0. 2. 2. 0. 0. 1. 0. 1.\n",
      " 0. 1. 2. 2. 1. 1. 2. 2. 2. 1. 2. 1. 2. 1. 0. 1. 2. 0. 1. 1. 1. 0. 0. 2.\n",
      " 0. 2. 1. 2. 0. 0. 2. 2. 2. 2. 1. 1. 0. 1. 1. 1. 2. 1. 0. 0. 2. 0. 2. 1.\n",
      " 2. 0. 1. 0.]\n"
     ]
    }
   ],
   "source": [
    "donneesApp = shuffledIrisData[0:100]\n",
    "targetApp  = shuffledIrisTarget[0:100]\n",
    "print(donneesApp)\n",
    "print(targetApp)"
   ]
  },
  {
   "cell_type": "markdown",
   "metadata": {},
   "source": [
    "## <span style=\"color:brown; font-family:Gemesorgia; font-size:1.3em;\">données de dev </span>"
   ]
  },
  {
   "cell_type": "code",
   "execution_count": 8,
   "metadata": {
    "collapsed": false,
    "scrolled": true
   },
   "outputs": [
    {
     "name": "stdout",
     "output_type": "stream",
     "text": [
      "[[6.  2.2 5.  1.5]\n",
      " [6.4 2.7 5.3 1.9]\n",
      " [5.  3.5 1.6 0.6]\n",
      " [5.1 3.8 1.5 0.3]\n",
      " [6.2 2.9 4.3 1.3]\n",
      " [6.2 2.2 4.5 1.5]\n",
      " [4.4 3.2 1.3 0.2]\n",
      " [4.9 3.1 1.5 0.2]\n",
      " [6.  2.7 5.1 1.6]\n",
      " [6.3 2.8 5.1 1.5]\n",
      " [6.8 3.  5.5 2.1]\n",
      " [5.4 3.4 1.7 0.2]\n",
      " [6.7 3.  5.  1.7]\n",
      " [6.3 3.4 5.6 2.4]\n",
      " [5.7 4.4 1.5 0.4]\n",
      " [5.2 3.4 1.4 0.2]\n",
      " [7.7 2.6 6.9 2.3]\n",
      " [4.7 3.2 1.3 0.2]\n",
      " [7.  3.2 4.7 1.4]\n",
      " [5.7 2.9 4.2 1.3]\n",
      " [5.4 3.9 1.7 0.4]\n",
      " [6.7 3.1 5.6 2.4]\n",
      " [5.5 4.2 1.4 0.2]\n",
      " [4.4 3.  1.3 0.2]\n",
      " [6.8 2.8 4.8 1.4]\n",
      " [7.9 3.8 6.4 2. ]\n",
      " [7.7 3.  6.1 2.3]\n",
      " [4.4 2.9 1.4 0.2]\n",
      " [7.6 3.  6.6 2.1]\n",
      " [6.4 2.8 5.6 2.1]]\n",
      "[2. 2. 0. 0. 1. 1. 0. 0. 1. 2. 2. 0. 1. 2. 0. 0. 2. 0. 1. 1. 0. 2. 0. 0.\n",
      " 1. 2. 2. 0. 2. 2.]\n"
     ]
    }
   ],
   "source": [
    "donneesDev = shuffledIrisData[100:130]\n",
    "targetDev  = shuffledIrisTarget[100:130]\n",
    "print(donneesDev)\n",
    "print(targetDev)"
   ]
  },
  {
   "cell_type": "markdown",
   "metadata": {},
   "source": [
    "## <span style=\"color:brown; font-family:Gemesorgia; font-size:1.3em;\">données de test </span>"
   ]
  },
  {
   "cell_type": "code",
   "execution_count": 9,
   "metadata": {
    "collapsed": false,
    "scrolled": true
   },
   "outputs": [
    {
     "name": "stdout",
     "output_type": "stream",
     "text": [
      "[[7.4 2.8 6.1 1.9]\n",
      " [4.9 2.5 4.5 1.7]\n",
      " [6.9 3.1 4.9 1.5]\n",
      " [6.9 3.2 5.7 2.3]\n",
      " [5.4 3.7 1.5 0.2]\n",
      " [5.8 2.8 5.1 2.4]\n",
      " [6.  2.9 4.5 1.5]\n",
      " [6.7 2.5 5.8 1.8]\n",
      " [5.4 3.9 1.3 0.4]\n",
      " [5.9 3.2 4.8 1.8]\n",
      " [5.7 2.6 3.5 1. ]\n",
      " [6.  3.  4.8 1.8]\n",
      " [5.4 3.4 1.5 0.4]\n",
      " [4.9 3.  1.4 0.2]\n",
      " [5.7 2.8 4.1 1.3]\n",
      " [5.  3.  1.6 0.2]\n",
      " [6.3 2.3 4.4 1.3]\n",
      " [7.1 3.  5.9 2.1]\n",
      " [5.9 3.  5.1 1.8]\n",
      " [5.  3.4 1.5 0.2]]\n",
      "[2. 2. 1. 2. 0. 2. 1. 2. 0. 1. 1. 2. 0. 0. 1. 0. 1. 2. 2. 0.]\n"
     ]
    }
   ],
   "source": [
    "donneesTest = shuffledIrisData[130:150]\n",
    "targetTest  = shuffledIrisTarget[130:150]\n",
    "print(donneesTest)\n",
    "print(targetTest)"
   ]
  },
  {
   "cell_type": "markdown",
   "metadata": {},
   "source": [
    "# <span style=\"color:green; font-family:Georgia; font-size:0.8em;\"> 2. Phase d’apprentissage"
   ]
  },
  {
   "cell_type": "markdown",
   "metadata": {},
   "source": [
    "## <span style=\"color:brown; font-family:Gemesorgia; font-size:1.3em;\"> 2.1 probabilité à priori </span>"
   ]
  },
  {
   "cell_type": "code",
   "execution_count": 10,
   "metadata": {
    "collapsed": true
   },
   "outputs": [],
   "source": [
    "def probAPriori(target,classe):\n",
    "    cpt = 0\n",
    "    i=0\n",
    "    tailleTarget = len(target)\n",
    "    while i < tailleTarget:\n",
    "        if target[i] == classe :\n",
    "            cpt += 1\n",
    "        i += 1\n",
    "    return cpt/tailleTarget"
   ]
  },
  {
   "cell_type": "code",
   "execution_count": 11,
   "metadata": {
    "collapsed": false
   },
   "outputs": [
    {
     "name": "stdout",
     "output_type": "stream",
     "text": [
      "0.32\n",
      "0.37\n",
      "0.31\n"
     ]
    }
   ],
   "source": [
    "PprioriClasse0 = probAPriori(targetApp,0)\n",
    "PprioriClasse1 = probAPriori(targetApp,1)\n",
    "PprioriClasse2 = probAPriori(targetApp,2)\n",
    "print(PprioriClasse0)  # setosa\n",
    "print(PprioriClasse1)  # versicolor\n",
    "print(PprioriClasse2)  # virginica"
   ]
  },
  {
   "cell_type": "markdown",
   "metadata": {
    "collapsed": true
   },
   "source": [
    "## <span style=\"color:brown; font-family:Gemesorgia; font-size:1.3em;\"> 2.2 vraisemblances </span>"
   ]
  },
  {
   "cell_type": "code",
   "execution_count": 12,
   "metadata": {
    "collapsed": true
   },
   "outputs": [],
   "source": [
    "def moyenne(mat,target,classe):\n",
    "    dimension1 = 0.0\n",
    "    dimension2 = 0.0\n",
    "    dimension3 = 0.0\n",
    "    dimension4 = 0.0\n",
    "    cpt = 0\n",
    "    i = 0\n",
    "    while i < len(mat):\n",
    "        if target[i] == classe :     \n",
    "            dimension1 += mat[i,0]\n",
    "            dimension2 += mat[i,1]\n",
    "            dimension3 += mat[i,2]\n",
    "            dimension4 += mat[i,3]\n",
    "            cpt += 1\n",
    "        i += 1\n",
    "    dimension1 = dimension1/cpt\n",
    "    dimension2 = dimension2/cpt\n",
    "    dimension3 = dimension3/cpt\n",
    "    dimension4 = dimension4/cpt\n",
    "    return np.asarray([dimension1,dimension2,dimension3,dimension4])"
   ]
  },
  {
   "cell_type": "code",
   "execution_count": 13,
   "metadata": {
    "collapsed": false
   },
   "outputs": [
    {
     "name": "stdout",
     "output_type": "stream",
     "text": [
      "[4.971875 3.40625  1.459375 0.23125 ]\n",
      "[5.82972973 2.75405405 4.16756757 1.28918919]\n",
      "[6.54516129 3.01612903 5.51290323 2.02903226]\n"
     ]
    }
   ],
   "source": [
    "vectMoyenClasse0 = moyenne(donneesApp,targetApp,0) # setosa\n",
    "vectMoyenClasse1 = moyenne(donneesApp,targetApp,1) # versicolor\n",
    "vectMoyenClasse2 = moyenne(donneesApp,targetApp,2) # virginica\n",
    "print(vectMoyenClasse0)\n",
    "print(vectMoyenClasse1)\n",
    "print(vectMoyenClasse2)"
   ]
  },
  {
   "cell_type": "code",
   "execution_count": 14,
   "metadata": {
    "collapsed": true
   },
   "outputs": [],
   "source": [
    "def variance(mat,target,y,classe,attr):\n",
    "    i = 0\n",
    "    cpt = 0\n",
    "    res = 0\n",
    "    while i < len(mat):\n",
    "        if target[i] == classe :\n",
    "            res += (mat[i,attr]-y)**2\n",
    "            cpt += 1\n",
    "        i += 1\n",
    "    return res/cpt"
   ]
  },
  {
   "cell_type": "code",
   "execution_count": 46,
   "metadata": {
    "collapsed": false
   },
   "outputs": [
    {
     "name": "stdout",
     "output_type": "stream",
     "text": [
      "[0.10264648437500001, 0.11808593749999996, 0.037412109375, 0.0090234375]\n",
      "[0.2377647918188459, 0.09869978086194302, 0.19786705624543466, 0.032856099342585834]\n",
      "[0.2766701352757545, 0.08780437044745057, 0.25080124869927156, 0.07044745057232049]\n"
     ]
    }
   ],
   "source": [
    "varPLClasse0 = variance(donneesApp,targetApp,vectMoyenClasse0[0],0,0)\n",
    "varPWClasse0 = variance(donneesApp,targetApp,vectMoyenClasse0[1],0,1)\n",
    "varSLClasse0 = variance(donneesApp,targetApp,vectMoyenClasse0[2],0,2)\n",
    "varSWClasse0 = variance(donneesApp,targetApp,vectMoyenClasse0[3],0,3)\n",
    "variance0=[varPLClasse0,varPWClasse0,varSLClasse0,varSWClasse0]\n",
    "print(variance0)\n",
    "varPLClasse1 = variance(donneesApp,targetApp,vectMoyenClasse1[0],1,0)\n",
    "varPWClasse1 = variance(donneesApp,targetApp,vectMoyenClasse1[1],1,1)\n",
    "varSLClasse1 = variance(donneesApp,targetApp,vectMoyenClasse1[2],1,2)\n",
    "varSWClasse1 = variance(donneesApp,targetApp,vectMoyenClasse1[3],1,3)\n",
    "variance1 = [varPLClasse1,varPWClasse1,varSLClasse1,varSWClasse1]\n",
    "print(variance1)\n",
    "varPLClasse2 = variance(donneesApp,targetApp,vectMoyenClasse2[0],2,0)\n",
    "varPWClasse2 = variance(donneesApp,targetApp,vectMoyenClasse2[1],2,1)\n",
    "varSLClasse2 = variance(donneesApp,targetApp,vectMoyenClasse2[2],2,2)\n",
    "varSWClasse2 = variance(donneesApp,targetApp,vectMoyenClasse2[3],2,3)\n",
    "variance2 = [varPLClasse2,varPWClasse2,varSLClasse2,varSWClasse2]\n",
    "print(variance2)"
   ]
  },
  {
   "cell_type": "code",
   "execution_count": 47,
   "metadata": {
    "collapsed": true
   },
   "outputs": [],
   "source": [
    "def covariance(mat,target,vectM,classe):\n",
    "    i = 0\n",
    "    cpt = 0\n",
    "    covariance = 0\n",
    "    while i < len(mat):\n",
    "        if target[i] == classe:\n",
    "            covariance += (mat[i,0]-vectM[0])+(mat[i,1]-vectM[1])\n",
    "            cpt += 1\n",
    "        i += 1\n",
    "    return covariance/cpt"
   ]
  },
  {
   "cell_type": "code",
   "execution_count": 75,
   "metadata": {
    "collapsed": false
   },
   "outputs": [
    {
     "name": "stdout",
     "output_type": "stream",
     "text": [
      "4.85722573273506e-16\n",
      "1.0802169969325848e-16\n",
      "2.721837092629416e-16\n"
     ]
    }
   ],
   "source": [
    "covClasse0 = covariance(donneesApp,targetApp,vectMoyenClasse0,0) # setosa\n",
    "covClasse1 = covariance(donneesApp,targetApp,vectMoyenClasse1,1) # versicolor\n",
    "covClasse2 = covariance(donneesApp,targetApp,vectMoyenClasse2,2) # virginica\n",
    "print(covClasse0)\n",
    "print(covClasse1)\n",
    "print(covClasse2)"
   ]
  },
  {
   "cell_type": "code",
   "execution_count": 88,
   "metadata": {
    "collapsed": false
   },
   "outputs": [],
   "source": [
    "import math\n",
    "def probLoiGauss(x,moyenne,Mcov):\n",
    "    temp1 = np.linalg.inv(Mcov)\n",
    "    #print(temp1)\n",
    "    temp2 = np.transpose(moyenne-x)\n",
    "    #print(temp2)\n",
    "    temp3 = x-moyenne\n",
    "    #print(temp3)\n",
    "    print(\"---***---\")\n",
    "    #temp = np.iner(np.inner(temp2,temp1),temp3)\n",
    "    temp = np.inner(np.inner(temp2,temp3),(temp1))\n",
    "    resExp = math.exp(-0.5 * temp)\n",
    "    print(resExp)\n",
    "    temp4 = math.pow(np.linalg.norm(Mcov),0.5)\n",
    "    temp5 = (1 / (2*math.pi* temp4))\n",
    "    return temp5 * resExp\n"
   ]
  },
  {
   "cell_type": "code",
   "execution_count": 89,
   "metadata": {
    "collapsed": true
   },
   "outputs": [],
   "source": [
    "def probAPosteriori(elt,VariablesClasse,aPriori):\n",
    "    #return aPriori\n",
    "    return aPriori*probLoiGauss(elt,VariablesClasse[0],VariablesClasse[1])"
   ]
  },
  {
   "cell_type": "code",
   "execution_count": 92,
   "metadata": {
    "collapsed": false
   },
   "outputs": [],
   "source": [
    "def classifieur(elt,VariablesClasses0,VariablesClasses1,VariablesClasses2,ProbAPrioriClasses):\n",
    "    probAPostClasse0 = probAPosteriori(elt,VariablesClasses0,ProbAPrioriClasses[0])\n",
    "    probAPostClasse1 = probAPosteriori(elt,VariablesClasses1,ProbAPrioriClasses[1])\n",
    "    probAPostClasse2 = probAPosteriori(elt,VariablesClasses2,ProbAPrioriClasses[2])\n",
    "\n",
    "    if (probAPostClasse0 > probAPostClasse1) and (probAPostClasse0>probAPostClasse2):\n",
    "        return 0\n",
    "    elif (probAPostClasse1 > probAPostClasse0) and (probAPostClasse1>probAPostClasse2):\n",
    "        return 1\n",
    "    return 2"
   ]
  },
  {
   "cell_type": "code",
   "execution_count": 93,
   "metadata": {
    "collapsed": false,
    "scrolled": false
   },
   "outputs": [
    {
     "name": "stdout",
     "output_type": "stream",
     "text": [
      "[4.971875 3.40625  1.459375 0.23125 ]\n",
      "[5.82972973 2.75405405 4.16756757 1.28918919]\n",
      "[6.54516129 3.01612903 5.51290323 2.02903226]\n"
     ]
    },
    {
     "ename": "LinAlgError",
     "evalue": "0-dimensional array given. Array must be at least two-dimensional",
     "output_type": "error",
     "traceback": [
      "\u001b[0;31m---------------------------------------------------------------------------\u001b[0m",
      "\u001b[0;31mLinAlgError\u001b[0m                               Traceback (most recent call last)",
      "\u001b[0;32m<ipython-input-93-5640138ad571>\u001b[0m in \u001b[0;36m<module>\u001b[0;34m()\u001b[0m\n\u001b[1;32m     16\u001b[0m \u001b[0mtargetF\u001b[0m \u001b[0;34m=\u001b[0m\u001b[0;34m[\u001b[0m\u001b[0;34m]\u001b[0m\u001b[0;34m\u001b[0m\u001b[0m\n\u001b[1;32m     17\u001b[0m \u001b[0;32mwhile\u001b[0m\u001b[0;34m(\u001b[0m\u001b[0mcpt\u001b[0m \u001b[0;34m<\u001b[0m \u001b[0mlen\u001b[0m\u001b[0;34m(\u001b[0m\u001b[0mdonneesDev\u001b[0m\u001b[0;34m)\u001b[0m\u001b[0;34m)\u001b[0m\u001b[0;34m:\u001b[0m\u001b[0;34m\u001b[0m\u001b[0m\n\u001b[0;32m---> 18\u001b[0;31m     \u001b[0mclasse\u001b[0m \u001b[0;34m=\u001b[0m \u001b[0mclassifieur\u001b[0m\u001b[0;34m(\u001b[0m\u001b[0mdonneesDev\u001b[0m\u001b[0;34m[\u001b[0m\u001b[0mcpt\u001b[0m\u001b[0;34m]\u001b[0m\u001b[0;34m,\u001b[0m\u001b[0mVariablesClasses0\u001b[0m\u001b[0;34m,\u001b[0m\u001b[0mVariablesClasses1\u001b[0m\u001b[0;34m,\u001b[0m\u001b[0mVariablesClasses2\u001b[0m\u001b[0;34m,\u001b[0m\u001b[0mProbAPrioriClasses\u001b[0m\u001b[0;34m)\u001b[0m\u001b[0;34m\u001b[0m\u001b[0m\n\u001b[0m\u001b[1;32m     19\u001b[0m     \u001b[0mprint\u001b[0m\u001b[0;34m(\u001b[0m\u001b[0mdonneesDev\u001b[0m\u001b[0;34m[\u001b[0m\u001b[0mcpt\u001b[0m\u001b[0;34m]\u001b[0m \u001b[0;34m,\u001b[0m \u001b[0;34m' classe : '\u001b[0m\u001b[0;34m,\u001b[0m\u001b[0mclasse\u001b[0m\u001b[0;34m)\u001b[0m\u001b[0;34m\u001b[0m\u001b[0m\n\u001b[1;32m     20\u001b[0m     \u001b[0mtargetF\u001b[0m\u001b[0;34m.\u001b[0m\u001b[0mappend\u001b[0m\u001b[0;34m(\u001b[0m\u001b[0mclasse\u001b[0m\u001b[0;34m)\u001b[0m\u001b[0;34m\u001b[0m\u001b[0m\n",
      "\u001b[0;32m<ipython-input-92-02a9246aaa15>\u001b[0m in \u001b[0;36mclassifieur\u001b[0;34m(elt, VariablesClasses0, VariablesClasses1, VariablesClasses2, ProbAPrioriClasses)\u001b[0m\n\u001b[1;32m      1\u001b[0m \u001b[0;32mdef\u001b[0m \u001b[0mclassifieur\u001b[0m\u001b[0;34m(\u001b[0m\u001b[0melt\u001b[0m\u001b[0;34m,\u001b[0m\u001b[0mVariablesClasses0\u001b[0m\u001b[0;34m,\u001b[0m\u001b[0mVariablesClasses1\u001b[0m\u001b[0;34m,\u001b[0m\u001b[0mVariablesClasses2\u001b[0m\u001b[0;34m,\u001b[0m\u001b[0mProbAPrioriClasses\u001b[0m\u001b[0;34m)\u001b[0m\u001b[0;34m:\u001b[0m\u001b[0;34m\u001b[0m\u001b[0m\n\u001b[0;32m----> 2\u001b[0;31m     \u001b[0mprobAPostClasse0\u001b[0m \u001b[0;34m=\u001b[0m \u001b[0mprobAPosteriori\u001b[0m\u001b[0;34m(\u001b[0m\u001b[0melt\u001b[0m\u001b[0;34m,\u001b[0m\u001b[0mVariablesClasses0\u001b[0m\u001b[0;34m,\u001b[0m\u001b[0mProbAPrioriClasses\u001b[0m\u001b[0;34m[\u001b[0m\u001b[0;36m0\u001b[0m\u001b[0;34m]\u001b[0m\u001b[0;34m)\u001b[0m\u001b[0;34m\u001b[0m\u001b[0m\n\u001b[0m\u001b[1;32m      3\u001b[0m     \u001b[0mprobAPostClasse1\u001b[0m \u001b[0;34m=\u001b[0m \u001b[0mprobAPosteriori\u001b[0m\u001b[0;34m(\u001b[0m\u001b[0melt\u001b[0m\u001b[0;34m,\u001b[0m\u001b[0mVariablesClasses1\u001b[0m\u001b[0;34m,\u001b[0m\u001b[0mProbAPrioriClasses\u001b[0m\u001b[0;34m[\u001b[0m\u001b[0;36m1\u001b[0m\u001b[0;34m]\u001b[0m\u001b[0;34m)\u001b[0m\u001b[0;34m\u001b[0m\u001b[0m\n\u001b[1;32m      4\u001b[0m     \u001b[0mprobAPostClasse2\u001b[0m \u001b[0;34m=\u001b[0m \u001b[0mprobAPosteriori\u001b[0m\u001b[0;34m(\u001b[0m\u001b[0melt\u001b[0m\u001b[0;34m,\u001b[0m\u001b[0mVariablesClasses2\u001b[0m\u001b[0;34m,\u001b[0m\u001b[0mProbAPrioriClasses\u001b[0m\u001b[0;34m[\u001b[0m\u001b[0;36m2\u001b[0m\u001b[0;34m]\u001b[0m\u001b[0;34m)\u001b[0m\u001b[0;34m\u001b[0m\u001b[0m\n\u001b[1;32m      5\u001b[0m \u001b[0;34m\u001b[0m\u001b[0m\n",
      "\u001b[0;32m<ipython-input-89-5940ede26f21>\u001b[0m in \u001b[0;36mprobAPosteriori\u001b[0;34m(elt, VariablesClasse, aPriori)\u001b[0m\n\u001b[1;32m      1\u001b[0m \u001b[0;32mdef\u001b[0m \u001b[0mprobAPosteriori\u001b[0m\u001b[0;34m(\u001b[0m\u001b[0melt\u001b[0m\u001b[0;34m,\u001b[0m\u001b[0mVariablesClasse\u001b[0m\u001b[0;34m,\u001b[0m\u001b[0maPriori\u001b[0m\u001b[0;34m)\u001b[0m\u001b[0;34m:\u001b[0m\u001b[0;34m\u001b[0m\u001b[0m\n\u001b[1;32m      2\u001b[0m     \u001b[0;31m#return aPriori\u001b[0m\u001b[0;34m\u001b[0m\u001b[0;34m\u001b[0m\u001b[0m\n\u001b[0;32m----> 3\u001b[0;31m     \u001b[0;32mreturn\u001b[0m \u001b[0maPriori\u001b[0m\u001b[0;34m*\u001b[0m\u001b[0mprobLoiGauss\u001b[0m\u001b[0;34m(\u001b[0m\u001b[0melt\u001b[0m\u001b[0;34m,\u001b[0m\u001b[0mVariablesClasse\u001b[0m\u001b[0;34m[\u001b[0m\u001b[0;36m0\u001b[0m\u001b[0;34m]\u001b[0m\u001b[0;34m,\u001b[0m\u001b[0mVariablesClasse\u001b[0m\u001b[0;34m[\u001b[0m\u001b[0;36m1\u001b[0m\u001b[0;34m]\u001b[0m\u001b[0;34m)\u001b[0m\u001b[0;34m\u001b[0m\u001b[0m\n\u001b[0m",
      "\u001b[0;32m<ipython-input-88-a7c8f875d56e>\u001b[0m in \u001b[0;36mprobLoiGauss\u001b[0;34m(x, moyenne, Mcov)\u001b[0m\n\u001b[1;32m      1\u001b[0m \u001b[0;32mimport\u001b[0m \u001b[0mmath\u001b[0m\u001b[0;34m\u001b[0m\u001b[0m\n\u001b[1;32m      2\u001b[0m \u001b[0;32mdef\u001b[0m \u001b[0mprobLoiGauss\u001b[0m\u001b[0;34m(\u001b[0m\u001b[0mx\u001b[0m\u001b[0;34m,\u001b[0m\u001b[0mmoyenne\u001b[0m\u001b[0;34m,\u001b[0m\u001b[0mMcov\u001b[0m\u001b[0;34m)\u001b[0m\u001b[0;34m:\u001b[0m\u001b[0;34m\u001b[0m\u001b[0m\n\u001b[0;32m----> 3\u001b[0;31m     \u001b[0mtemp1\u001b[0m \u001b[0;34m=\u001b[0m \u001b[0mnp\u001b[0m\u001b[0;34m.\u001b[0m\u001b[0mlinalg\u001b[0m\u001b[0;34m.\u001b[0m\u001b[0minv\u001b[0m\u001b[0;34m(\u001b[0m\u001b[0mMcov\u001b[0m\u001b[0;34m)\u001b[0m\u001b[0;34m\u001b[0m\u001b[0m\n\u001b[0m\u001b[1;32m      4\u001b[0m     \u001b[0;31m#print(temp1)\u001b[0m\u001b[0;34m\u001b[0m\u001b[0;34m\u001b[0m\u001b[0m\n\u001b[1;32m      5\u001b[0m     \u001b[0mtemp2\u001b[0m \u001b[0;34m=\u001b[0m \u001b[0mnp\u001b[0m\u001b[0;34m.\u001b[0m\u001b[0mtranspose\u001b[0m\u001b[0;34m(\u001b[0m\u001b[0mmoyenne\u001b[0m\u001b[0;34m-\u001b[0m\u001b[0mx\u001b[0m\u001b[0;34m)\u001b[0m\u001b[0;34m\u001b[0m\u001b[0m\n",
      "\u001b[0;32m/home/dmousmane/.local/lib/python3.6/site-packages/numpy/linalg/linalg.py\u001b[0m in \u001b[0;36minv\u001b[0;34m(a)\u001b[0m\n\u001b[1;32m    524\u001b[0m     \"\"\"\n\u001b[1;32m    525\u001b[0m     \u001b[0ma\u001b[0m\u001b[0;34m,\u001b[0m \u001b[0mwrap\u001b[0m \u001b[0;34m=\u001b[0m \u001b[0m_makearray\u001b[0m\u001b[0;34m(\u001b[0m\u001b[0ma\u001b[0m\u001b[0;34m)\u001b[0m\u001b[0;34m\u001b[0m\u001b[0m\n\u001b[0;32m--> 526\u001b[0;31m     \u001b[0m_assertRankAtLeast2\u001b[0m\u001b[0;34m(\u001b[0m\u001b[0ma\u001b[0m\u001b[0;34m)\u001b[0m\u001b[0;34m\u001b[0m\u001b[0m\n\u001b[0m\u001b[1;32m    527\u001b[0m     \u001b[0m_assertNdSquareness\u001b[0m\u001b[0;34m(\u001b[0m\u001b[0ma\u001b[0m\u001b[0;34m)\u001b[0m\u001b[0;34m\u001b[0m\u001b[0m\n\u001b[1;32m    528\u001b[0m     \u001b[0mt\u001b[0m\u001b[0;34m,\u001b[0m \u001b[0mresult_t\u001b[0m \u001b[0;34m=\u001b[0m \u001b[0m_commonType\u001b[0m\u001b[0;34m(\u001b[0m\u001b[0ma\u001b[0m\u001b[0;34m)\u001b[0m\u001b[0;34m\u001b[0m\u001b[0m\n",
      "\u001b[0;32m/home/dmousmane/.local/lib/python3.6/site-packages/numpy/linalg/linalg.py\u001b[0m in \u001b[0;36m_assertRankAtLeast2\u001b[0;34m(*arrays)\u001b[0m\n\u001b[1;32m    202\u001b[0m         \u001b[0;32mif\u001b[0m \u001b[0ma\u001b[0m\u001b[0;34m.\u001b[0m\u001b[0mndim\u001b[0m \u001b[0;34m<\u001b[0m \u001b[0;36m2\u001b[0m\u001b[0;34m:\u001b[0m\u001b[0;34m\u001b[0m\u001b[0m\n\u001b[1;32m    203\u001b[0m             raise LinAlgError('%d-dimensional array given. Array must be '\n\u001b[0;32m--> 204\u001b[0;31m                     'at least two-dimensional' % a.ndim)\n\u001b[0m\u001b[1;32m    205\u001b[0m \u001b[0;34m\u001b[0m\u001b[0m\n\u001b[1;32m    206\u001b[0m \u001b[0;32mdef\u001b[0m \u001b[0m_assertSquareness\u001b[0m\u001b[0;34m(\u001b[0m\u001b[0;34m*\u001b[0m\u001b[0marrays\u001b[0m\u001b[0;34m)\u001b[0m\u001b[0;34m:\u001b[0m\u001b[0;34m\u001b[0m\u001b[0m\n",
      "\u001b[0;31mLinAlgError\u001b[0m: 0-dimensional array given. Array must be at least two-dimensional"
     ]
    }
   ],
   "source": [
    "MatCovClasse0 = np.asarray([[vectMoyenClasse0[0],covClasse0],[covClasse0,vectMoyenClasse0[1]]])\n",
    "MatCovClasse1 = np.asarray([[vectMoyenClasse1[0],covClasse1],[covClasse1,vectMoyenClasse1[1]]])\n",
    "MatCovClasse2 = np.asarray([[vectMoyenClasse2[0],covClasse2],[covClasse2,vectMoyenClasse2[1]]])\n",
    "#VariablesClasses0 = [vectMoyenClasse0,MatCovClasse0]\n",
    "#VariablesClasses1 = [vectMoyenClasse1,MatCovClasse1]\n",
    "#VariablesClasses2 = [vectMoyenClasse2,MatCovClasse2]\n",
    "VariablesClasses0 = [vectMoyenClasse0,MatCovClasse0]\n",
    "VariablesClasses1 = [vectMoyenClasse1,MatCovClasse1]\n",
    "VariablesClasses2 = [vectMoyenClasse2,MatCovClasse2]\n",
    "ProbAPrioriClasses = [PprioriClasse0,PprioriClasse1,PprioriClasse2]\n",
    "print(vectMoyenClasse0)\n",
    "print(vectMoyenClasse1)\n",
    "print(vectMoyenClasse2)\n",
    "\n",
    "cpt = 0\n",
    "targetF =[]\n",
    "while(cpt < len(donneesDev)):\n",
    "    classe = classifieur(donneesDev[cpt],VariablesClasses0,VariablesClasses1,VariablesClasses2,ProbAPrioriClasses)\n",
    "    print(donneesDev[cpt] , ' classe : ',classe)\n",
    "    targetF.append(classe)\n",
    "    cpt += 1\n",
    "print(targetDev)"
   ]
  },
  {
   "cell_type": "code",
   "execution_count": null,
   "metadata": {
    "collapsed": true
   },
   "outputs": [],
   "source": []
  },
  {
   "cell_type": "code",
   "execution_count": null,
   "metadata": {
    "collapsed": true
   },
   "outputs": [],
   "source": []
  },
  {
   "cell_type": "code",
   "execution_count": null,
   "metadata": {
    "collapsed": true
   },
   "outputs": [],
   "source": []
  },
  {
   "cell_type": "code",
   "execution_count": null,
   "metadata": {
    "collapsed": true
   },
   "outputs": [],
   "source": []
  },
  {
   "cell_type": "code",
   "execution_count": null,
   "metadata": {
    "collapsed": true
   },
   "outputs": [],
   "source": []
  },
  {
   "cell_type": "code",
   "execution_count": null,
   "metadata": {
    "collapsed": true
   },
   "outputs": [],
   "source": []
  }
 ],
 "metadata": {
  "kernelspec": {
   "display_name": "Python 3",
   "language": "python",
   "name": "python3"
  },
  "language_info": {
   "codemirror_mode": {
    "name": "ipython",
    "version": 3
   },
   "file_extension": ".py",
   "mimetype": "text/x-python",
   "name": "python",
   "nbconvert_exporter": "python",
   "pygments_lexer": "ipython3",
   "version": "3.6.3"
  }
 },
 "nbformat": 4,
 "nbformat_minor": 2
}
